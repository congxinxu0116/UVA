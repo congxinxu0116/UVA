{
 "cells": [
  {
   "cell_type": "markdown",
   "metadata": {},
   "source": [
    "# Homework 1\n",
    "\n",
    "*name: Congxin (David) Xu*\n",
    "    \n",
    "*computing id: cx2rx*"
   ]
  },
  {
   "cell_type": "markdown",
   "metadata": {},
   "source": [
    "# Asymptotic Complexity Exercise"
   ]
  },
  {
   "cell_type": "markdown",
   "metadata": {},
   "source": [
    "## Q1\n",
    "Given the following code snippets, provide the time complexity in the form of Big-O notation."
   ]
  },
  {
   "cell_type": "code",
   "execution_count": 1,
   "metadata": {},
   "outputs": [],
   "source": [
    "def measure(inputList):\n",
    "    n = len(inputList)\n",
    "    sum = 0;\n",
    "    for i in range(0, n):\n",
    "        for j in range(0, 5):\n",
    "            sum += j * inputList[i]\n",
    "        for k in range(0, n):\n",
    "            sum -= inputList[k]"
   ]
  },
  {
   "cell_type": "markdown",
   "metadata": {},
   "source": [
    "*The asymptotic complexity of this algorithm is:* $O(n^2)$"
   ]
  },
  {
   "cell_type": "code",
   "execution_count": 2,
   "metadata": {},
   "outputs": [],
   "source": [
    "def addElement(ele):\n",
    "    myList =[] \n",
    "    myList.append(666) \n",
    "    print(myList)"
   ]
  },
  {
   "cell_type": "markdown",
   "metadata": {},
   "source": [
    "*The asymptotic complexity of this algorithm is:* $O(1)$"
   ]
  },
  {
   "cell_type": "code",
   "execution_count": 3,
   "metadata": {},
   "outputs": [],
   "source": [
    "num = 10\n",
    "def addOnesToTestList(num):\n",
    "    testList = []\n",
    "    for i in range(0, num):\n",
    "        testList.append(1)\n",
    "        print(testList)\n",
    "    return testList"
   ]
  },
  {
   "cell_type": "markdown",
   "metadata": {},
   "source": [
    "*The asymptotic complexity of this algorithm is:* $O(n)$"
   ]
  },
  {
   "cell_type": "code",
   "execution_count": 4,
   "metadata": {},
   "outputs": [],
   "source": [
    "testList = [1, 43, 31, 21, 6, 96, 48, 13, 25, 5]\n",
    "def someMethod(testList):\n",
    "    for i in range(len(testList)):\n",
    "        for j in range(i+1, len(testList)):\n",
    "            if testList[j] < testList[i]:\n",
    "                testList[j], testList[i] = testList[i], testList[j]\n",
    "            print(testList)"
   ]
  },
  {
   "cell_type": "markdown",
   "metadata": {},
   "source": [
    "*The asymptotic complexity of this algorithm is:* $O(n^2)$"
   ]
  },
  {
   "cell_type": "code",
   "execution_count": 5,
   "metadata": {},
   "outputs": [],
   "source": [
    "def searchTarget(target_word):\n",
    "    for i in range_1:\n",
    "        for j in range_2:\n",
    "            for k in range_3:\n",
    "                if aList[k] == target_word:\n",
    "                    return 1\n",
    "        return -1\n",
    "    return -1"
   ]
  },
  {
   "cell_type": "markdown",
   "metadata": {},
   "source": [
    "*The asymptotic complexity of this algorithm is:* $O(1)$ since changing the size of `target_word` will not change the operating time of this function."
   ]
  },
  {
   "cell_type": "code",
   "execution_count": 6,
   "metadata": {},
   "outputs": [],
   "source": [
    "def someSearch(sortedList, target):\n",
    "    left = 0\n",
    "    right = len(sortedList) - 1\n",
    "    while (left <= right):\n",
    "        mid = (left + right)/2\n",
    "        if (sortedList(mid) == target):\n",
    "            return mid\n",
    "        elif(sortedList(mid) < target):\n",
    "            left = mid + 1\n",
    "        else:\n",
    "            right = mid - 1\n",
    "    return -1"
   ]
  },
  {
   "cell_type": "markdown",
   "metadata": {},
   "source": [
    "*The asymptotic complexity of this algorithm is:* $O(log (n))$"
   ]
  },
  {
   "cell_type": "markdown",
   "metadata": {},
   "source": [
    "## Q2\n",
    "> Using the definition of big-O, prove that if $f_1\\in O(g)$ and $f_2\\in O(g)$; then $f_1+f_2\\in O(g)$."
   ]
  },
  {
   "cell_type": "markdown",
   "metadata": {},
   "source": [
    "Since $f_1 \\in O(g(n))$, then there are positive constant $C_1$ and $N_1$ such that $0 \\leq f_1 \\leq C_1 g(n)$ for all $n > N_1$. \n",
    "\n",
    "Similarly, $f_2 \\in O(g(n))$, then there are positive constnats $C_2$ and $N_2$ such that $0 \\leq f_2 \\leq C_2 g(n)$ for all $n > N_2$.\n",
    "\n",
    "Therefore, let $C = C_1 + C_2$ and $N_0 = N_1 + N_2$, so we know that $C, N$ are positive constants as well. Therefore, \n",
    "$$0 \\leq f_1 + f_2 \\leq (C_1 + C_2) g(n) \\Rightarrow 0 \\leq f_1 + f_2 \\leq C g(n)$$\n",
    "for all $n > N_1 + N_2 \\enspace or \\enspace n > N_0$. \n",
    "\n",
    "Hence, we can conclude that given there is a positive constant $C$ and a real number $n$ such that $0 \\leq f_1 + f_2 \\leq C g(n)$, $f_1 + f_2 = O(g)$"
   ]
  },
  {
   "cell_type": "markdown",
   "metadata": {},
   "source": [
    "## Q3\n",
    "Consider the following functions of $n$:\n",
    "\t\n",
    "\t\n",
    "|$a:2^n$ | $b:2^{n+1}$ | $c:n^{1/(\\lg n)}$ | $d:\\sqrt{2}^{\\lg n}$|\n",
    "| --------------- | --------------- | --------------- | --------------- | \n",
    "|$e:7^n$ | $f:1$ | $g:n^2$ | $h:n$|\n",
    "| --------------- | --------------- | --------------- | --------------- | \n",
    "|$i:\\sqrt{n}$ | $j:\\lg n$ | $k:n!$ | $l:n\\lg n$|\n",
    "\n",
    "\n",
    "Arrange the functions according to ther order of growth, i.e., $f_1\\ge f_2\\ge \\cdots$ if $f_1\\in \\Omega(f_2), \\cdots$  and $f_1 \\equiv f_2$ if $f_1\\in \\Theta =(f_2)$.\n",
    "\t\n",
    "\t"
   ]
  },
  {
   "cell_type": "markdown",
   "metadata": {},
   "source": [
    "$$ k \\geq e \\geq a \\equiv b \\geq g \\geq l \\geq h \\geq i \\geq d \\geq j \\geq f \\equiv c$$"
   ]
  },
  {
   "cell_type": "markdown",
   "metadata": {},
   "source": [
    "## Q4\n",
    "Provide tight bounds of form $\\Theta(f(n))$ for Algorithm"
   ]
  },
  {
   "cell_type": "code",
   "execution_count": 7,
   "metadata": {},
   "outputs": [],
   "source": [
    "n = 10\n",
    "x, y = 0, 2\n",
    "for i in range(1,n):\n",
    "    for k in range(1,y):\n",
    "        x = x + y\n",
    "    y = y + y"
   ]
  },
  {
   "cell_type": "markdown",
   "metadata": {},
   "source": [
    "**Answer**: $\\Theta (f(n)) =  \\Theta(2^n)$"
   ]
  },
  {
   "cell_type": "markdown",
   "metadata": {},
   "source": [
    "## Q5\n",
    "### 1\n",
    "How many operations does it take to compute sample mean $\\bar{y}$ of $n$\n",
    "data points? What is the complexity of your solution? Include Python implementation."
   ]
  },
  {
   "cell_type": "code",
   "execution_count": 8,
   "metadata": {},
   "outputs": [],
   "source": [
    "# nums is a list of numbers \n",
    "# nums = [18,23,3,52,45,73,92]\n",
    "\n",
    "def avg(nums):\n",
    "    total = 0 # 1\n",
    "    for i in nums:\n",
    "        total += i # n\n",
    "    \n",
    "    return(total/len(nums)) # 2\n",
    "\n",
    "# avg(nums)"
   ]
  },
  {
   "cell_type": "markdown",
   "metadata": {},
   "source": [
    "It will took $n + 3$ operations to compute sample mean $\\bar{y}$. My solution has a complexity of $O(n)$."
   ]
  },
  {
   "cell_type": "markdown",
   "metadata": {},
   "source": [
    "### 2\n",
    "Assume you have computed $\\bar{y}$ of $n$\n",
    "data points, now $k$ additional data points are added. What is the least number of operation needed to compute the new sample mean? What is the complexity of your solution? Include Python implementation."
   ]
  },
  {
   "cell_type": "code",
   "execution_count": 9,
   "metadata": {},
   "outputs": [],
   "source": [
    "# B is a list of numbers \n",
    "# B = [12,46,26,12,51]\n",
    "\n",
    "def nextavg(sample_mean, n, B):\n",
    "    total = sample_mean * n # 1\n",
    "    for i in B:\n",
    "        total += i # k\n",
    "    return(total/ (n + len(B))) # 3\n",
    "\n",
    "# nextavg(avg(nums), len(nums), B)"
   ]
  },
  {
   "cell_type": "markdown",
   "metadata": {},
   "source": [
    "It will took $k + 4$ operations to compute sample mean $\\bar{y}$. My solution has a complexity of $O(k)$."
   ]
  },
  {
   "cell_type": "markdown",
   "metadata": {},
   "source": [
    "## Q6\n",
    "Repeat Question 5 for computing sample variance. Include Python implementation."
   ]
  },
  {
   "cell_type": "markdown",
   "metadata": {},
   "source": [
    "*Your answer*"
   ]
  },
  {
   "cell_type": "code",
   "execution_count": 10,
   "metadata": {},
   "outputs": [],
   "source": [
    "# nums is a list of numbers \n",
    "def var(nums):\n",
    "    mean = avg(nums) # n + 3\n",
    "    var = 0 # 1\n",
    "    for i in nums:\n",
    "        var += (mean - i)**2 # 3*n\n",
    "    return(var/(len(nums) - 1)) # 3"
   ]
  },
  {
   "cell_type": "markdown",
   "metadata": {},
   "source": [
    "It will took $4n + 7$ operations to compute the varaince. My solution has a complexity of $O(n)$."
   ]
  },
  {
   "cell_type": "code",
   "execution_count": 11,
   "metadata": {
    "scrolled": true
   },
   "outputs": [],
   "source": [
    "# sample_var is the variance of the old list\n",
    "# sample_mean is the mean of the old list\n",
    "# n is the length of the old list\n",
    "# B is the new list\n",
    "\n",
    "def next_var(sample_var, sample_mean, n, B):\n",
    "    \n",
    "    overall_mean = nextavg(sample_mean, n, B) # k + 4\n",
    "    \n",
    "    sample_sum_x_sq = (n - 1)*sample_var + n*pow(sample_mean,2) # 5\n",
    "    \n",
    "    for i in B:\n",
    "        sample_sum_x_sq += i**2 # 2k\n",
    "    \n",
    "    expected_x_sq = sample_sum_x_sq/(n + len(B)) # 3\n",
    "    \n",
    "    return((expected_x_sq - overall_mean**2) * (n + len(B)) /(n + len(B) - 1)) # 6"
   ]
  },
  {
   "cell_type": "markdown",
   "metadata": {},
   "source": [
    "It will took $3k + 18$ operations to compute the varaince. My solution has a complexity of $O(k)$."
   ]
  }
 ],
 "metadata": {
  "kernelspec": {
   "display_name": "Python 3",
   "language": "python",
   "name": "python3"
  },
  "language_info": {
   "codemirror_mode": {
    "name": "ipython",
    "version": 3
   },
   "file_extension": ".py",
   "mimetype": "text/x-python",
   "name": "python",
   "nbconvert_exporter": "python",
   "pygments_lexer": "ipython3",
   "version": "3.7.6"
  },
  "varInspector": {
   "cols": {
    "lenName": 16,
    "lenType": 16,
    "lenVar": 40
   },
   "kernels_config": {
    "python": {
     "delete_cmd_postfix": "",
     "delete_cmd_prefix": "del ",
     "library": "var_list.py",
     "varRefreshCmd": "print(var_dic_list())"
    },
    "r": {
     "delete_cmd_postfix": ") ",
     "delete_cmd_prefix": "rm(",
     "library": "var_list.r",
     "varRefreshCmd": "cat(var_dic_list()) "
    }
   },
   "types_to_exclude": [
    "module",
    "function",
    "builtin_function_or_method",
    "instance",
    "_Feature"
   ],
   "window_display": false
  }
 },
 "nbformat": 4,
 "nbformat_minor": 2
}
