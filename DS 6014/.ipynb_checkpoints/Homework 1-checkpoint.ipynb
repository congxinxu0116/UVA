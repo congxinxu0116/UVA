{
 "cells": [
  {
   "cell_type": "markdown",
   "metadata": {},
   "source": [
    "# Homework 1; Probability Review and Prior\n",
    "- Name: Congxin (David) \n",
    "- Computer ID: cx2rx\n",
    "\n",
    "### Question 1\n",
    "(20) You are a data science and are choosing between three approaches, A, B, and C, to a problem. With approach A, you will spend a total of **four** days coding and running an algorithm and it will not produce useful results. With approach B, you will spend a total of **three** days coding and running an algorithm and it will not produce useful results. With approach C, you will spend **one** day coding and running an algorithm and it will give the results you are looking for. You are equally likely to choose among unselected options. What is the expected time in days for you to obtain the results you are looking for? What is the variance on this time"
   ]
  },
  {
   "cell_type": "markdown",
   "metadata": {},
   "source": [
    "**Answer**\n",
    "\n",
    "Based on the information provided to us, there are total of 5 possible situations: \n",
    "\n",
    "|   x      |   C\t|   BC\t        |   AC\t        | ABC\t        | BAC              |\n",
    "|  --- \t   |  --- \t|   ---      \t|   ---\t        | ---           | ---              |\n",
    "| P(X = x) |   1/3\t|   1/6\t        |   1/6  \t    | 1/6        \t| 1/6              |\n",
    "\n",
    "Therefore, \n",
    "$$ \\begin{aligned}\n",
    "\\mu & = \\sum_{i = 0}^{5} x_i P (X = x_i) \\\\\n",
    "& = 1 \\times 1/3 + 4 \\times 1/6 + 5 \\times 1/6 + 8 \\times 1/6 + 8 \\times 1/6 \\\\\n",
    "& = 1/3 + 4/6 + 5/6 + 8/6 + 8/6 \\\\\n",
    "& = 4.5\n",
    "\\end{aligned} $$\n",
    "\n",
    "The expected time in days for me to obtian the results I am looking for will be **4.5** days. \n",
    "\n",
    "$$ \\begin{aligned} \n",
    "Var(X) &= \\sum_{i = 0}^{5} (x_i - \\mu)^2 p(X = x_i) \\\\\n",
    "& = (1 - 4.5)^2 \\times 1/3 + (4 - 4.5)^2 \\times 1/6 + (5 - 4.5)^2 \\times 1/6 + (8 - 4.5)^2 \\times 1/6 + (8 - 4.5)^2 \\times 1/6 \\\\\n",
    "& = 8.25\n",
    "\\end{aligned} $$\n",
    "\n",
    "The variance on this time is **8.25**. "
   ]
  },
  {
   "cell_type": "markdown",
   "metadata": {},
   "source": [
    "### Question 2\n",
    "(20) Suppose if it is sunny or not in Charlottesville depends on the weather\n",
    "of the last three days. Show how this can be modeled as a Markov chain.\n",
    "\n",
    "**Answer**\n",
    "Given the weather is sunny or not in Charlottesville depends on the weather of the last three days. Let S denote Sunny and N denote not sunny. We can get the following trasition matrix: \n",
    "\n",
    "|   Last Three Days\t|   Sunny (S)\t|   Not Sunny (N)\t| \n",
    "|:-\t                | ---\t        |---\t            |\n",
    "|   \t    SSS     |   P(SSSS)     |   P(SSSN)\t        |\n",
    "|   \t    NSS     |   P(NSSS)\t    |   P(NSSN)\t        |\n",
    "|           SNS    \t|   P(SNSS)\t    |   P(SNSN)\t        |\n",
    "|           SNS    \t|   P(SNSS)\t    |   P(SNSN)\t        |\n",
    "|           NNS    \t|   P(NNSS)\t    |   P(NNSN)\t        |\n",
    "|           NSN    \t|   P(NSNS)\t    |   P(NSNN)\t        |\n",
    "|           SNN    \t|   P(SNNS)\t    |   P(SNNN)\t        |\n",
    "|           NNN    \t|   P(NNNS)\t    |   P(NNNN)\t        |\n"
   ]
  },
  {
   "cell_type": "markdown",
   "metadata": {},
   "source": [
    "### Question 3\n",
    "(20) Assume a Gaussian distribution for observations, $Xi, i = 1, . . . , N$\n",
    "with unknown mean, M, and known variance 5. Suppose the prior for M\n",
    "is Gaussian with variance 10. How large a random sample must be taken\n",
    "(i.e., what is the minimum value for N) to specify an interval having unit\n",
    "length of 1 such that the probability that M lies in this interval is 0.95?\n",
    "\n",
    "**Answer**\n",
    "\n"
   ]
  },
  {
   "cell_type": "code",
   "execution_count": null,
   "metadata": {},
   "outputs": [],
   "source": []
  }
 ],
 "metadata": {
  "kernelspec": {
   "display_name": "Python 3",
   "language": "python",
   "name": "python3"
  },
  "language_info": {
   "codemirror_mode": {
    "name": "ipython",
    "version": 3
   },
   "file_extension": ".py",
   "mimetype": "text/x-python",
   "name": "python",
   "nbconvert_exporter": "python",
   "pygments_lexer": "ipython3",
   "version": "3.7.6"
  }
 },
 "nbformat": 4,
 "nbformat_minor": 4
}
