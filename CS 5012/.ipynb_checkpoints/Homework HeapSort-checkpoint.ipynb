{
 "cells": [
  {
   "cell_type": "markdown",
   "metadata": {},
   "source": [
    "# 5.6.2 Homework: HeapSort\n",
    "\n",
    "- Name: Congxin (David) Xu\n",
    "- Computing ID: cx2rx"
   ]
  },
  {
   "cell_type": "markdown",
   "metadata": {},
   "source": [
    "### Question 1: Create a Binary Search Tree\n",
    "#### Part 1\n",
    "- **List 1**: Leo, Hester, Ressie, Keira, Damian, Victor, Collin, Marci, Ashlie, Willis, Eric, Mya, Elizabeth, Ralph\n",
    "\n",
    "    1. List out the tree created by the add order of list 1 using post-order traversal.\n",
    "    2. If we removed the node containing Damian, what two values could we replace it with?\n",
    "    3. What if we removed the node containing Ressie?"
   ]
  },
  {
   "cell_type": "markdown",
   "metadata": {},
   "source": [
    "**Answer**\n",
    "\n",
    "1. [Ashlie, Collin, Elizabeth, Eric, Damian, Keira, Hester, Ralph, Mya, Marci, Willis, Victor, Ressie, Leo]\n",
    "2. The two values we could replace Damian with are *Collin* and *Elizabeth*.\n",
    "3. If we removed the node containing Ressie, we can replace it with *Victor*, or *Ralph*."
   ]
  },
  {
   "cell_type": "markdown",
   "metadata": {},
   "source": [
    "#### Part 2\n",
    "- **List 2**: Victor, Ralph, Leo, Mya, Eric, Elizabeth, Hester, Damian, Willis, Collin, Keira, Marci, Ashlie, Ressie\n",
    "\n",
    "    1. List out the tree created by the add order of list 2 using post-order traversal."
   ]
  },
  {
   "cell_type": "markdown",
   "metadata": {},
   "source": [
    "**Answer**\n",
    "1. [Ashlie, Collin, Damian, Elizabeth, Keira, Hester, Eric, Marci, Mya, Leo, Ressie, Ralph, Willis, Victor]"
   ]
  },
  {
   "cell_type": "markdown",
   "metadata": {},
   "source": [
    "#### Part 3\n",
    "- Compare the tree from list 1 with the tree from list 2, which do you think would perform better for the add and remove methods?\n",
    "\n",
    "**Answer**\n",
    "\n",
    "I think the List 1 is going to perform better for the add and remove methods because it is more balanced comparing List 2."
   ]
  },
  {
   "cell_type": "markdown",
   "metadata": {},
   "source": [
    "### Question 2\n",
    "Given an array A[1, ..., n], with distinct values and k with $1 \\leq k \\leq n$. We want to return the k smallest element of A[1, ...,n], in non-decreasing order. For example: A = [5, 4, 6, 2, 10] and $k = 4$, the algorithm returns [2, 4, 5, 6]. There are at least the following four approaches:\n",
    "\n",
    "1. heapify A and then extract k elements one by one;\n",
    "2. sort the array (e.g. using MergeSort or HeapSort) and then read the first k elements;\n",
    "3. apply the selection procedure k times to find the 1st, 2nd,..., the k’th smallest element;\n",
    "4. apply selection procedure to find the k’th smallest element, then use that element to find the k smallest elements, and then sort those k elements.\n",
    "\n",
    "For each approach, find the asymptotic worst-case running time which should\n",
    "be of the form $\\Theta(f(n, k))$.\n",
    "Now assume $k = \\sqrt{n}$. Then for each approach express the asymptotic\n",
    "running-time as a function of $n$ only."
   ]
  },
  {
   "cell_type": "markdown",
   "metadata": {},
   "source": [
    "**Answer**\n",
    "1. $\\Theta(f(n, k)) = \\Theta(k log n)$. If we assume $k = \\sqrt{n}$, then $\\Theta(f(n, k)) = \\Theta(\\sqrt{n} log n)$\n",
    "2. $\\Theta(f(n, k)) = \\Theta(n log n + k)$. If we assume $k = \\sqrt{n}$, then $\\Theta(f(n, k)) = \\Theta(n log n +\\sqrt{n}) = \\Theta(n log n + )$\n",
    "3. $\\Theta(f(n, k)) = \\Theta(k * n^2)$. If we assume $k = \\sqrt{n}$, then $\\Theta(f(n, k)) = \\Theta(\\sqrt{n} * n^2) = \\Theta(n^{5/2})$\n",
    "4. $\\Theta(f(n, k)) = \\Theta(n^2 + n + klogk) = \\Theta(n^2 + klogk)$. If we assume $k = \\sqrt{n}$, then $\\Theta(f(n, k)) = \\Theta(n^2 + \\sqrt{n}log\\sqrt{n}) = \\Theta(n^2)$."
   ]
  },
  {
   "cell_type": "markdown",
   "metadata": {},
   "source": [
    "### Question 3\n",
    "- Implement HeapSort. Submit your code in Jupyter notebook format along with some test results and discuss if your results are supporting the claim of $\\Theta(n lg n)$.\n",
    "- Compare the performance of HeapSort with MergeSort and Quick-Sort (no coding is required, however you can code if helps in your answer)."
   ]
  },
  {
   "cell_type": "code",
   "execution_count": 124,
   "metadata": {},
   "outputs": [],
   "source": [
    "class Heap:\n",
    "    def __init__(self, array):\n",
    "        self.array = array\n",
    "        self.length = len(array)\n",
    "        self.heap_size = len(self.array)\n",
    "           \n",
    "    def Left(self, i):\n",
    "        return 2*i + 1\n",
    "    \n",
    "    def Right(self,i):\n",
    "        return 2*i + 2"
   ]
  },
  {
   "cell_type": "code",
   "execution_count": 125,
   "metadata": {},
   "outputs": [],
   "source": [
    "def Max_Heapify(A, i):\n",
    "    l = A.Left(i)\n",
    "    r = A.Right(i)\n",
    "    \n",
    "    if l < A.heap_size and A.array[l] > A.array[i]:\n",
    "        largest = l\n",
    "    else:\n",
    "        largest = i\n",
    "    \n",
    "    if r < A.heap_size and A.array[r] > A.array[largest]:\n",
    "        largest = r\n",
    "    \n",
    "    if largest != i:\n",
    "        A.array[i], A.array[largest] = A.array[largest], A.array[i]"
   ]
  },
  {
   "cell_type": "code",
   "execution_count": 126,
   "metadata": {},
   "outputs": [],
   "source": [
    "def Build_Max_Heap(A):\n",
    "    A.heap_size = A.length\n",
    "    for i in range(A.length // 2 - 1, -1, -1):\n",
    "        Max_Heapify(A, i)"
   ]
  },
  {
   "cell_type": "code",
   "execution_count": 127,
   "metadata": {},
   "outputs": [],
   "source": [
    "def Heapsort(A):\n",
    "    Build_Max_Heap(A)\n",
    "    for i in range(A.length - 1, 0, -1):\n",
    "        A.array[0], A.array[i] = A.array[i], A.array[0]\n",
    "        A.heap_size -= 1\n",
    "        Max_Heapify(A, 1)\n",
    "        print(A.array)"
   ]
  },
  {
   "cell_type": "code",
   "execution_count": 128,
   "metadata": {},
   "outputs": [
    {
     "name": "stdout",
     "output_type": "stream",
     "text": [
      "[1, 14, 10, 8, 7, 9, 3, 2, 4, 16]\n",
      "[4, 14, 10, 8, 7, 9, 3, 2, 1, 16]\n",
      "[2, 14, 10, 8, 7, 9, 3, 4, 1, 16]\n",
      "[3, 14, 10, 8, 7, 9, 2, 4, 1, 16]\n",
      "[9, 14, 10, 8, 7, 3, 2, 4, 1, 16]\n",
      "[7, 14, 10, 8, 9, 3, 2, 4, 1, 16]\n",
      "[8, 14, 10, 7, 9, 3, 2, 4, 1, 16]\n",
      "[10, 14, 8, 7, 9, 3, 2, 4, 1, 16]\n",
      "[14, 10, 8, 7, 9, 3, 2, 4, 1, 16]\n"
     ]
    }
   ],
   "source": [
    "A = [16, 14, 10, 8, 7, 9, 3, 2, 4, 1]\n",
    "H = Heap(A)\n",
    "Heapsort(H)"
   ]
  },
  {
   "cell_type": "code",
   "execution_count": 129,
   "metadata": {},
   "outputs": [
    {
     "data": {
      "text/plain": [
       "[14, 10, 8, 7, 9, 3, 2, 4, 1, 16]"
      ]
     },
     "execution_count": 129,
     "metadata": {},
     "output_type": "execute_result"
    }
   ],
   "source": [
    "H.array"
   ]
  },
  {
   "cell_type": "code",
   "execution_count": 123,
   "metadata": {},
   "outputs": [
    {
     "data": {
      "text/plain": [
       "[16, 14, 10, 8, 7, 9, 3, 2, 4, 1]"
      ]
     },
     "execution_count": 123,
     "metadata": {},
     "output_type": "execute_result"
    }
   ],
   "source": [
    "A = [16, 14, 10, 8, 7, 9, 3, 2, 4, 1]\n",
    "H = Heap(A)\n",
    "Build_Max_Heap(H)\n",
    "H.array"
   ]
  },
  {
   "cell_type": "code",
   "execution_count": 102,
   "metadata": {},
   "outputs": [
    {
     "name": "stdout",
     "output_type": "stream",
     "text": [
      "4\n",
      "3\n",
      "2\n",
      "1\n",
      "0\n"
     ]
    }
   ],
   "source": [
    "for i in range(H.length // 2 - 1, -1, -1):\n",
    "    print(i)"
   ]
  }
 ],
 "metadata": {
  "kernelspec": {
   "display_name": "Python 3",
   "language": "python",
   "name": "python3"
  },
  "language_info": {
   "codemirror_mode": {
    "name": "ipython",
    "version": 3
   },
   "file_extension": ".py",
   "mimetype": "text/x-python",
   "name": "python",
   "nbconvert_exporter": "python",
   "pygments_lexer": "ipython3",
   "version": "3.7.6"
  }
 },
 "nbformat": 4,
 "nbformat_minor": 4
}
