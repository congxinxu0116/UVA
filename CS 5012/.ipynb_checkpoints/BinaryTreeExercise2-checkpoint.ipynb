{
 "cells": [
  {
   "cell_type": "code",
   "execution_count": 17,
   "metadata": {},
   "outputs": [],
   "source": [
    "class Node: # Node class, internal to BinaryTree\n",
    "    def __init__ (self, val, left=None,right = None):\n",
    "        self.val= val # data item\n",
    "        self.left= left # left child\n",
    "        self.right= right # right child\n",
    "    \n",
    "    def getVal(self):\n",
    "        return self.val\n",
    "    \n",
    "    def setVal(self, newval):\n",
    "        self.val = newval\n",
    "    \n",
    "    def setLeft (self,newleft):\n",
    "        self.left = newleft\n",
    "    \n",
    "    def setRight(self,newright):\n",
    "        self.right = newright\n",
    "        \n",
    "        \n",
    "class BinaryTree:\n",
    "    def __init__(self, root=None):\n",
    "        self.root = root # identifying the root of the tree\n",
    "        self.root = Node(self.root)\n",
    "    def Node(self, val):\n",
    "        return(Node(val))"
   ]
  },
  {
   "cell_type": "code",
   "execution_count": 18,
   "metadata": {},
   "outputs": [],
   "source": [
    "BinarySearchTree = BinaryTree()\n",
    "\n",
    "theRoot = BinarySearchTree.Node(3) \n",
    "n1  = BinarySearchTree.Node(1)\n",
    "n2  = BinarySearchTree.Node(2)\n",
    "n11 = BinarySearchTree.Node(11)\n",
    "n5  = BinarySearchTree.Node(5)\n",
    "n6  = BinarySearchTree.Node(6)\n",
    "n9  = BinarySearchTree.Node(9)"
   ]
  },
  {
   "cell_type": "code",
   "execution_count": 20,
   "metadata": {},
   "outputs": [],
   "source": [
    "myTree = BinaryTree(theRoot)\n",
    "\n",
    "myTree.root.setLeft(n1)\n",
    "myTree.root.setRight(n6)\n",
    "n1.setLeft(n2)\n",
    "n4.setRight(n11)\n",
    "n6.setLeft(n9)\n",
    "n6.setRight(n5)"
   ]
  },
  {
   "cell_type": "code",
   "execution_count": null,
   "metadata": {},
   "outputs": [],
   "source": []
  }
 ],
 "metadata": {
  "kernelspec": {
   "display_name": "Python 3",
   "language": "python",
   "name": "python3"
  },
  "language_info": {
   "codemirror_mode": {
    "name": "ipython",
    "version": 3
   },
   "file_extension": ".py",
   "mimetype": "text/x-python",
   "name": "python",
   "nbconvert_exporter": "python",
   "pygments_lexer": "ipython3",
   "version": "3.7.6"
  }
 },
 "nbformat": 4,
 "nbformat_minor": 4
}
