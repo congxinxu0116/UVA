{
 "cells": [
  {
   "cell_type": "markdown",
   "metadata": {},
   "source": [
    "# Module 3 Homework\n",
    "- Name: Congxin (David) Xu\n",
    "- Computing ID: cx2rx\n",
    "\n",
    "### 3.6.2 Homework: Computing order statistics (Randomized Selection Algorithm)\n",
    "Computing the $j$th order statistic, i.e., the $j$th smallest element of $A[1..n]$ can be done effectively. Describe and implement (in Python) this algorithm and discuss its complexity. "
   ]
  },
  {
   "cell_type": "code",
   "execution_count": 27,
   "metadata": {},
   "outputs": [],
   "source": [
    "import random\n",
    "\n",
    "def partition(A, p, r):\n",
    "    x = A[r]\n",
    "    i = p - 1\n",
    "    \n",
    "    for j in range(p, r):\n",
    "        if A[j] <= x:\n",
    "            i += 1\n",
    "            A[i], A[j] = A[j], A[i]\n",
    "#             print(A)\n",
    "    \n",
    "    A[i+1], A[r] = A[r], A[i+1]\n",
    "#     print(A)\n",
    "    return i + 1\n",
    "    \n",
    "# A = [2,8,7,1,3,5,6,4]\n",
    "# partition(A, 0, 7)"
   ]
  },
  {
   "cell_type": "code",
   "execution_count": 28,
   "metadata": {},
   "outputs": [],
   "source": [
    "def randommizedPartition(A, p, r):\n",
    "    i = random.randint(p, r)\n",
    "    A[r], A[i] = A[i], A[r]\n",
    "#     print(A)\n",
    "    return partition(A, p ,r)\n",
    "# A = [2,8,7,1,3,5,6,4]\n",
    "# randommizedPartition(A, 0, 6)"
   ]
  },
  {
   "cell_type": "code",
   "execution_count": 54,
   "metadata": {},
   "outputs": [],
   "source": [
    "def ithSmallest(A, i, p = 0, r = len(A) - 1):\n",
    "    if p == r:\n",
    "        return A[p]\n",
    "    q = randommizedPartition(A, p, r)\n",
    "    k = q - p + 1 \n",
    "    if i == k:\n",
    "        return A[q]\n",
    "    elif i < k:\n",
    "        return ithSmallest(A = A, i = i, p = p, r = q - 1)\n",
    "    else:\n",
    "        return ithSmallest(A = A, i = i - k, p = q + 1, r = r)\n",
    "\n",
    "# A = [1,6,6,6,2,2,0,3,4,5,6,6,6]\n",
    "\n",
    "# for i in range(1, len(A)):\n",
    "#     print(ithSmallest(A, i = i))"
   ]
  },
  {
   "cell_type": "markdown",
   "metadata": {},
   "source": [
    "### 3.6.3 Homework: 2-SUM problem\n",
    "The 2-SUM problem is introduced here. Implement this algorithm in Python using hash tables."
   ]
  },
  {
   "cell_type": "code",
   "execution_count": 26,
   "metadata": {},
   "outputs": [],
   "source": [
    "def twoSum(array, target):\n",
    "    \n",
    "    h = dict()\n",
    "    for index, value in enumerate(array):\n",
    "        diff = target - value\n",
    "        if (diff in h):\n",
    "            return [h[diff], i]\n",
    "        else:\n",
    "            h[value] = index\n",
    "        print(h)\n",
    "\n",
    "\n"
   ]
  },
  {
   "cell_type": "code",
   "execution_count": 28,
   "metadata": {},
   "outputs": [
    {
     "name": "stdout",
     "output_type": "stream",
     "text": [
      "{2: 0}\n",
      "{2: 0, 45: 1}\n",
      "{2: 0, 45: 1, 6: 2}\n",
      "{2: 0, 45: 1, 6: 2, 23: 3}\n",
      "{2: 0, 45: 1, 6: 4, 23: 3}\n",
      "{2: 0, 45: 1, 6: 4, 23: 3, 734: 5}\n",
      "{2: 0, 45: 1, 6: 4, 23: 3, 734: 5, 35: 6}\n"
     ]
    },
    {
     "data": {
      "text/plain": [
       "False"
      ]
     },
     "execution_count": 28,
     "metadata": {},
     "output_type": "execute_result"
    }
   ],
   "source": [
    "A = [2,45,6,23,6,734,35,12,234]\n",
    "target = 45+12\n",
    "\n",
    "check = twoSum(A, target)\n",
    "\n",
    "s = 0\n",
    "for i in check:\n",
    "    s += A[i]\n",
    "s == target"
   ]
  },
  {
   "cell_type": "code",
   "execution_count": 21,
   "metadata": {},
   "outputs": [
    {
     "name": "stdout",
     "output_type": "stream",
     "text": [
      "0 1\n",
      "1 2\n",
      "2 3\n",
      "3 4\n"
     ]
    }
   ],
   "source": [
    "x = enumerate(A)\n",
    "for index, value in enumerate(A):\n",
    "    print(index, value)"
   ]
  }
 ],
 "metadata": {
  "kernelspec": {
   "display_name": "Python 3",
   "language": "python",
   "name": "python3"
  },
  "language_info": {
   "codemirror_mode": {
    "name": "ipython",
    "version": 3
   },
   "file_extension": ".py",
   "mimetype": "text/x-python",
   "name": "python",
   "nbconvert_exporter": "python",
   "pygments_lexer": "ipython3",
   "version": "3.7.6"
  }
 },
 "nbformat": 4,
 "nbformat_minor": 4
}
