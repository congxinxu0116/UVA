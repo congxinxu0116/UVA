{
 "cells": [
  {
   "cell_type": "markdown",
   "metadata": {},
   "source": [
    "## Intro to Baysain Parameter Inference with pymc3 "
   ]
  },
  {
   "cell_type": "code",
   "execution_count": 3,
   "metadata": {},
   "outputs": [
    {
     "name": "stderr",
     "output_type": "stream",
     "text": [
      "WARNING (theano.configdefaults): g++ not available, if using conda: `conda install m2w64-toolchain`\n",
      "C:\\ProgramData\\Anaconda3\\lib\\site-packages\\theano\\configdefaults.py:560: UserWarning: DeprecationWarning: there is no c++ compiler.This is deprecated and with Theano 0.11 a c++ compiler will be mandatory\n",
      "  warnings.warn(\"DeprecationWarning: there is no c++ compiler.\"\n",
      "WARNING (theano.configdefaults): g++ not detected ! Theano will be unable to execute optimized C-implementations (for both CPU and GPU) and will default to Python implementations. Performance will be severely degraded. To remove this warning, set Theano flags cxx to an empty string.\n",
      "WARNING (theano.tensor.blas): Using NumPy C-API based implementation for BLAS functions.\n"
     ]
    }
   ],
   "source": [
    "import pymc4 as pm\n",
    "import numpy as np\n",
    "import matplotlib.pyplot as plt"
   ]
  },
  {
   "cell_type": "code",
   "execution_count": 2,
   "metadata": {},
   "outputs": [
    {
     "name": "stdout",
     "output_type": "stream",
     "text": [
      "Collecting pymc3\n",
      "  Downloading pymc3-3.9.3-py3-none-any.whl (1.9 MB)\n",
      "Requirement already satisfied: h5py>=2.7.0 in c:\\programdata\\anaconda3\\lib\\site-packages (from pymc3) (2.10.0)\n",
      "Collecting fastprogress>=0.2.0\n",
      "  Downloading fastprogress-1.0.0-py3-none-any.whl (12 kB)\n",
      "Requirement already satisfied: scipy>=0.18.1 in c:\\programdata\\anaconda3\\lib\\site-packages (from pymc3) (1.4.1)\n",
      "Collecting arviz>=0.9.0\n",
      "  Downloading arviz-0.10.0-py3-none-any.whl (1.5 MB)\n",
      "Requirement already satisfied: patsy>=0.5.1 in c:\\programdata\\anaconda3\\lib\\site-packages (from pymc3) (0.5.1)\n",
      "Collecting typing-extensions>=3.7.4\n",
      "  Downloading typing_extensions-3.7.4.3-py3-none-any.whl (22 kB)\n",
      "Requirement already satisfied: pandas>=0.18.0 in c:\\programdata\\anaconda3\\lib\\site-packages (from pymc3) (1.0.1)\n",
      "Requirement already satisfied: numpy>=1.13.0 in c:\\programdata\\anaconda3\\lib\\site-packages (from pymc3) (1.18.1)\n",
      "Collecting theano>=1.0.5\n",
      "  Downloading Theano-1.0.5.tar.gz (2.8 MB)\n",
      "Requirement already satisfied: six in c:\\programdata\\anaconda3\\lib\\site-packages (from h5py>=2.7.0->pymc3) (1.14.0)\n",
      "Collecting netcdf4\n",
      "  Downloading netCDF4-1.5.4-cp37-cp37m-win_amd64.whl (3.1 MB)\n",
      "Requirement already satisfied: matplotlib>=3.0 in c:\\programdata\\anaconda3\\lib\\site-packages (from arviz>=0.9.0->pymc3) (3.1.3)\n",
      "Requirement already satisfied: packaging in c:\\programdata\\anaconda3\\lib\\site-packages (from arviz>=0.9.0->pymc3) (20.1)\n",
      "Collecting xarray>=0.16.1\n",
      "  Downloading xarray-0.16.1-py3-none-any.whl (720 kB)\n",
      "Requirement already satisfied: setuptools>=38.4 in c:\\programdata\\anaconda3\\lib\\site-packages (from arviz>=0.9.0->pymc3) (45.2.0.post20200210)\n",
      "Requirement already satisfied: python-dateutil>=2.6.1 in c:\\programdata\\anaconda3\\lib\\site-packages (from pandas>=0.18.0->pymc3) (2.8.1)\n",
      "Requirement already satisfied: pytz>=2017.2 in c:\\programdata\\anaconda3\\lib\\site-packages (from pandas>=0.18.0->pymc3) (2019.3)\n",
      "Collecting cftime\n",
      "  Downloading cftime-1.2.1-cp37-none-win_amd64.whl (193 kB)\n",
      "Requirement already satisfied: pyparsing!=2.0.4,!=2.1.2,!=2.1.6,>=2.0.1 in c:\\programdata\\anaconda3\\lib\\site-packages (from matplotlib>=3.0->arviz>=0.9.0->pymc3) (2.4.6)\n",
      "Requirement already satisfied: cycler>=0.10 in c:\\programdata\\anaconda3\\lib\\site-packages (from matplotlib>=3.0->arviz>=0.9.0->pymc3) (0.10.0)\n",
      "Requirement already satisfied: kiwisolver>=1.0.1 in c:\\programdata\\anaconda3\\lib\\site-packages (from matplotlib>=3.0->arviz>=0.9.0->pymc3) (1.1.0)\n",
      "Building wheels for collected packages: theano\n",
      "  Building wheel for theano (setup.py): started\n",
      "  Building wheel for theano (setup.py): finished with status 'done'\n",
      "  Created wheel for theano: filename=Theano-1.0.5-py3-none-any.whl size=2668111 sha256=4479e54203f6b6f1910082423fd2fd275b0d1075e56acef3e26525a44c03e0bc\n",
      "  Stored in directory: c:\\users\\dada\\appdata\\local\\pip\\cache\\wheels\\26\\68\\6f\\745330367ce7822fe0cd863712858151f5723a0a5e322cc144\n",
      "Successfully built theano\n",
      "Installing collected packages: fastprogress, cftime, netcdf4, xarray, arviz, typing-extensions, theano, pymc3\n",
      "Successfully installed arviz-0.10.0 cftime-1.2.1 fastprogress-1.0.0 netcdf4-1.5.4 pymc3-3.9.3 theano-1.0.5 typing-extensions-3.7.4.3 xarray-0.16.1\n"
     ]
    }
   ],
   "source": [
    "!pip install pymc3"
   ]
  }
 ],
 "metadata": {
  "kernelspec": {
   "display_name": "Python 3",
   "language": "python",
   "name": "python3"
  },
  "language_info": {
   "codemirror_mode": {
    "name": "ipython",
    "version": 3
   },
   "file_extension": ".py",
   "mimetype": "text/x-python",
   "name": "python",
   "nbconvert_exporter": "python",
   "pygments_lexer": "ipython3",
   "version": "3.7.6"
  }
 },
 "nbformat": 4,
 "nbformat_minor": 4
}
