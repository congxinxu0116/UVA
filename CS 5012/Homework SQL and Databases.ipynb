{
 "cells": [
  {
   "cell_type": "markdown",
   "metadata": {},
   "source": [
    "# 9.6 Homework: SQL and Databases\n",
    "- Name: Congxin (David) Xu\n",
    "- Computing ID: cx2rx\n",
    "\n",
    "### Question 1\n",
    "Write the following queries in SQL, using the university schema.\n",
    "\n",
    "- a. Find the ID and name of each student who has taken at least one Comp. Sci. course; make sure there are no duplicate names in the result.\n",
    "- b. Find the ID and name of each student who has not taken any course offered before Spring 2009.\n",
    "- c. For each department, find the maximum salary of instructors in that department. You may assume that every department has at least one instructor.\n",
    "- d. Find the lowest, across all departments, of the per-department maximum salary computed by the preceding query.\n",
    "\n",
    "<img src=\"University Schema.png\" width=\"1000\">"
   ]
  },
  {
   "cell_type": "markdown",
   "metadata": {},
   "source": [
    "**Answer**\n",
    "\n",
    "**Part a**: Find the ID and name of each student who has taken at least one Comp. Sci. course; make sure there are no duplicate names in the result.\n",
    "```\n",
    "select s.id, s.name from student s \n",
    "inner join (\n",
    "select distinct ID from takes\n",
    "where course_id like '%CS%') t\n",
    "on s.id = t.id\n",
    "```"
   ]
  },
  {
   "cell_type": "markdown",
   "metadata": {},
   "source": [
    "**Part b**: Find the ID and name of each student who has not taken any course offered before Spring 2009.\n",
    "```\n",
    "select distinct s.id, s.name from student s\n",
    "inner join (select distinct id from takes \n",
    "\t\t\twhere year > 2009 \n",
    "\t\t\tor (year = 2009 and semester != 'Spring')) t\n",
    "on s.id = t.id\n",
    "order by s.id\n",
    "```"
   ]
  },
  {
   "cell_type": "markdown",
   "metadata": {},
   "source": [
    "**Part c**: For each department, find the maximum salary of instructors in that department. You may assume that every department has at least one instructor.\n",
    "```\n",
    "select instructor.name, instructor.dept_name, m.max_salary from instructor\n",
    "inner join (select dept_name, max(salary) as max_salary from instructor\n",
    "            group by dept_name) m\n",
    "on instructor.dept_name = m.dept_name\n",
    "and instructor.salary = m.max_salary\n",
    "```"
   ]
  },
  {
   "cell_type": "markdown",
   "metadata": {},
   "source": [
    "**Part d**: Find the lowest, across all departments, of the per-department maximum salary computed by the preceding query.\n",
    "```\n",
    "select instructor.name, instructor.dept_name, instructor.salary from instructor\n",
    "inner join (select dept_name, max(salary) as max_salary from instructor\n",
    "            group by dept_name) m\n",
    "on instructor.dept_name = m.dept_name\n",
    "and instructor.salary = m.max_salary\n",
    "order by salary asc\n",
    "limit 1\n",
    "```"
   ]
  },
  {
   "cell_type": "markdown",
   "metadata": {},
   "source": [
    "### Question 2\n",
    "Write the SQL statements using the university schema to perform the following operations:\n",
    "- a. Create a new course “CS-001”, titled “Weekly Seminar”, with 0 credits.\n",
    "- b. Create a section of this course in Fall 2017, with sec id of 1, and with the location of this section not yet specified.\n",
    "- c. Enroll every student in the Comp. Sci. department in the above section.\n",
    "- d. Delete enrollments in the above section where the student’s ID is 12345.\n",
    "- f. Delete all takes tuples corresponding to any section of any course with\n",
    "the word “advanced” as a part of the title; ignore case when matching the\n",
    "word with the title."
   ]
  },
  {
   "cell_type": "markdown",
   "metadata": {},
   "source": [
    "**Part a**: Create a new course “CS-001”, titled “Weekly Seminar”, with 0 credits.\n",
    "```\n",
    "INSERT INTO course (course_id, title, dept_name, credits)\n",
    "VALUES ('CS-001', 'Weekly Seminar', 'Comp. Sci.', 0);\n",
    "```"
   ]
  },
  {
   "cell_type": "markdown",
   "metadata": {},
   "source": [
    "**Part b**: Create a section of this course in Fall 2009, with sec id of 1, and with the location of this section not yet specified.\n",
    "```\n",
    "INSERT INTO section (course_id, sec_id, semester, year)\n",
    "VALUES ('CS-001', '1', 'Fall', 2009);\n",
    "```"
   ]
  },
  {
   "cell_type": "markdown",
   "metadata": {},
   "source": [
    "**Part c**: Enroll every student in the Comp. Sci. department in the above section.\n",
    "```\n",
    "INSERT INTO takes (ID, course_id, sec_id, semester, year)\n",
    "SELECT ID, 'CS-001' as course_id, '1' as sec_id, 'Fall' as semester, 2009 as year FROM student\n",
    "where dept_name = 'Comp. Sci.'\n",
    "```"
   ]
  },
  {
   "cell_type": "markdown",
   "metadata": {},
   "source": [
    "**Part d**: Delete enrollments in the above section where the student’s name is Chavez.\n",
    "```\n",
    "DELETE FROM takes\n",
    "WHERE course_id = 'CS-001' AND sec_id = 1 AND semester = 'Fall' AND year = 2009\n",
    "AND ID IN \n",
    "(SELECT ID\n",
    "FROM student\n",
    "WHERE name = 'Chavez')\n",
    "```"
   ]
  },
  {
   "cell_type": "markdown",
   "metadata": {},
   "source": [
    "**Part f**: Delete all takes tuples corresponding to any section of any course with the word “database” as a part of the title; ignore case when matching the word with the title.\n",
    "```\n",
    "delete from takes\n",
    "where course_id in (select course_id from course\n",
    "                    where lower(title) like '%database%');\n",
    "```"
   ]
  },
  {
   "cell_type": "markdown",
   "metadata": {},
   "source": [
    "### Question 3\n",
    "Write SQL DDL corresponding to the schema in Figure 3.17. Make any reasonable assumptions about data types, and be sure to declare primary and foreign keys.\n",
    "\n",
    "**Figure 3.17: Insurance database**\n",
    "```\n",
    "person (driver_id, name, address)\n",
    "car (license_plate, model, year)\n",
    "accident (report_number, year, location)\n",
    "owns (driver_id, license_plate)\n",
    "participated (report_number, license_plate, driver_id, damage_amount)\n",
    "```"
   ]
  },
  {
   "cell_type": "markdown",
   "metadata": {},
   "source": [
    "**Answer**\n",
    "```\n",
    "create table person\n",
    "   (driver_id     varchar (50),\n",
    "    name          varchar (50),\n",
    "    address       varchar (200),\n",
    "    primary key (driver_id));\n",
    "   \n",
    "create table car\n",
    "   (license           varchar (10),\n",
    "    model             varchar (50),\n",
    "    year              numeric (4,0),\n",
    "    primary key (license));\n",
    "    \n",
    "create table accident\n",
    "   (report_number     numeric (50, 0),\n",
    "    date              datetime,\n",
    "    location          varchar (200),\n",
    "    primary key (report_number));\n",
    "```"
   ]
  },
  {
   "cell_type": "markdown",
   "metadata": {},
   "source": [
    "```\n",
    "create table owns\n",
    "   (driver_id         varchar (50),\n",
    "    license           varchar (10),\n",
    "    primary key (driver_id, license),\n",
    "    foreign key (driver_id) references person\n",
    "        on delete cascade,\n",
    "    foreign key (license) references car\n",
    "        on delete cascade);\n",
    "        \n",
    "create table participated\n",
    "   (report_number     numeric (50, 0),\n",
    "    license           varchar (10),\n",
    "    driver_id         varchar (50),\n",
    "    damage_amount     numeric (10,0)\n",
    "    primary key (report_number, license),\n",
    "    foreign key (report_number) references accident\n",
    "        on delete cascade,\n",
    "    foreign key (license) references car\n",
    "        on delete cascade);\n",
    "    foreign key (driver_id) references person\n",
    "        on delete cascade,\n",
    "```"
   ]
  }
 ],
 "metadata": {
  "kernelspec": {
   "display_name": "Python 3",
   "language": "python",
   "name": "python3"
  },
  "language_info": {
   "codemirror_mode": {
    "name": "ipython",
    "version": 3
   },
   "file_extension": ".py",
   "mimetype": "text/x-python",
   "name": "python",
   "nbconvert_exporter": "python",
   "pygments_lexer": "ipython3",
   "version": "3.7.6"
  }
 },
 "nbformat": 4,
 "nbformat_minor": 4
}
