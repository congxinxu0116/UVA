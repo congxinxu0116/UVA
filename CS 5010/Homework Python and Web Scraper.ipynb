{
 "cells": [
  {
   "cell_type": "markdown",
   "metadata": {},
   "source": [
    "# Homework: Python and Web Scraper\n",
    "- Name: Congxin (David) Xu\n",
    "- Computing ID: cx2rx"
   ]
  },
  {
   "cell_type": "markdown",
   "metadata": {},
   "source": [
    "### Resources:\n",
    "- https://www.researchgate.net/scientific-contributions/2141806820_Haitian_Sun\n",
    "- https://www.dataquest.io/blog/web-scraping-tutorial-python/\n",
    "- https://pypi.org/project/beautifulsoup4/\n",
    "- https://www.geeksforgeeks.org/generating-word-cloud-python/"
   ]
  },
  {
   "cell_type": "markdown",
   "metadata": {},
   "source": [
    "## Web Scrape"
   ]
  },
  {
   "cell_type": "code",
   "execution_count": 34,
   "metadata": {},
   "outputs": [
    {
     "data": {
      "text/plain": [
       "<Response [200]>"
      ]
     },
     "execution_count": 34,
     "metadata": {},
     "output_type": "execute_result"
    }
   ],
   "source": [
    "# Make requests to the Research Gate URL\n",
    "import requests\n",
    "url = 'https://www.researchgate.net/scientific-contributions/2141806820_Haitian_Sun'\n",
    "page = requests.get(url)\n",
    "\n",
    "# Make sure the connect is successful\n",
    "page"
   ]
  },
  {
   "cell_type": "code",
   "execution_count": 35,
   "metadata": {},
   "outputs": [],
   "source": [
    "# Get the page content\n",
    "from bs4 import BeautifulSoup\n",
    "soup = BeautifulSoup(page.content, 'html.parser')"
   ]
  },
  {
   "cell_type": "code",
   "execution_count": 36,
   "metadata": {
    "scrolled": true
   },
   "outputs": [
    {
     "name": "stdout",
     "output_type": "stream",
     "text": [
      "Haitain has 9 publications!\n"
     ]
    }
   ],
   "source": [
    "# Find the number of publications:\n",
    "publication = soup.find_all(class_=\"nova-e-text nova-e-text--size-l nova-e-text--family-sans-serif nova-e-text--spacing-none nova-e-text--color-grey-600\")\n",
    "publication = int(publication[0].get_text().split(\"(\")[1].split(\")\")[0])\n",
    "print(f'Haitain has {publication} publications!')"
   ]
  },
  {
   "cell_type": "code",
   "execution_count": 37,
   "metadata": {
    "scrolled": true
   },
   "outputs": [
    {
     "name": "stdout",
     "output_type": "stream",
     "text": [
      "['Facts as Experts: Adaptable and Interpretable Neural Memory over Symbolic Knowledge', \"Guessing What's Plausible But Remembering What's True: Accurate Neural Reasoning for Question-Answering\", 'Scalable Neural Methods for Reasoning With a Symbolic Knowledge Base', 'Differentiable Representations For Multihop Inference Rules', 'PullNet: Open Domain Question Answering with Iterative Retrieval on Knowledge Bases and Text', 'PullNet: Open Domain Question Answering with Iterative Retrieval on Knowledge Bases and Text', 'Open Domain Question Answering Using Early Fusion of Knowledge Bases and Text', 'Semi-Supervised Learning with Declaratively Specified Entropy Constraints', 'Open Domain Question Answering Using Early Fusion of Knowledge Bases and Text']\n"
     ]
    }
   ],
   "source": [
    "# Get Publication Titles\n",
    "item = soup.find_all(class_=\"nova-v-publication-item__body\")\n",
    "title = []\n",
    "\n",
    "# Collect all the publications titles and store them in a list\n",
    "i = 0\n",
    "while (i < publication):\n",
    "    x = item[i].find_all(class_='nova-e-link nova-e-link--color-inherit nova-e-link--theme-bare')    \n",
    "    title += [x[0].get_text()]\n",
    "    i += 1\n",
    "print(title)\n"
   ]
  },
  {
   "cell_type": "code",
   "execution_count": 38,
   "metadata": {},
   "outputs": [
    {
     "name": "stdout",
     "output_type": "stream",
     "text": [
      "['Jul 2020', 'Apr 2020', 'Feb 2020', 'May 2019', 'Apr 2019', 'Jan 2019', 'Sep 2018', 'Apr 2018', 'Jan 2018']\n"
     ]
    }
   ],
   "source": [
    "# Get Publication Date\n",
    "item = soup.find_all(class_=\"nova-e-list__item nova-v-publication-item__meta-data-item\")\n",
    "date = []\n",
    "\n",
    "# Collect all the publications dates and store them in a list\n",
    "i = 0\n",
    "while (i < publication):\n",
    "    date += [item[i].get_text().strip()]\n",
    "    i += 1\n",
    "\n",
    "print(date)\n"
   ]
  },
  {
   "cell_type": "code",
   "execution_count": 39,
   "metadata": {},
   "outputs": [
    {
     "data": {
      "text/html": [
       "<div>\n",
       "<style scoped>\n",
       "    .dataframe tbody tr th:only-of-type {\n",
       "        vertical-align: middle;\n",
       "    }\n",
       "\n",
       "    .dataframe tbody tr th {\n",
       "        vertical-align: top;\n",
       "    }\n",
       "\n",
       "    .dataframe thead th {\n",
       "        text-align: right;\n",
       "    }\n",
       "</style>\n",
       "<table border=\"1\" class=\"dataframe\">\n",
       "  <thead>\n",
       "    <tr style=\"text-align: right;\">\n",
       "      <th></th>\n",
       "      <th>Title</th>\n",
       "      <th>Date</th>\n",
       "    </tr>\n",
       "  </thead>\n",
       "  <tbody>\n",
       "    <tr>\n",
       "      <th>0</th>\n",
       "      <td>Facts as Experts: Adaptable and Interpretable ...</td>\n",
       "      <td>Jul 2020</td>\n",
       "    </tr>\n",
       "    <tr>\n",
       "      <th>1</th>\n",
       "      <td>Guessing What's Plausible But Remembering What...</td>\n",
       "      <td>Apr 2020</td>\n",
       "    </tr>\n",
       "    <tr>\n",
       "      <th>2</th>\n",
       "      <td>Scalable Neural Methods for Reasoning With a S...</td>\n",
       "      <td>Feb 2020</td>\n",
       "    </tr>\n",
       "    <tr>\n",
       "      <th>3</th>\n",
       "      <td>Differentiable Representations For Multihop In...</td>\n",
       "      <td>May 2019</td>\n",
       "    </tr>\n",
       "    <tr>\n",
       "      <th>4</th>\n",
       "      <td>PullNet: Open Domain Question Answering with I...</td>\n",
       "      <td>Apr 2019</td>\n",
       "    </tr>\n",
       "  </tbody>\n",
       "</table>\n",
       "</div>"
      ],
      "text/plain": [
       "                                               Title      Date\n",
       "0  Facts as Experts: Adaptable and Interpretable ...  Jul 2020\n",
       "1  Guessing What's Plausible But Remembering What...  Apr 2020\n",
       "2  Scalable Neural Methods for Reasoning With a S...  Feb 2020\n",
       "3  Differentiable Representations For Multihop In...  May 2019\n",
       "4  PullNet: Open Domain Question Answering with I...  Apr 2019"
      ]
     },
     "execution_count": 39,
     "metadata": {},
     "output_type": "execute_result"
    }
   ],
   "source": [
    "# Create a dictionary\n",
    "d = {'Title': title,'Date':date}\n",
    "\n",
    "# Convert dictionary to a pandas DF\n",
    "import pandas as pd\n",
    "df = pd.DataFrame(d)\n",
    "df.head()"
   ]
  },
  {
   "cell_type": "code",
   "execution_count": 40,
   "metadata": {},
   "outputs": [
    {
     "data": {
      "text/html": [
       "<div>\n",
       "<style scoped>\n",
       "    .dataframe tbody tr th:only-of-type {\n",
       "        vertical-align: middle;\n",
       "    }\n",
       "\n",
       "    .dataframe tbody tr th {\n",
       "        vertical-align: top;\n",
       "    }\n",
       "\n",
       "    .dataframe thead th {\n",
       "        text-align: right;\n",
       "    }\n",
       "</style>\n",
       "<table border=\"1\" class=\"dataframe\">\n",
       "  <thead>\n",
       "    <tr style=\"text-align: right;\">\n",
       "      <th></th>\n",
       "      <th>Title</th>\n",
       "      <th>Date</th>\n",
       "      <th>Author</th>\n",
       "    </tr>\n",
       "  </thead>\n",
       "  <tbody>\n",
       "    <tr>\n",
       "      <th>4</th>\n",
       "      <td>PullNet: Open Domain Question Answering with I...</td>\n",
       "      <td>Apr 2019</td>\n",
       "      <td>Haitian</td>\n",
       "    </tr>\n",
       "    <tr>\n",
       "      <th>5</th>\n",
       "      <td>PullNet: Open Domain Question Answering with I...</td>\n",
       "      <td>Jan 2019</td>\n",
       "      <td>Haitian</td>\n",
       "    </tr>\n",
       "    <tr>\n",
       "      <th>6</th>\n",
       "      <td>Open Domain Question Answering Using Early Fus...</td>\n",
       "      <td>Sep 2018</td>\n",
       "      <td>Haitian</td>\n",
       "    </tr>\n",
       "    <tr>\n",
       "      <th>7</th>\n",
       "      <td>Semi-Supervised Learning with Declaratively Sp...</td>\n",
       "      <td>Apr 2018</td>\n",
       "      <td>Haitian</td>\n",
       "    </tr>\n",
       "    <tr>\n",
       "      <th>8</th>\n",
       "      <td>Open Domain Question Answering Using Early Fus...</td>\n",
       "      <td>Jan 2018</td>\n",
       "      <td>Haitian</td>\n",
       "    </tr>\n",
       "  </tbody>\n",
       "</table>\n",
       "</div>"
      ],
      "text/plain": [
       "                                               Title      Date   Author\n",
       "4  PullNet: Open Domain Question Answering with I...  Apr 2019  Haitian\n",
       "5  PullNet: Open Domain Question Answering with I...  Jan 2019  Haitian\n",
       "6  Open Domain Question Answering Using Early Fus...  Sep 2018  Haitian\n",
       "7  Semi-Supervised Learning with Declaratively Sp...  Apr 2018  Haitian\n",
       "8  Open Domain Question Answering Using Early Fus...  Jan 2018  Haitian"
      ]
     },
     "execution_count": 40,
     "metadata": {},
     "output_type": "execute_result"
    }
   ],
   "source": [
    "# Add Author to the DF\n",
    "Author = ['Haitian'] * publication\n",
    "df['Author'] = Author\n",
    "df.tail()"
   ]
  },
  {
   "cell_type": "code",
   "execution_count": 41,
   "metadata": {
    "scrolled": true
   },
   "outputs": [
    {
     "data": {
      "text/html": [
       "<div>\n",
       "<style scoped>\n",
       "    .dataframe tbody tr th:only-of-type {\n",
       "        vertical-align: middle;\n",
       "    }\n",
       "\n",
       "    .dataframe tbody tr th {\n",
       "        vertical-align: top;\n",
       "    }\n",
       "\n",
       "    .dataframe thead th {\n",
       "        text-align: right;\n",
       "    }\n",
       "</style>\n",
       "<table border=\"1\" class=\"dataframe\">\n",
       "  <thead>\n",
       "    <tr style=\"text-align: right;\">\n",
       "      <th></th>\n",
       "      <th>Author</th>\n",
       "      <th>Date</th>\n",
       "      <th>Title</th>\n",
       "    </tr>\n",
       "  </thead>\n",
       "  <tbody>\n",
       "    <tr>\n",
       "      <th>count</th>\n",
       "      <td>9</td>\n",
       "      <td>9</td>\n",
       "      <td>9</td>\n",
       "    </tr>\n",
       "    <tr>\n",
       "      <th>unique</th>\n",
       "      <td>1</td>\n",
       "      <td>9</td>\n",
       "      <td>7</td>\n",
       "    </tr>\n",
       "    <tr>\n",
       "      <th>top</th>\n",
       "      <td>Haitian</td>\n",
       "      <td>Apr 2019</td>\n",
       "      <td>PullNet: Open Domain Question Answering with I...</td>\n",
       "    </tr>\n",
       "    <tr>\n",
       "      <th>freq</th>\n",
       "      <td>9</td>\n",
       "      <td>1</td>\n",
       "      <td>2</td>\n",
       "    </tr>\n",
       "  </tbody>\n",
       "</table>\n",
       "</div>"
      ],
      "text/plain": [
       "         Author      Date                                              Title\n",
       "count         9         9                                                  9\n",
       "unique        1         9                                                  7\n",
       "top     Haitian  Apr 2019  PullNet: Open Domain Question Answering with I...\n",
       "freq          9         1                                                  2"
      ]
     },
     "execution_count": 41,
     "metadata": {},
     "output_type": "execute_result"
    }
   ],
   "source": [
    "# Rearrange Columns\n",
    "df = df[['Author', 'Date', 'Title']]\n",
    "df.describe()"
   ]
  },
  {
   "cell_type": "code",
   "execution_count": 42,
   "metadata": {},
   "outputs": [],
   "source": [
    "# Write data to CSV file \n",
    "df.to_csv('ResearchGateWebScrape_Haitian.csv', index = False)"
   ]
  },
  {
   "cell_type": "markdown",
   "metadata": {},
   "source": [
    "## Data Analysis"
   ]
  },
  {
   "cell_type": "code",
   "execution_count": 43,
   "metadata": {},
   "outputs": [
    {
     "data": {
      "text/html": [
       "<div>\n",
       "<style scoped>\n",
       "    .dataframe tbody tr th:only-of-type {\n",
       "        vertical-align: middle;\n",
       "    }\n",
       "\n",
       "    .dataframe tbody tr th {\n",
       "        vertical-align: top;\n",
       "    }\n",
       "\n",
       "    .dataframe thead th {\n",
       "        text-align: right;\n",
       "    }\n",
       "</style>\n",
       "<table border=\"1\" class=\"dataframe\">\n",
       "  <thead>\n",
       "    <tr style=\"text-align: right;\">\n",
       "      <th></th>\n",
       "      <th>Author</th>\n",
       "      <th>Date</th>\n",
       "      <th>Title</th>\n",
       "    </tr>\n",
       "  </thead>\n",
       "  <tbody>\n",
       "    <tr>\n",
       "      <th>0</th>\n",
       "      <td>Haitian</td>\n",
       "      <td>Jul 2020</td>\n",
       "      <td>Facts as Experts: Adaptable and Interpretable ...</td>\n",
       "    </tr>\n",
       "    <tr>\n",
       "      <th>1</th>\n",
       "      <td>Haitian</td>\n",
       "      <td>Apr 2020</td>\n",
       "      <td>Guessing What's Plausible But Remembering What...</td>\n",
       "    </tr>\n",
       "    <tr>\n",
       "      <th>2</th>\n",
       "      <td>Haitian</td>\n",
       "      <td>Feb 2020</td>\n",
       "      <td>Scalable Neural Methods for Reasoning With a S...</td>\n",
       "    </tr>\n",
       "    <tr>\n",
       "      <th>3</th>\n",
       "      <td>Haitian</td>\n",
       "      <td>May 2019</td>\n",
       "      <td>Differentiable Representations For Multihop In...</td>\n",
       "    </tr>\n",
       "    <tr>\n",
       "      <th>4</th>\n",
       "      <td>Haitian</td>\n",
       "      <td>Apr 2019</td>\n",
       "      <td>PullNet: Open Domain Question Answering with I...</td>\n",
       "    </tr>\n",
       "  </tbody>\n",
       "</table>\n",
       "</div>"
      ],
      "text/plain": [
       "    Author      Date                                              Title\n",
       "0  Haitian  Jul 2020  Facts as Experts: Adaptable and Interpretable ...\n",
       "1  Haitian  Apr 2020  Guessing What's Plausible But Remembering What...\n",
       "2  Haitian  Feb 2020  Scalable Neural Methods for Reasoning With a S...\n",
       "3  Haitian  May 2019  Differentiable Representations For Multihop In...\n",
       "4  Haitian  Apr 2019  PullNet: Open Domain Question Answering with I..."
      ]
     },
     "execution_count": 43,
     "metadata": {},
     "output_type": "execute_result"
    }
   ],
   "source": [
    "# Read in the CSV File\n",
    "df = pd.read_csv('ResearchGateWebScrape_Haitian.csv')\n",
    "df.head()"
   ]
  },
  {
   "cell_type": "code",
   "execution_count": 44,
   "metadata": {},
   "outputs": [
    {
     "data": {
      "text/plain": [
       "0   2020-07-01\n",
       "1   2020-04-01\n",
       "2   2020-02-01\n",
       "3   2019-05-01\n",
       "4   2019-04-01\n",
       "5   2019-01-01\n",
       "6   2018-09-01\n",
       "7   2018-04-01\n",
       "8   2018-01-01\n",
       "Name: Date, dtype: datetime64[ns]"
      ]
     },
     "execution_count": 44,
     "metadata": {},
     "output_type": "execute_result"
    }
   ],
   "source": [
    "# Convert Date into a datetime format in pandas\n",
    "df['Date'] = pd.to_datetime(df['Date'])\n",
    "df['Date']"
   ]
  },
  {
   "cell_type": "code",
   "execution_count": 45,
   "metadata": {},
   "outputs": [
    {
     "data": {
      "text/html": [
       "<div>\n",
       "<style scoped>\n",
       "    .dataframe tbody tr th:only-of-type {\n",
       "        vertical-align: middle;\n",
       "    }\n",
       "\n",
       "    .dataframe tbody tr th {\n",
       "        vertical-align: top;\n",
       "    }\n",
       "\n",
       "    .dataframe thead th {\n",
       "        text-align: right;\n",
       "    }\n",
       "</style>\n",
       "<table border=\"1\" class=\"dataframe\">\n",
       "  <thead>\n",
       "    <tr style=\"text-align: right;\">\n",
       "      <th></th>\n",
       "      <th>Year</th>\n",
       "      <th>Month</th>\n",
       "    </tr>\n",
       "  </thead>\n",
       "  <tbody>\n",
       "    <tr>\n",
       "      <th>0</th>\n",
       "      <td>2020</td>\n",
       "      <td>7</td>\n",
       "    </tr>\n",
       "    <tr>\n",
       "      <th>1</th>\n",
       "      <td>2020</td>\n",
       "      <td>4</td>\n",
       "    </tr>\n",
       "    <tr>\n",
       "      <th>2</th>\n",
       "      <td>2020</td>\n",
       "      <td>2</td>\n",
       "    </tr>\n",
       "    <tr>\n",
       "      <th>3</th>\n",
       "      <td>2019</td>\n",
       "      <td>5</td>\n",
       "    </tr>\n",
       "    <tr>\n",
       "      <th>4</th>\n",
       "      <td>2019</td>\n",
       "      <td>4</td>\n",
       "    </tr>\n",
       "    <tr>\n",
       "      <th>5</th>\n",
       "      <td>2019</td>\n",
       "      <td>1</td>\n",
       "    </tr>\n",
       "    <tr>\n",
       "      <th>6</th>\n",
       "      <td>2018</td>\n",
       "      <td>9</td>\n",
       "    </tr>\n",
       "    <tr>\n",
       "      <th>7</th>\n",
       "      <td>2018</td>\n",
       "      <td>4</td>\n",
       "    </tr>\n",
       "    <tr>\n",
       "      <th>8</th>\n",
       "      <td>2018</td>\n",
       "      <td>1</td>\n",
       "    </tr>\n",
       "  </tbody>\n",
       "</table>\n",
       "</div>"
      ],
      "text/plain": [
       "   Year  Month\n",
       "0  2020      7\n",
       "1  2020      4\n",
       "2  2020      2\n",
       "3  2019      5\n",
       "4  2019      4\n",
       "5  2019      1\n",
       "6  2018      9\n",
       "7  2018      4\n",
       "8  2018      1"
      ]
     },
     "execution_count": 45,
     "metadata": {},
     "output_type": "execute_result"
    }
   ],
   "source": [
    "# Extract year and month from the date variable\n",
    "df['Year'] = pd.DatetimeIndex(df['Date']).year\n",
    "df['Month'] = pd.DatetimeIndex(df['Date']).month\n",
    "df[['Year', 'Month']]"
   ]
  },
  {
   "cell_type": "code",
   "execution_count": 46,
   "metadata": {},
   "outputs": [
    {
     "data": {
      "text/html": [
       "<div>\n",
       "<style scoped>\n",
       "    .dataframe tbody tr th:only-of-type {\n",
       "        vertical-align: middle;\n",
       "    }\n",
       "\n",
       "    .dataframe tbody tr th {\n",
       "        vertical-align: top;\n",
       "    }\n",
       "\n",
       "    .dataframe thead tr th {\n",
       "        text-align: left;\n",
       "    }\n",
       "\n",
       "    .dataframe thead tr:last-of-type th {\n",
       "        text-align: right;\n",
       "    }\n",
       "</style>\n",
       "<table border=\"1\" class=\"dataframe\">\n",
       "  <thead>\n",
       "    <tr>\n",
       "      <th></th>\n",
       "      <th></th>\n",
       "      <th>Title</th>\n",
       "    </tr>\n",
       "    <tr>\n",
       "      <th></th>\n",
       "      <th></th>\n",
       "      <th>count</th>\n",
       "    </tr>\n",
       "    <tr>\n",
       "      <th>Author</th>\n",
       "      <th>Year</th>\n",
       "      <th></th>\n",
       "    </tr>\n",
       "  </thead>\n",
       "  <tbody>\n",
       "    <tr>\n",
       "      <th rowspan=\"3\" valign=\"top\">Haitian</th>\n",
       "      <th>2018</th>\n",
       "      <td>3</td>\n",
       "    </tr>\n",
       "    <tr>\n",
       "      <th>2019</th>\n",
       "      <td>3</td>\n",
       "    </tr>\n",
       "    <tr>\n",
       "      <th>2020</th>\n",
       "      <td>3</td>\n",
       "    </tr>\n",
       "  </tbody>\n",
       "</table>\n",
       "</div>"
      ],
      "text/plain": [
       "             Title\n",
       "             count\n",
       "Author  Year      \n",
       "Haitian 2018     3\n",
       "        2019     3\n",
       "        2020     3"
      ]
     },
     "execution_count": 46,
     "metadata": {},
     "output_type": "execute_result"
    }
   ],
   "source": [
    "# See how many papers did Haitian write each year:\n",
    "df[['Author','Year', 'Title']].groupby(['Author', 'Year']).agg(['count'])"
   ]
  },
  {
   "cell_type": "code",
   "execution_count": 47,
   "metadata": {},
   "outputs": [
    {
     "data": {
      "text/html": [
       "<div>\n",
       "<style scoped>\n",
       "    .dataframe tbody tr th:only-of-type {\n",
       "        vertical-align: middle;\n",
       "    }\n",
       "\n",
       "    .dataframe tbody tr th {\n",
       "        vertical-align: top;\n",
       "    }\n",
       "\n",
       "    .dataframe thead tr th {\n",
       "        text-align: left;\n",
       "    }\n",
       "\n",
       "    .dataframe thead tr:last-of-type th {\n",
       "        text-align: right;\n",
       "    }\n",
       "</style>\n",
       "<table border=\"1\" class=\"dataframe\">\n",
       "  <thead>\n",
       "    <tr>\n",
       "      <th></th>\n",
       "      <th></th>\n",
       "      <th>Title</th>\n",
       "    </tr>\n",
       "    <tr>\n",
       "      <th></th>\n",
       "      <th></th>\n",
       "      <th>count</th>\n",
       "    </tr>\n",
       "    <tr>\n",
       "      <th>Author</th>\n",
       "      <th>Month</th>\n",
       "      <th></th>\n",
       "    </tr>\n",
       "  </thead>\n",
       "  <tbody>\n",
       "    <tr>\n",
       "      <th rowspan=\"6\" valign=\"top\">Haitian</th>\n",
       "      <th>1</th>\n",
       "      <td>2</td>\n",
       "    </tr>\n",
       "    <tr>\n",
       "      <th>2</th>\n",
       "      <td>1</td>\n",
       "    </tr>\n",
       "    <tr>\n",
       "      <th>4</th>\n",
       "      <td>3</td>\n",
       "    </tr>\n",
       "    <tr>\n",
       "      <th>5</th>\n",
       "      <td>1</td>\n",
       "    </tr>\n",
       "    <tr>\n",
       "      <th>7</th>\n",
       "      <td>1</td>\n",
       "    </tr>\n",
       "    <tr>\n",
       "      <th>9</th>\n",
       "      <td>1</td>\n",
       "    </tr>\n",
       "  </tbody>\n",
       "</table>\n",
       "</div>"
      ],
      "text/plain": [
       "              Title\n",
       "              count\n",
       "Author  Month      \n",
       "Haitian 1         2\n",
       "        2         1\n",
       "        4         3\n",
       "        5         1\n",
       "        7         1\n",
       "        9         1"
      ]
     },
     "execution_count": 47,
     "metadata": {},
     "output_type": "execute_result"
    }
   ],
   "source": [
    "# See which month Haitain published his paper in the last 3 years\n",
    "df[['Author','Month', 'Title']].groupby(['Author', 'Month']).agg(['count'])"
   ]
  },
  {
   "cell_type": "code",
   "execution_count": 48,
   "metadata": {},
   "outputs": [
    {
     "data": {
      "text/plain": [
       "array([['Facts as Experts: Adaptable and Interpretable Neural Memory over Symbolic Knowledge'],\n",
       "       [\"Guessing What's Plausible But Remembering What's True: Accurate Neural Reasoning for Question-Answering\"],\n",
       "       ['Scalable Neural Methods for Reasoning With a Symbolic Knowledge Base'],\n",
       "       ['Differentiable Representations For Multihop Inference Rules'],\n",
       "       ['PullNet: Open Domain Question Answering with Iterative Retrieval on Knowledge Bases and Text'],\n",
       "       ['PullNet: Open Domain Question Answering with Iterative Retrieval on Knowledge Bases and Text'],\n",
       "       ['Open Domain Question Answering Using Early Fusion of Knowledge Bases and Text'],\n",
       "       ['Semi-Supervised Learning with Declaratively Specified Entropy Constraints'],\n",
       "       ['Open Domain Question Answering Using Early Fusion of Knowledge Bases and Text']],\n",
       "      dtype=object)"
      ]
     },
     "execution_count": 48,
     "metadata": {},
     "output_type": "execute_result"
    }
   ],
   "source": [
    "# View the title of Haitain's Paper\n",
    "import numpy as np\n",
    "title = np.array(df[['Title']])\n",
    "title"
   ]
  },
  {
   "cell_type": "code",
   "execution_count": 49,
   "metadata": {},
   "outputs": [
    {
     "data": {
      "text/plain": [
       "' differentiable representations for multihop inference rules facts as experts  adaptable and interpretable neural memory over symbolic knowledge guessing what s plausible but remembering what s true  accurate neural reasoning for question answering open domain question answering using early fusion of knowledge bases and text pullnet  open domain question answering with iterative retrieval on knowledge bases and text scalable neural methods for reasoning with a symbolic knowledge base semi supervised learning with declaratively specified entropy constraints'"
      ]
     },
     "execution_count": 49,
     "metadata": {},
     "output_type": "execute_result"
    }
   ],
   "source": [
    "# Cleaning the title\n",
    "# Convert all title to one string\n",
    "title = np.hstack(title)\n",
    "\n",
    "# Remove duplicate title names \n",
    "title = np.unique(title)\n",
    "\n",
    "# Merge all titles to one string\n",
    "research = \"\"\n",
    "for i in title:\n",
    "    research = research + \" \" + i\n",
    "\n",
    "# Remove punctuation\n",
    "import string\n",
    "punc = string.punctuation\n",
    "\n",
    "for char in punc:\n",
    "    research = research.replace(char,\" \")\n",
    "\n",
    "research = research.lower()\n",
    "research"
   ]
  },
  {
   "cell_type": "code",
   "execution_count": 50,
   "metadata": {
    "scrolled": true
   },
   "outputs": [],
   "source": [
    "# Find the keywords in his paper\n",
    "# Count the unique words and their frequency\n",
    "research_split = research.split(\" \")\n",
    "keywords = { }\n",
    "\n",
    "for i in research_split:\n",
    "    if (i in keywords):\n",
    "        keywords[i] += 1\n",
    "    else:\n",
    "        keywords[i] = 1"
   ]
  },
  {
   "cell_type": "code",
   "execution_count": 51,
   "metadata": {},
   "outputs": [
    {
     "name": "stdout",
     "output_type": "stream",
     "text": [
      "knowledge 4\n",
      "neural 3\n",
      "question 3\n",
      "answering 3\n",
      "symbolic 2\n",
      "what 2\n",
      "reasoning 2\n",
      "open 2\n",
      "domain 2\n",
      "bases 2\n",
      "text 2\n"
     ]
    }
   ],
   "source": [
    "# Take a look at the important keywords that show up more than once in Haitian's paper\n",
    "for i in sorted(keywords, key=keywords.get, reverse=True):\n",
    "    if (keywords[i] > 1 and (i not in ['', \"and\",\"s\", 'with', 'for'])):\n",
    "        print(i, keywords[i])"
   ]
  },
  {
   "cell_type": "code",
   "execution_count": 58,
   "metadata": {
    "scrolled": true
   },
   "outputs": [
    {
     "data": {
      "image/png": "[encoded data removed]",
      "text/plain": [
       "<Figure size 288x288 with 1 Axes>"
      ]
     },
     "metadata": {
      "needs_background": "light"
     },
     "output_type": "display_data"
    }
   ],
   "source": [
    "# Create a word cloud!\n",
    "from wordcloud import WordCloud, STOPWORDS\n",
    "import matplotlib.pyplot as plt \n",
    "stopwords = set(STOPWORDS) \n",
    "research = str(research)\n",
    "\n",
    "# Create the word cloud object\n",
    "wordcloud = WordCloud(width = 800, height = 800, \n",
    "                background_color ='white', \n",
    "                stopwords = stopwords, \n",
    "                min_font_size = 10).generate(research) \n",
    "\n",
    "# Plot the WordCloud image                        \n",
    "plt.figure(figsize = (4, 4), facecolor = None) \n",
    "plt.imshow(wordcloud) \n",
    "plt.axis(\"off\") \n",
    "plt.tight_layout(pad = 0) \n",
    "  \n",
    "plt.show() "
   ]
  }
 ],
 "metadata": {
  "kernelspec": {
   "display_name": "Python 3",
   "language": "python",
   "name": "python3"
  },
  "language_info": {
   "codemirror_mode": {
    "name": "ipython",
    "version": 3
   },
   "file_extension": ".py",
   "mimetype": "text/x-python",
   "name": "python",
   "nbconvert_exporter": "python",
   "pygments_lexer": "ipython3",
   "version": "3.7.6"
  }
 },
 "nbformat": 4,
 "nbformat_minor": 4
}
