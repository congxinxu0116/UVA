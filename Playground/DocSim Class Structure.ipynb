{
 "cells": [
  {
   "cell_type": "markdown",
   "metadata": {},
   "source": [
    "# DocSim Class Structure\n",
    "\n",
    "## Class Attributes\n",
    "- `data`: Document-term Matrix to be processed\n",
    "- `text_col`: Column name of the column within the Document-term matrix that stores the raw text\n",
    "\n",
    "## Class Methods\n",
    "- `processing()`: this is Natural Language Preprocessing function that can execute removing stopwords, stemming, tf-idf and latent semantic analysis."
   ]
  }
 ],
 "metadata": {
  "kernelspec": {
   "display_name": "Python 3",
   "language": "python",
   "name": "python3"
  },
  "language_info": {
   "codemirror_mode": {
    "name": "ipython",
    "version": 3
   },
   "file_extension": ".py",
   "mimetype": "text/x-python",
   "name": "python",
   "nbconvert_exporter": "python",
   "pygments_lexer": "ipython3",
   "version": "3.7.6"
  }
 },
 "nbformat": 4,
 "nbformat_minor": 4
}
