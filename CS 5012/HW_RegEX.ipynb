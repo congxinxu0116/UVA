{
 "cells": [
  {
   "cell_type": "markdown",
   "metadata": {},
   "source": [
    "# CS 5012: Foundations of Computer Science\n",
    "- Name: Congxin (David) Xu\n",
    "- Computing ID: cx2rx"
   ]
  },
  {
   "cell_type": "markdown",
   "metadata": {},
   "source": [
    "##### 70 points"
   ]
  },
  {
   "cell_type": "markdown",
   "metadata": {},
   "source": [
    "Helpful Meta characters\n",
    "* `\\b` matches word boundary\n",
    "* `\\d` any digit, i.e. `[0-9]`\n",
    "* `\\D` Any non-digit, e.e. `[^0-9]`\n",
    "* `\\s` any whitespace char, i.e. `[\\t\\n\\r\\f\\v]`.\n",
    "* `\\S` any non whitespace, i.e. `[^\\t\\n\\r\\f\\v]`.\n",
    "* `\\w` any alphanumeric char, i.e. `[a-zA-Z0-9]`.\n",
    "* `\\W` any non-alphanumeric char, i.e. `^[a-zA-Z0-9]`.\n",
    "\n",
    "Helpful meta characters, repetitions\n",
    "* `*` 0 or more\n",
    "* `+` 1 or more\n",
    "* `?` 0 or 1\n",
    "* `{n}` exactly n times\n",
    "* `{n,}` at least n\n",
    "* `{,n}` at most n\n",
    "* `{m,n}` at least n, at most m"
   ]
  },
  {
   "cell_type": "markdown",
   "metadata": {},
   "source": [
    "How to Write and Match Regular Expressions (Regex): [A video tutorial](https://www.youtube.com/watch?v=K8L6KVGG-7o)"
   ]
  },
  {
   "cell_type": "markdown",
   "metadata": {},
   "source": [
    "**Question 1 (30 pts)**: For the following situation \n",
    "1. Write a RegEx that validates social security numbers.\n",
    "2. Write a RegEx that validates email addresses. \n",
    "3. Using `re` library, and a given string `tweet1` return the tokens after each callout '@': for example if `tweet1 = \"@chiefs won @superbowl2020\"`  an output like: `[@chiefs, @superbowl2020]`. \n",
    "\n",
    "    "
   ]
  },
  {
   "cell_type": "markdown",
   "metadata": {},
   "source": [
    "### Question 1\n",
    "\n",
    "**Part 1 Answer**\n",
    "- Valid Social Security number pattern: three digits dash two digits dash three digits, i.e. `123-45-678`"
   ]
  },
  {
   "cell_type": "code",
   "execution_count": 1,
   "metadata": {},
   "outputs": [
    {
     "name": "stdout",
     "output_type": "stream",
     "text": [
      "12345678 is an INVALID SSN\n",
      "123-45-9 is an INVALID SSN\n",
      "12-34-595 is an INVALID SSN\n",
      "12a-34-456 is an INVALID SSN\n",
      "123-45123 is an INVALID SSN\n",
      "123-45,900 is an INVALID SSN\n",
      "12345-678 is an INVALID SSN\n",
      "123.45.678 is an INVALID SSN\n",
      "123-45-678 is a VALID SSN\n"
     ]
    }
   ],
   "source": [
    "import re\n",
    "\n",
    "# check if an social security number is valid \n",
    "regex = r'\\d{3}\\-\\d{2}\\-\\d{3}'\n",
    "\n",
    "# Only the last test case is valid\n",
    "test_cases = '''12345678\n",
    "123-45-9\n",
    "12-34-595\n",
    "12a-34-456\n",
    "123-45123\n",
    "123-45,900\n",
    "12345-678\n",
    "123.45.678\n",
    "123-45-678'''\n",
    "\n",
    "for ssn in test_cases.split('\\n'):\n",
    "    if(re.search(regex, ssn)):  \n",
    "        print(f\"{ssn} is a VALID SSN\")  \n",
    "    else:\n",
    "        print(f\"{ssn} is an INVALID SSN\") "
   ]
  },
  {
   "cell_type": "markdown",
   "metadata": {},
   "source": [
    "**Part 2 Answer**\n",
    "- Valid email address pattern 1: `at least 1 digit or lower case letter` @ `at least 1 of digit or lower case letters` dot `2 or 3 lower case letters`\n",
    "- Valid email address pattern 2: `at least 1 digit or lower case letters` dot `at least 1 of digit or lower case letters` @ `any number of digit or lower case letters` dot `2 or 3  lower case letters`"
   ]
  },
  {
   "cell_type": "code",
   "execution_count": 2,
   "metadata": {},
   "outputs": [
    {
     "name": "stdout",
     "output_type": "stream",
     "text": [
      "cx2rx.virginia.edu is an INVALID email\n",
      "crsao.12345@virigia@edu is an INVALID email\n",
      "CX2RX@GMAIL.COM is an INVALID email\n",
      "asbcsf@gmail is an INVALID email\n",
      "congxin_xu@richmond.edu is an INVALID email\n",
      "12345512@qq.com is a VALID email\n",
      "congxin.xu@richmond.edu is a VALID email\n",
      "cx2rx@virgina.edu is a VALID email\n"
     ]
    }
   ],
   "source": [
    "# check if an email address is valid \n",
    "regex = r'^[0-9a-z]+\\@[0-9a-z]+\\.[a-z]+|[0-9a-z]+\\.[0-9a-z]+\\@[0-9a-z]+\\.[a-z]+'\n",
    "\n",
    "# the last 3 test cases are valid\n",
    "test_cases = '''cx2rx.virginia.edu\n",
    "crsao.12345@virigia@edu\n",
    "CX2RX@GMAIL.COM\n",
    "asbcsf@gmail\n",
    "congxin_xu@richmond.edu\n",
    "12345512@qq.com\n",
    "congxin.xu@richmond.edu\n",
    "cx2rx@virgina.edu'''\n",
    "\n",
    "for email in test_cases.split('\\n'):\n",
    "    if(re.search(regex, email)):  \n",
    "        print(f\"{email} is a VALID email\")  \n",
    "    else:\n",
    "        print(f\"{email} is an INVALID email\") "
   ]
  },
  {
   "cell_type": "markdown",
   "metadata": {},
   "source": [
    "**Part 3 Answer**\n",
    "- Extract the mention `user_name` from a tweet, for example if `tweet1 = \"@chiefs won @superbowl2020\"`  an output like: `[@chiefs, @superbowl2020]`. \n"
   ]
  },
  {
   "cell_type": "code",
   "execution_count": 3,
   "metadata": {},
   "outputs": [
    {
     "data": {
      "text/plain": [
       "['@chiefs', '@superbowl2020']"
      ]
     },
     "execution_count": 3,
     "metadata": {},
     "output_type": "execute_result"
    }
   ],
   "source": [
    "tweet = \"@chiefs won @superbowl2020\"\n",
    "re.findall('\\@\\S+', tweet)"
   ]
  },
  {
   "cell_type": "markdown",
   "metadata": {},
   "source": [
    "**Question 2 (40 pts)**: \n",
    "1. Write a RegEx that can check if a string is a specific date; For example \n",
    "`dateString = '10/2/2005'` or, `'10-02-2005'` or `'10/02/05'` or `'10-02-05'`\n",
    "\n",
    "2. Write another RegEx that can check if a string is a specific date; For example \n",
    "`dateString = '10 Feb 2005'` or `'10 February 2005'` or `'Feb 10, 2005'` or `'February 10, 2005'`\n",
    "\n"
   ]
  },
  {
   "cell_type": "markdown",
   "metadata": {},
   "source": [
    "**Part 1 Answer**\n",
    "- Date format: Day Month Year\n",
    "- Pattern 1: \"10/2/2005\"\n",
    "- Pattern 2: \"10-02-2005\"\n",
    "- Pattern 3: \"10/02/05\"\n",
    "- Pattern 4: \"10-02-05\""
   ]
  },
  {
   "cell_type": "code",
   "execution_count": 4,
   "metadata": {},
   "outputs": [
    {
     "name": "stdout",
     "output_type": "stream",
     "text": [
      "1992-12-12 is an INVALID date\n",
      "10@12@2005 is an INVALID date\n",
      "01/33/2001 is an INVALID date\n",
      "00/31/2001 is an INVALID date\n",
      "01/00/2001 is an INVALID date\n",
      "32/01/2001 is an INVALID date\n",
      "10/2/2005 is a VALID date\n",
      "10-02-2005 is a VALID date\n",
      "10/02/05 is a VALID date\n",
      "10-02-05 is a VALID date\n"
     ]
    }
   ],
   "source": [
    "# check if an date string is valid \n",
    "regex = r'[0][1-9]\\/[0-9]\\/[0-9][0-9][0-9][0-9]|[1-2][0-9]\\/[0-9]\\/[0-9][0-9][0-9][0-9]|[1-3][0-1]\\/[0-9]\\/[0-9][0-9][0-9][0-9]|\\\n",
    "[0][1-9]\\/[0-9]\\/[0-9][0-9][0-9][0-9]|[1-2][0-9]\\/[0-1][0-2]\\/[0-9][0-9][0-9][0-9]|[1-3][0-1]\\/[0-1][0-2]\\/[0-9][0-9][0-9][0-9]|\\\n",
    "[0][1-9]\\-[0][0-9]\\-[0-9][0-9][0-9][0-9]|[1-2][0-9]\\-[0][0-9]\\-[0-9][0-9][0-9][0-9]|[1-3][0-1]\\-[0][0-9]\\-[0-9][0-9][0-9][0-9]|\\\n",
    "[0][1-9]\\-[1][0-2]\\-[0-9][0-9][0-9][0-9]|[1-2][0-9]\\-[1][0-2]\\-[0-9][0-9][0-9][0-9]|[1-3][0-1]\\-[1][0-2]\\-[0-9][0-9][0-9][0-9]|\\\n",
    "[0][1-9]\\/[0][1-9]\\/[0-9][0-9]|[1-2][0-9]\\/[0][0-9]\\/[0-9][0-9]|[1-3][0-1]\\/[0][0-9]\\/[0-9][0-9]|\\\n",
    "[0][1-9]\\/[1][0-2]\\/[0-9][0-9]|[1-2][0-9]\\/[1][0-2]\\/[0-9][0-9]|[1-3][0-1]\\/[1][0-2]\\/[0-9][0-9]|\\\n",
    "[0][1-9]\\-[0][1-9]\\-[0-9][0-9]|[1-2][0-9]\\-[0][0-9]\\-[0-9][0-9]|[1-3][0-1]\\-[0][0-9]\\-[0-9][0-9]|\\\n",
    "[0][1-9]\\-[1][0-2]\\-[0-9][0-9]|[1-2][0-9]\\-[1][0-2]\\-[0-9][0-9]|[1-3][0-1]\\-[1][0-2]\\-[0-9][0-9]'\n",
    "\n",
    "# the last 4 test cases are valid\n",
    "test_cases = '''1992-12-12\n",
    "10@12@2005\n",
    "01/33/2001\n",
    "00/31/2001\n",
    "01/00/2001\n",
    "32/01/2001\n",
    "10/2/2005\n",
    "10-02-2005\n",
    "10/02/05\n",
    "10-02-05'''\n",
    "\n",
    "for date in test_cases.split('\\n'):\n",
    "    if(re.search(regex, date)):  \n",
    "        print(f\"{date} is a VALID date\")  \n",
    "    else:\n",
    "        print(f\"{date} is an INVALID date\") "
   ]
  },
  {
   "cell_type": "markdown",
   "metadata": {},
   "source": [
    "**Part 2 Answer**\n",
    "- Date format: Day Month Year\n",
    "- Pattern 1: \"10 Feb 2005\"\n",
    "- Pattern 2: \"10 February 2005\"\n",
    "- Pattern 3: \"Feb 10, 2005\"\n",
    "- Pattern 4: \"February 10, 2005\""
   ]
  },
  {
   "cell_type": "code",
   "execution_count": 36,
   "metadata": {},
   "outputs": [
    {
     "name": "stdout",
     "output_type": "stream",
     "text": [
      "10 Xys 1994 is an INVALID date\n",
      "Feb 10 2019 is an INVALID date\n",
      "20Feb2019 is an INVALID date\n",
      "20 Feb, 2019 is an INVALID date\n",
      "2019 Feb 10 is an INVALID date\n",
      "Feb 33, 2005 is an INVALID date\n",
      "Feb 00, 2005 is an INVALID date\n",
      "10 Feb 2005 is a VALID date\n",
      "10 February 2005 is a VALID date\n",
      "Feb 10, 2005 is a VALID date\n",
      "February 10, 2005 is a VALID date\n"
     ]
    }
   ],
   "source": [
    "import regex\n",
    "months = ['Jan', 'January', 'Feb', 'February', 'Mar', 'March', 'Apr', 'April', 'May', 'Jun', 'June',\n",
    "         'Jul', 'July', 'Aug', 'August', 'Sep', 'September', 'Oct', 'October', 'Nov', 'November', 'Dec', 'December']\n",
    "\n",
    "# check if an date string is valid \n",
    "regex_text = r'[0][1-9]\\s\\L<words>\\s[0-9][0-9][0-9][0-9]|[1-2][0-9]\\s\\L<words>\\s[0-9][0-9][0-9][0-9]|[1-3][0-1]\\s\\L<words>\\s[0-9][0-9][0-9][0-9]|\\\n",
    "\\L<words>\\s[0][1-9]\\,\\s[0-9][0-9][0-9][0-9]|\\L<words>\\s[1-2][0-9]\\,\\s[0-9][0-9][0-9][0-9]|\\L<words>\\s[1-3][0-1]\\,\\s[0-9][0-9][0-9][0-9]'\n",
    "\n",
    "# the last 4 test cases are valid\n",
    "test_cases = '''10 Xys 1994\n",
    "Feb 10 2019\n",
    "20Feb2019\n",
    "20 Feb, 2019\n",
    "2019 Feb 10\n",
    "Feb 33, 2005\n",
    "Feb 00, 2005\n",
    "10 Feb 2005\n",
    "10 February 2005\n",
    "Feb 10, 2005\n",
    "February 10, 2005'''\n",
    "\n",
    "for date in test_cases.split('\\n'):\n",
    "    if(regex.search(regex_text, date, words=months)):  \n",
    "        print(f\"{date} is a VALID date\")  \n",
    "    else:\n",
    "        print(f\"{date} is an INVALID date\") "
   ]
  }
 ],
 "metadata": {
  "kernelspec": {
   "display_name": "Python 3",
   "language": "python",
   "name": "python3"
  },
  "language_info": {
   "codemirror_mode": {
    "name": "ipython",
    "version": 3
   },
   "file_extension": ".py",
   "mimetype": "text/x-python",
   "name": "python",
   "nbconvert_exporter": "python",
   "pygments_lexer": "ipython3",
   "version": "3.7.6"
  }
 },
 "nbformat": 4,
 "nbformat_minor": 1
}
