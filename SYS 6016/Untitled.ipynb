{
 "cells": [
  {
   "cell_type": "markdown",
   "metadata": {},
   "source": [
    "`{30: (26, 28, 12)}` \n",
    "\n",
    "\n",
    "`{30: \"Congxin Xu\"}`\n",
    "\n",
    "`{30: \"The Effects of Data Augmentation on Vehicle Image Classification\"}`\n",
    "\n",
    "[OPTIONALLY] some redundancy notes to provide a way to confirm accuracy of the above in case something goes wrong \n",
    "\n",
    "`{project_id_number_1: \"identify information like student name and project name\", project_id_number_1: \"identify information like student name and project name\", ...}`"
   ]
  }
 ],
 "metadata": {
  "kernelspec": {
   "display_name": "Python 3",
   "language": "python",
   "name": "python3"
  },
  "language_info": {
   "codemirror_mode": {
    "name": "ipython",
    "version": 3
   },
   "file_extension": ".py",
   "mimetype": "text/x-python",
   "name": "python",
   "nbconvert_exporter": "python",
   "pygments_lexer": "ipython3",
   "version": "3.7.6"
  }
 },
 "nbformat": 4,
 "nbformat_minor": 4
}
