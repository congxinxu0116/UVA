{
 "cells": [
  {
   "cell_type": "markdown",
   "metadata": {},
   "source": [
    "## Hidden Markov Models (HMM)\n",
    "\n",
    "HMM are popular approaches to working with time series problems where there are latent or hidden states\n",
    "\n",
    "There are 4 common inference problems in HMM:\n",
    "\n",
    "- __Filtering__  Inferring the present - carried out by passing messages up and to the right, so infer $h_t$ from $p(h_t|v_{1:t})$  where  $t = T$\n",
    "\n",
    "- __Prediction__ Inferring the future - similar to filtering but with a new future state, so infer $h_t$ from $p(h_t|v_{1:T})$ where $t>T$\n",
    "\n",
    "- __Smoothing__  Inferring the past - combine filtering messages with messages up and to the left, so infer $h_t$ from $p(h_t|v_{1:T})$ where $t <T$\n",
    "\n",
    "- __Decoding__ Find the most likely hidden path - computed similarly to smoothing, so infer the most likely hidden sequence $h_{1:T}$ from $p(h_{1:T}|v_{1:T})$"
   ]
  },
  {
   "cell_type": "code",
   "execution_count": 1,
   "metadata": {},
   "outputs": [],
   "source": [
    "#!/usr/bin/env python3\n",
    "# -*- coding: utf-8 -*-\n",
    "\"\"\"\n",
    "Created on Thu Nov 12 20:35:27 2020\n",
    "\n",
    "@author: donaldbrown\n",
    "\"\"\"\n",
    "\n",
    "import numpy as np\n",
    "import pandas as pd\n",
    "\n",
    "class HMM:\n",
    "    \"\"\"Creates a class for Hidden Markov Models\n",
    "    Input:\n",
    "        Viz:      List of observed or visible states over time\n",
    "        Trans_M:  Transition matrix for hidden states, H X H, H=len(Trans_M), no. of hidden variables\n",
    "        Obs_M:    Observation matrix, H X V, V = no. of visible variables\n",
    "        Pi:       List of initial state probabilities\n",
    "    Methods:\n",
    "        filter = The posterior probabilities for hidden states for each time period, T X H array\n",
    "        smoother = The probabiliteis for the hidden states at each prevoius time period, T X H array\n",
    "        viturbi = The most likely path of hidden states given the observed state, data frame, 1 X T\n",
    "        predictor = The probabilities for next hidden state and the next observed state, 1 X H array \"\"\"\n",
    "    \n",
    "    def __init__(self,Viz, Trans_M, Obs_M, Pi):\n",
    "        # initialize variables\n",
    "        # Hidden state transition matrix\n",
    "        self.Trans_M = Trans_M\n",
    "        # Visible or observates state probabilities given the hidden states\n",
    "        self.Obs_M = Obs_M\n",
    "        # No. of hidden states\n",
    "        self.H = Trans_M.shape[0]\n",
    "        # No. of observed states\n",
    "        self.V = Obs_M.shape[0]\n",
    "        # prior probabaiities for the hidden states\n",
    "        self.Pi = Pi\n",
    "        # List of observed states over time\n",
    "        self.Viz = Viz\n",
    "\n",
    "        \n",
    "    def filter(self):\n",
    "        \n",
    "        T = len(self.Viz)\n",
    "        \n",
    "        # Obtain the joint probabilities of the hidden and observed states at time t\n",
    "        self.alpha = np.zeros((T, self.H))\n",
    "        self.alpha[0, :] = self.Pi * self.Obs_M[:,self.Viz[0]]\n",
    " \n",
    "        for t in range(1, T):\n",
    "            for j in range(self.H):\n",
    "                self.alpha[t, j] = self.alpha[t - 1].dot(self.Trans_M[:, j]) * self.Obs_M[j, self.Viz[t]]\n",
    "        \n",
    "        ### Insert your code here to computer the posterior probabilities ###\n",
    "        self.Post = np.zeros((T, self.H))\n",
    "        \n",
    "        for t in range(0, T):\n",
    "            sum_of_row = sum(self.alpha[t,:])\n",
    "            for j in range(self.H):\n",
    "                self.Post[t, j] = self.alpha[t, j] / sum_of_row\n",
    "\n",
    "        print(\"self.alpha\")\n",
    "        print(self.alpha)\n",
    "        print(\"Posterior\")\n",
    "        print(self.Post)   \n",
    "        return self.Post\n",
    "      \n",
    "    def smoother(self):\n",
    "\n",
    "        T = len(self.Viz)\n",
    "        self.beta = np.zeros((T, self.H))\n",
    " \n",
    "        # setting beta(T) = 1\n",
    "        self.beta[T - 1] = np.ones((self.H))\n",
    " \n",
    "        # Loop backwards way from T-1 to 1\n",
    "        # Due to python indexing the actual loop will be T-2 to 0\n",
    "        for t in range(T - 2, -1, -1):\n",
    "            for j in range(self.H):\n",
    "                self.beta[t, j] = (self.beta[t + 1] * self.Obs_M[:, self.Viz[t + 1]]).dot(self.Trans_M[j, :])\n",
    "                \n",
    "        # Obtain the posterior probabilities of the hidden states given the observed states       \n",
    "        \n",
    "        ### Insert your code here to compute the posterior probabilities ###\n",
    "        # Post = np.dot(self.alpha, self.beta) /  np.dot(self.alpha, self.beta).sum(axis=1)\n",
    "        # Post = self.alpha * beta /  (self.alpha * beta).sum(axis=1)\n",
    "\n",
    "        \n",
    "        self.Post_smoother = np.zeros((T, self.H))\n",
    "        \n",
    "        for t in range(0, T):\n",
    "            sum_of_row = sum(self.alpha[t] * self.beta[t])\n",
    "            \n",
    "            for j in range(self.H):\n",
    "                self.Post_smoother[t, j] = (self.alpha[t, j] * self.beta[t, j])  / sum_of_row      \n",
    "        \n",
    "        print(\"beta\")\n",
    "        print(self.beta)\n",
    "        print(\"Posterior\")\n",
    "        print(self.Post_smoother)\n",
    " \n",
    "        return self.Post_smoother\n",
    "    \n",
    "    \n",
    "    def viturbi(self):\n",
    "        T = len(self.Viz)\n",
    "        \n",
    "        # Obtain the joint probabity of the most likely path that ends in state j at time t\n",
    "        delta = np.zeros((T, self.H))\n",
    "        delta[0, :] = (self.Pi * self.Obs_M[:, Viz[0]])\n",
    " \n",
    "\n",
    "        prev = np.zeros((T, self.H))\n",
    "        prev[0,:] = np.repeat(None, 3)\n",
    " \n",
    "        for t in range(1, T):\n",
    "            for j in range(self.H):\n",
    "                # The most likely state given our previoius state at t-1\n",
    "                \n",
    "                prob = delta[t - 1] * (self.Trans_M[:, j])\n",
    " \n",
    "                #  The probability of the most probable state given the previous state and the observation at time t\n",
    "                \n",
    "                delta[t, j] = np.max(prob) * (self.Obs_M[j, Viz[t]])                \n",
    "                \n",
    "                # The most probable state given previous state \n",
    "\n",
    "                prev[t, j] = np.argmax(prob)\n",
    " \n",
    "                \n",
    "        # Path Array\n",
    "        S = np.zeros(T)\n",
    " \n",
    "        # Find the most probable last hidden state\n",
    "        last_state = np.argmax(delta[T-1, :])\n",
    " \n",
    "        S[T-1] = last_state\n",
    "        \n",
    "        # Find the most probable hidden states at the previous times\n",
    "        # Walk backwords\n",
    "        ### Insert your code here ###\n",
    "        for t in range(T-1, 0, -1):\n",
    "            S[t] = np.argmax(delta[t, :])\n",
    "            \n",
    "        # Change to states numbers in problem (i.e., +1)\n",
    "        S = S+1\n",
    "            \n",
    "        S = S.reshape([1,3])\n",
    " \n",
    "        # Path, S, as a dataframe \n",
    "        # Create a list of column names, Time  \n",
    "        cols = list()\n",
    "        for i in range(1,T+1):\n",
    "            cols.append(\"Time \"+(str(i)))\n",
    "        Path = pd.DataFrame(S, columns = cols)\n",
    "        print('delta')\n",
    "        print(delta)\n",
    "        print('Previous')\n",
    "        print(prev)        \n",
    "        print(\"Path\")\n",
    "        print(Path)\n",
    "        return Path\n",
    " \n",
    "\n",
    "    def predictor(self, steps = 1):\n",
    "        T = len(self.Viz)\n",
    "        # Hidden state prediction probabilities using filtering results (Post)\n",
    "        ### Insert your code here ### dot product of filter post and transition matrix\n",
    "        Pred_Hidden = Pred_Hidden = self.Post[T-1, :] @ self.Trans_M \n",
    "        print(\"Predicted Hidden State\")\n",
    "        print(Pred_Hidden)\n",
    "        # Visible state prediction using the predicted hidden state probabilities\n",
    "        ### Insert your code here ### dot product pred_hidden with observed matrix\n",
    "        Pred_Visible = Pred_Visible = Pred_Hidden @ self.Obs_M\n",
    "        print(\"Predicted Visible State\")\n",
    "        print(Pred_Visible)"
   ]
  },
  {
   "cell_type": "markdown",
   "metadata": {},
   "source": [
    "## Burglary Problem from the Lecture"
   ]
  },
  {
   "cell_type": "code",
   "execution_count": 2,
   "metadata": {},
   "outputs": [],
   "source": [
    "# Example lecture problem: Burglar in an apartment\n",
    "# Data \n",
    "# Transition matrix\n",
    "TM = np.array([[.1,.4,.5],[.4,.0,.6],[0,.6,.4]])  \n",
    "# Observation matrix\n",
    "OM = np.array([[.6,.2,.2],[.2,.6,.2],[.2,.2,.6]])\n",
    "OM = OM.T\n",
    "# Prior probabilities of hidden states\n",
    "p = [1,0,0]\n",
    "# Observed visible states\n",
    "Viz = [0,2,2]\n"
   ]
  },
  {
   "cell_type": "code",
   "execution_count": 3,
   "metadata": {},
   "outputs": [
    {
     "name": "stdout",
     "output_type": "stream",
     "text": [
      "self.alpha\n",
      "[[0.6     0.      0.     ]\n",
      " [0.012   0.048   0.18   ]\n",
      " [0.00408 0.02256 0.06408]]\n",
      "Posterior\n",
      "[[1.         0.         0.        ]\n",
      " [0.05       0.2        0.75      ]\n",
      " [0.04497354 0.24867725 0.70634921]]\n"
     ]
    },
    {
     "data": {
      "text/plain": [
       "array([[1.        , 0.        , 0.        ],\n",
       "       [0.05      , 0.2       , 0.75      ],\n",
       "       [0.04497354, 0.24867725, 0.70634921]])"
      ]
     },
     "execution_count": 3,
     "metadata": {},
     "output_type": "execute_result"
    }
   ],
   "source": [
    "# Filtering results\n",
    "hmm1 = HMM(Viz, TM, OM, p)\n",
    "hmm1.filter()"
   ]
  },
  {
   "cell_type": "code",
   "execution_count": 4,
   "metadata": {},
   "outputs": [
    {
     "name": "stdout",
     "output_type": "stream",
     "text": [
      "self.alpha\n",
      "[[0.6     0.      0.     ]\n",
      " [0.012   0.048   0.18   ]\n",
      " [0.00408 0.02256 0.06408]]\n",
      "Posterior\n",
      "[[1.         0.         0.        ]\n",
      " [0.05       0.2        0.75      ]\n",
      " [0.04497354 0.24867725 0.70634921]]\n"
     ]
    },
    {
     "data": {
      "text/plain": [
       "array([[1.        , 0.        , 0.        ],\n",
       "       [0.05      , 0.2       , 0.75      ],\n",
       "       [0.04497354, 0.24867725, 0.70634921]])"
      ]
     },
     "execution_count": 4,
     "metadata": {},
     "output_type": "execute_result"
    }
   ],
   "source": [
    "# Filtering results - Answers\n",
    "hmm1 = HMM(Viz, TM, OM, p)\n",
    "hmm1.filter()"
   ]
  },
  {
   "cell_type": "code",
   "execution_count": 5,
   "metadata": {},
   "outputs": [
    {
     "name": "stdout",
     "output_type": "stream",
     "text": [
      "beta\n",
      "[[0.1512 0.1616 0.1392]\n",
      " [0.4    0.44   0.36  ]\n",
      " [1.     1.     1.    ]]\n",
      "Posterior\n",
      "[[1.         0.         0.        ]\n",
      " [0.05291005 0.23280423 0.71428571]\n",
      " [0.04497354 0.24867725 0.70634921]]\n"
     ]
    },
    {
     "data": {
      "text/plain": [
       "array([[1.        , 0.        , 0.        ],\n",
       "       [0.05291005, 0.23280423, 0.71428571],\n",
       "       [0.04497354, 0.24867725, 0.70634921]])"
      ]
     },
     "execution_count": 5,
     "metadata": {},
     "output_type": "execute_result"
    }
   ],
   "source": [
    "# Smoothing results\n",
    "hmm1.smoother()"
   ]
  },
  {
   "cell_type": "code",
   "execution_count": 6,
   "metadata": {},
   "outputs": [
    {
     "name": "stdout",
     "output_type": "stream",
     "text": [
      "beta\n",
      "[[0.1512 0.1616 0.1392]\n",
      " [0.4    0.44   0.36  ]\n",
      " [1.     1.     1.    ]]\n",
      "Posterior\n",
      "[[1.         0.         0.        ]\n",
      " [0.05291005 0.23280423 0.71428571]\n",
      " [0.04497354 0.24867725 0.70634921]]\n"
     ]
    },
    {
     "data": {
      "text/plain": [
       "array([[1.        , 0.        , 0.        ],\n",
       "       [0.05291005, 0.23280423, 0.71428571],\n",
       "       [0.04497354, 0.24867725, 0.70634921]])"
      ]
     },
     "execution_count": 6,
     "metadata": {},
     "output_type": "execute_result"
    }
   ],
   "source": [
    "# Smoothing results - Answers\n",
    "hmm1.smoother()"
   ]
  },
  {
   "cell_type": "code",
   "execution_count": 7,
   "metadata": {},
   "outputs": [
    {
     "name": "stdout",
     "output_type": "stream",
     "text": [
      "delta\n",
      "[[0.6     0.      0.     ]\n",
      " [0.012   0.048   0.18   ]\n",
      " [0.00384 0.0216  0.0432 ]]\n",
      "Previous\n",
      "[[nan nan nan]\n",
      " [ 0.  0.  0.]\n",
      " [ 1.  2.  2.]]\n",
      "Path\n",
      "   Time 1  Time 2  Time 3\n",
      "0     1.0     3.0     3.0\n"
     ]
    },
    {
     "data": {
      "text/html": [
       "<div>\n",
       "<style scoped>\n",
       "    .dataframe tbody tr th:only-of-type {\n",
       "        vertical-align: middle;\n",
       "    }\n",
       "\n",
       "    .dataframe tbody tr th {\n",
       "        vertical-align: top;\n",
       "    }\n",
       "\n",
       "    .dataframe thead th {\n",
       "        text-align: right;\n",
       "    }\n",
       "</style>\n",
       "<table border=\"1\" class=\"dataframe\">\n",
       "  <thead>\n",
       "    <tr style=\"text-align: right;\">\n",
       "      <th></th>\n",
       "      <th>Time 1</th>\n",
       "      <th>Time 2</th>\n",
       "      <th>Time 3</th>\n",
       "    </tr>\n",
       "  </thead>\n",
       "  <tbody>\n",
       "    <tr>\n",
       "      <th>0</th>\n",
       "      <td>1.0</td>\n",
       "      <td>3.0</td>\n",
       "      <td>3.0</td>\n",
       "    </tr>\n",
       "  </tbody>\n",
       "</table>\n",
       "</div>"
      ],
      "text/plain": [
       "   Time 1  Time 2  Time 3\n",
       "0     1.0     3.0     3.0"
      ]
     },
     "execution_count": 7,
     "metadata": {},
     "output_type": "execute_result"
    }
   ],
   "source": [
    "# Decoding results using the Viturbi algorithm\n",
    "hmm1.viturbi()"
   ]
  },
  {
   "cell_type": "code",
   "execution_count": 8,
   "metadata": {},
   "outputs": [
    {
     "name": "stdout",
     "output_type": "stream",
     "text": [
      "delta\n",
      "[[0.6     0.      0.     ]\n",
      " [0.012   0.048   0.18   ]\n",
      " [0.00384 0.0216  0.0432 ]]\n",
      "Previous\n",
      "[[nan nan nan]\n",
      " [ 0.  0.  0.]\n",
      " [ 1.  2.  2.]]\n",
      "Path\n",
      "   Time 1  Time 2  Time 3\n",
      "0     1.0     3.0     3.0\n"
     ]
    },
    {
     "data": {
      "text/html": [
       "<div>\n",
       "<style scoped>\n",
       "    .dataframe tbody tr th:only-of-type {\n",
       "        vertical-align: middle;\n",
       "    }\n",
       "\n",
       "    .dataframe tbody tr th {\n",
       "        vertical-align: top;\n",
       "    }\n",
       "\n",
       "    .dataframe thead th {\n",
       "        text-align: right;\n",
       "    }\n",
       "</style>\n",
       "<table border=\"1\" class=\"dataframe\">\n",
       "  <thead>\n",
       "    <tr style=\"text-align: right;\">\n",
       "      <th></th>\n",
       "      <th>Time 1</th>\n",
       "      <th>Time 2</th>\n",
       "      <th>Time 3</th>\n",
       "    </tr>\n",
       "  </thead>\n",
       "  <tbody>\n",
       "    <tr>\n",
       "      <th>0</th>\n",
       "      <td>1.0</td>\n",
       "      <td>3.0</td>\n",
       "      <td>3.0</td>\n",
       "    </tr>\n",
       "  </tbody>\n",
       "</table>\n",
       "</div>"
      ],
      "text/plain": [
       "   Time 1  Time 2  Time 3\n",
       "0     1.0     3.0     3.0"
      ]
     },
     "execution_count": 8,
     "metadata": {},
     "output_type": "execute_result"
    }
   ],
   "source": [
    "# Decoding results using the Viturbi algorithm - Answers\n",
    "hmm1.viturbi()"
   ]
  },
  {
   "cell_type": "code",
   "execution_count": 9,
   "metadata": {},
   "outputs": [
    {
     "name": "stdout",
     "output_type": "stream",
     "text": [
      "Predicted Hidden State\n",
      "[0.10396825 0.44179894 0.4542328 ]\n",
      "Predicted Visible State\n",
      "[0.2415873  0.37671958 0.38169312]\n"
     ]
    }
   ],
   "source": [
    "hmm1.predictor()"
   ]
  },
  {
   "cell_type": "code",
   "execution_count": 10,
   "metadata": {},
   "outputs": [
    {
     "name": "stdout",
     "output_type": "stream",
     "text": [
      "Predicted Hidden State\n",
      "[0.10396825 0.44179894 0.4542328 ]\n",
      "Predicted Visible State\n",
      "[0.2415873  0.37671958 0.38169312]\n"
     ]
    }
   ],
   "source": [
    "# One step predictions of hidden and visible states - answers\n",
    "\n",
    "hmm1.predictor()"
   ]
  },
  {
   "cell_type": "markdown",
   "metadata": {},
   "source": [
    "## HW 5 Problem - Investment Decision"
   ]
  }
 ],
 "metadata": {
  "kernelspec": {
   "display_name": "Python 3",
   "language": "python",
   "name": "python3"
  },
  "language_info": {
   "codemirror_mode": {
    "name": "ipython",
    "version": 3
   },
   "file_extension": ".py",
   "mimetype": "text/x-python",
   "name": "python",
   "nbconvert_exporter": "python",
   "pygments_lexer": "ipython3",
   "version": "3.7.6"
  }
 },
 "nbformat": 4,
 "nbformat_minor": 2
}
