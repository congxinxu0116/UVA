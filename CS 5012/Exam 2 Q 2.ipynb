{
 "cells": [
  {
   "cell_type": "markdown",
   "metadata": {},
   "source": [
    "# Exam 2: Question 2\n",
    "\n",
    "- Name: Congxin (David) Xu\n",
    "- Computing ID: cx2rx\n",
    "\n",
    "\n",
    "1. Represent the following query in Relational Algebra (RA): Query:  Determine the Emp# of the employees taking all the courses with topic “DB.”"
   ]
  },
  {
   "cell_type": "markdown",
   "metadata": {},
   "source": [
    "$$\\Pi_{\\text{Emp #}} (\\sigma_{\\text{Topic = 'DB'}}(\\text{Takes} \\bowtie \\text{Courses}))$$"
   ]
  },
  {
   "cell_type": "markdown",
   "metadata": {},
   "source": [
    "2. What is the schema of the resulting table?"
   ]
  },
  {
   "cell_type": "markdown",
   "metadata": {},
   "source": [
    "Assuming the resulting table name is \"result\", the schema will be \n",
    "```\n",
    "result(Emp #, Course #, Topic, Weeks)\n",
    "```\n",
    "with \"Emp #\" and \"Course #\" as its primary keys. Markdown does not support underline, so I could not draw the underline below the primary keys."
   ]
  },
  {
   "cell_type": "markdown",
   "metadata": {},
   "source": [
    "# Exam 2: Question 11\n",
    "\n",
    "$$\\Pi_{\\text{Name, Dept#}} (\\sigma_{\\text{Job = 'Engineer' and Salary > 2000}}(\\text{Employees}))$$\n",
    "\n",
    "$$_{\\text{Emp#}}G_{avg(Salary)}(\\sigma_{\\text{Job = 'Engineer'}}\\text{Employees}))$$\n"
   ]
  }
 ],
 "metadata": {
  "kernelspec": {
   "display_name": "Python 3",
   "language": "python",
   "name": "python3"
  },
  "language_info": {
   "codemirror_mode": {
    "name": "ipython",
    "version": 3
   },
   "file_extension": ".py",
   "mimetype": "text/x-python",
   "name": "python",
   "nbconvert_exporter": "python",
   "pygments_lexer": "ipython3",
   "version": "3.7.6"
  }
 },
 "nbformat": 4,
 "nbformat_minor": 4
}
