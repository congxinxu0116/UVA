{
 "cells": [
  {
   "cell_type": "markdown",
   "metadata": {},
   "source": [
    "# 5.6.2 Homework: HeapSort\n",
    "\n",
    "- Name: Congxin (David) Xu\n",
    "- Computing ID: cx2rx"
   ]
  },
  {
   "cell_type": "markdown",
   "metadata": {},
   "source": [
    "### Question 1: Create a Binary Search Tree\n",
    "#### Part 1\n",
    "- **List 1**: Leo, Hester, Ressie, Keira, Damian, Victor, Collin, Marci, Ashlie, Willis, Eric, Mya, Elizabeth, Ralph\n",
    "\n",
    "    1. List out the tree created by the add order of list 1 using post-order traversal.\n",
    "    2. If we removed the node containing Damian, what two values could we replace it with?\n",
    "    3. What if we removed the node containing Ressie?"
   ]
  },
  {
   "cell_type": "markdown",
   "metadata": {},
   "source": [
    "**Answer**\n",
    "\n",
    "1. [Ashlie, Collin, Elizabeth, Eric, Damian, Keira, Hester, Ralph, Mya, Marci, Willis, Victor, Ressie, Leo]\n",
    "2. The two values we could replace Damian with are *Collin* and *Elizabeth*.\n",
    "3. If we removed the node containing Ressie, we can replace it with *Victor*, or *Ralph*."
   ]
  },
  {
   "cell_type": "markdown",
   "metadata": {},
   "source": [
    "#### Part 2\n",
    "- **List 2**: Victor, Ralph, Leo, Mya, Eric, Elizabeth, Hester, Damian, Willis, Collin, Keira, Marci, Ashlie, Ressie\n",
    "\n",
    "    1. List out the tree created by the add order of list 2 using post-order traversal."
   ]
  },
  {
   "cell_type": "markdown",
   "metadata": {},
   "source": [
    "**Answer**\n",
    "1. [Ashlie, Collin, Damian, Elizabeth, Keira, Hester, Eric, Marci, Mya, Leo, Ressie, Ralph, Willis, Victor]"
   ]
  },
  {
   "cell_type": "markdown",
   "metadata": {},
   "source": [
    "#### Part 3\n",
    "- Compare the tree from list 1 with the tree from list 2, which do you think would perform better for the add and remove methods?\n",
    "\n",
    "**Answer**\n",
    "\n",
    "I think the List 1 is going to perform better for the add and remove methods because it is more balanced comparing List 2."
   ]
  },
  {
   "cell_type": "markdown",
   "metadata": {},
   "source": [
    "### Question 2\n",
    "Given an array A[1, ..., n], with distinct values and k with $1 \\leq k \\leq n$. We want to return the k smallest element of A[1, ...,n], in non-decreasing order. For example: A = [5, 4, 6, 2, 10] and $k = 4$, the algorithm returns [2, 4, 5, 6]. There are at least the following four approaches:\n",
    "\n",
    "1. heapify A and then extract k elements one by one;\n",
    "2. sort the array (e.g. using MergeSort or HeapSort) and then read the first k elements;\n",
    "3. apply the selection procedure k times to find the 1st, 2nd,..., the k’th smallest element;\n",
    "4. apply selection procedure to find the k’th smallest element, then use that element to find the k smallest elements, and then sort those k elements.\n",
    "\n",
    "For each approach, find the asymptotic worst-case running time which should\n",
    "be of the form $\\Theta(f(n, k))$.\n",
    "Now assume $k = \\sqrt{n}$. Then for each approach express the asymptotic\n",
    "running-time as a function of $n$ only."
   ]
  },
  {
   "cell_type": "markdown",
   "metadata": {},
   "source": [
    "**Answer**\n",
    "1. $\\Theta(f(n, k)) = \\Theta(k log n)$. If we assume $k = \\sqrt{n}$, then $\\Theta(f(n, k)) = \\Theta(\\sqrt{n} log n)$\n",
    "2. $\\Theta(f(n, k)) = \\Theta(n log n + k)$. If we assume $k = \\sqrt{n}$, then $\\Theta(f(n, k)) = \\Theta(n log n +\\sqrt{n}) = \\Theta(n log n + )$\n",
    "3. $\\Theta(f(n, k)) = \\Theta(k * n^2)$. If we assume $k = \\sqrt{n}$, then $\\Theta(f(n, k)) = \\Theta(\\sqrt{n} * n^2) = \\Theta(n^{5/2})$\n",
    "4. $\\Theta(f(n, k)) = \\Theta(n^2 + n + klogk) = \\Theta(n^2 + klogk)$. If we assume $k = \\sqrt{n}$, then $\\Theta(f(n, k)) = \\Theta(n^2 + \\sqrt{n}log\\sqrt{n}) = \\Theta(n^2)$."
   ]
  },
  {
   "cell_type": "markdown",
   "metadata": {},
   "source": [
    "### Question 3\n",
    "- Implement HeapSort. Submit your code in Jupyter notebook format along with some test results and discuss if your results are supporting the claim of $\\Theta(n lg n)$.\n",
    "- Compare the performance of HeapSort with MergeSort and Quick-Sort (no coding is required, however you can code if helps in your answer).\n",
    "\n",
    "**Answer**\n",
    "\n",
    "Following the pesudo code provided within Chapter 6 of the Introdution to Algorithm, I come up with the following program:"
   ]
  },
  {
   "cell_type": "code",
   "execution_count": 1,
   "metadata": {},
   "outputs": [],
   "source": [
    "# Define a Heap class\n",
    "class Heap:\n",
    "    def __init__(self, array):\n",
    "        self.array = array\n",
    "        self.length = len(array)\n",
    "        self.heap_size = len(self.array)\n",
    "           \n",
    "    def Left(self, i):\n",
    "        return 2*i + 1\n",
    "    \n",
    "    def Right(self,i):\n",
    "        return 2*i + 2"
   ]
  },
  {
   "cell_type": "code",
   "execution_count": 2,
   "metadata": {},
   "outputs": [],
   "source": [
    "# Using Max Heap for HeapSort\n",
    "def Max_Heapify(A, i):\n",
    "    # Get the index of the child nodes\n",
    "    l = A.Left(i) \n",
    "    r = A.Right(i)\n",
    "    \n",
    "    # Find the max value among left, root and right\n",
    "    if l < A.heap_size and A.array[l] > A.array[i]:\n",
    "        largest = l\n",
    "    else:\n",
    "        largest = i\n",
    "    \n",
    "    if r < A.heap_size and A.array[r] > A.array[largest]:\n",
    "        largest = r\n",
    "    \n",
    "    # Change the root if root is not the max\n",
    "    if largest != i:\n",
    "        A.array[i], A.array[largest] = A.array[largest], A.array[i]\n",
    "        Max_Heapify(A, largest)"
   ]
  },
  {
   "cell_type": "code",
   "execution_count": 3,
   "metadata": {},
   "outputs": [],
   "source": [
    "# Make sure we have a max heap\n",
    "def Build_Max_Heap(A):\n",
    "    A.heap_size = A.length\n",
    "    for i in range(A.length // 2 - 1, -1, -1):\n",
    "        Max_Heapify(A, i)"
   ]
  },
  {
   "cell_type": "code",
   "execution_count": 4,
   "metadata": {},
   "outputs": [],
   "source": [
    "def Heapsort(A):\n",
    "    Build_Max_Heap(A)\n",
    "    for i in range(A.length - 1, 0, -1):\n",
    "        A.array[0], A.array[i] = A.array[i], A.array[0]\n",
    "        A.heap_size = i\n",
    "        Max_Heapify(A, 0)\n",
    "        # print(A.array)"
   ]
  },
  {
   "cell_type": "code",
   "execution_count": 7,
   "metadata": {},
   "outputs": [
    {
     "data": {
      "text/plain": [
       "[0, 1, 2, 3, 5, 6, 7, 9, 10]"
      ]
     },
     "execution_count": 7,
     "metadata": {},
     "output_type": "execute_result"
    }
   ],
   "source": [
    "A = [1,3,2,5,6,9,10,7,0]\n",
    "H = Heap(A)\n",
    "Heapsort(H)\n",
    "A"
   ]
  },
  {
   "cell_type": "markdown",
   "metadata": {},
   "source": [
    "My Heapsort algorithm supports the claim that the time complexity of this algorithm is $\\Theta(nlogn).$ because in my `Heapsort()` function, it will take $\\Theta(log n)$ to `Max_Heapify()` the list and it is going to run this `Max_Heapify()` function $n - 1$ times. `Build_Max_Heap()` function will also run the `Max_Heapify()` function $n // 2$ times. Therefore, the final time complexity for the entire `Heapsort()` function is $\\Theta(n log n)$."
   ]
  },
  {
   "cell_type": "code",
   "execution_count": null,
   "metadata": {},
   "outputs": [],
   "source": []
  }
 ],
 "metadata": {
  "kernelspec": {
   "display_name": "Python 3",
   "language": "python",
   "name": "python3"
  },
  "language_info": {
   "codemirror_mode": {
    "name": "ipython",
    "version": 3
   },
   "file_extension": ".py",
   "mimetype": "text/x-python",
   "name": "python",
   "nbconvert_exporter": "python",
   "pygments_lexer": "ipython3",
   "version": "3.7.6"
  }
 },
 "nbformat": 4,
 "nbformat_minor": 4
}
