{
 "cells": [
  {
   "cell_type": "markdown",
   "metadata": {},
   "source": [
    "# 3.5 Assignment: Bayes Classifiers as Linear Discriminants\n",
    "\n",
    "- Name: Congxin (David) Xu\n",
    "- Computing ID: cx2rx\n",
    "\n",
    "## Linear Discriminant Analysis Code.py"
   ]
  },
  {
   "cell_type": "code",
   "execution_count": 4,
   "metadata": {},
   "outputs": [],
   "source": [
    "# This is code for Linear Discriminant Analysis\n",
    "# Written by William F Basener\n",
    "# University of Virginia, School of Data Science\n",
    "# For use in teaching Bayesian Machine Learning\n",
    "#\n",
    "# The code currently computes the maximum likelihood classification\n",
    "# Student is to add method to compute posterior probabilities and \n",
    "#   maximum probability classification\n",
    "\n",
    "import pandas as pd\n",
    "import numpy as np\n",
    "\n",
    "\n",
    "def multivariate_gaussian_pdf(X, MU, SIGMA):\n",
    "    \"\"\" Code from Data Blog \n",
    "    https://xavierbourretsicotte.github.io/MLE_Multivariate_Gaussian.html\n",
    "    Maximum Likelihood Estimator: Multivariate Gaussian Distribution by \n",
    "    Xavier Bourret Sicotte, Fri 22 June 2018\n",
    "    \n",
    "    Returns the pdf of a multivariate Gaussian distribution\n",
    "     - X, MU are p x 1 vectors\n",
    "     - SIGMA is a p x p matrix \"\"\"\n",
    "    # Initialize and reshape\n",
    "    X = X.reshape(-1, 1)\n",
    "    MU = MU.reshape(-1, 1)\n",
    "    p, _ = SIGMA.shape\n",
    "\n",
    "    # Compute values\n",
    "    SIGMA_inv = np.linalg.inv(SIGMA)\n",
    "    denominator = np.sqrt((2 * np.pi) ** p * np.linalg.det(SIGMA))\n",
    "    exponent = -(1 / 2) * ((X - MU).T @ SIGMA_inv @ (X - MU))\n",
    "\n",
    "    # Return result\n",
    "    return float((1. / denominator) * np.exp(exponent))\n",
    "\n",
    "\n",
    "class LDA:\n",
    "    \"\"\" Creates a class for Linear Discriminant Analysis\n",
    "    Input:\n",
    "        fname = file name for a csv file, must have one column \n",
    "        labeled \"class\" and the rest numeric data\n",
    "    Methods:\n",
    "        compute_probabilities = given an input observation computes the \n",
    "            likelihood for each class and the GML class\n",
    "        compute_probabilities: given an input observation and prior \n",
    "            probabilities, computes the posterior probabilities for each \n",
    "            class and most probable class\"\"\"\n",
    "\n",
    "    def __init__(self, fname):\n",
    "        # reads the data and computes the statistics needed for classification\n",
    "\n",
    "        # read the iris data as a Pandas data frame\n",
    "        df = pd.read_csv(fname)\n",
    "\n",
    "        # separate the class labels from the rest of the data\n",
    "        # we are assuming the column name with class labels is 'Class'\n",
    "        # and all other columns are numeric\n",
    "        self.data_labels = df.loc[:]['Class']\n",
    "        self.data = np.asarray(df.drop('Class', axis=1, inplace=False))\n",
    "\n",
    "        # get information about the dimensions the data\n",
    "        self.num_rows, self.num_cols = self.data.shape\n",
    "\n",
    "        # get the class names as an array of strings\n",
    "        self.class_names = np.unique(self.data_labels)\n",
    "\n",
    "        # determine number of observations in each class\n",
    "        self.num_obs = dict()\n",
    "        for name in self.class_names:\n",
    "            self.num_obs[name] = sum(self.data_labels == name)\n",
    "\n",
    "        # compute the mean of each class\n",
    "        self.means = dict()\n",
    "        for name in self.class_names:\n",
    "            self.means[name] = np.mean(self.data[self.data_labels == name, :], 0)\n",
    "\n",
    "        # compute the mean covariance matrix\n",
    "        self.cov = np.zeros([self.num_cols, self.num_cols])\n",
    "        for name in self.class_names:\n",
    "            self.cov = self.cov + self.num_obs[name] * \\\n",
    "                np.cov(np.transpose(self.data[self.data_labels == name, :]))\n",
    "        self.cov = self.cov / self.num_rows\n",
    "\n",
    "    def compute_likelihoods(self, x):\n",
    "        # compute and output the likelihood of each class and the maximum likelihood class\n",
    "\n",
    "        # check that the input data x has the correct number of rows\n",
    "        if not (len(x) == self.num_cols):\n",
    "            print('Data vector has wrong number of values.')\n",
    "            return -1\n",
    "\n",
    "        # reformat x as a numpy array, incase the user input a list\n",
    "        x = np.asarray(x)\n",
    "\n",
    "        # compute the likelihood of each class\n",
    "        likelihoods = np.zeros(len(self.class_names))\n",
    "        idx = 0\n",
    "        for name in self.class_names:\n",
    "            likelihoods[idx] = multivariate_gaussian_pdf(x, self.means[name], self.cov)\n",
    "            idx = idx + 1\n",
    "\n",
    "        # get the indices for sorting the likelihoods (in descending order)\n",
    "        indices_sorted = np.argsort(likelihoods)[::-1]\n",
    "\n",
    "        # print the predicted class and all class likelihoods\n",
    "        print('LDA Predicted Class: ' + self.class_names[indices_sorted[0]])\n",
    "        print('LDA Class Likelihoods:')\n",
    "        for idx in range(len(indices_sorted)):\n",
    "            print(self.class_names[indices_sorted[idx]] + ': ' + str(likelihoods[indices_sorted[idx]]))\n",
    "\n",
    "        # return the likelihoods\n",
    "        return likelihoods\n",
    "\n",
    "    def compute_probabilities(self, x, priors):\n",
    "        # compute and output the probability of each class and the maximum probability class\n",
    "        # compute and output the likelihood of each class and the maximum likelihood class\n",
    "\n",
    "        # check that the input data x has the correct number of rows\n",
    "        if not (len(x) == self.num_cols):\n",
    "            print('Data vector has wrong number of values.')\n",
    "            return -1\n",
    "\n",
    "        # reformat x as a numpy array, incase the user input a list\n",
    "        x = np.asarray(x)\n",
    "\n",
    "        # compute the likelihood and likelihood * prior of each class\n",
    "        likelihoods = np.zeros(len(self.class_names))\n",
    "        denom = np.zeros(len(self.class_names))\n",
    "        idx = 0\n",
    "        \n",
    "        for name in self.class_names:\n",
    "            likelihoods[idx] = multivariate_gaussian_pdf(x, self.means[name], self.cov)\n",
    "            denom[idx] = (likelihoods[idx] * priors[name])\n",
    "            idx = idx + 1\n",
    "        \n",
    "        # Calculate the sum of denom\n",
    "        denom = sum(denom)\n",
    "        \n",
    "        # compute the probabilities of each class\n",
    "        probabilities = np.zeros(len(self.class_names))\n",
    "        idx = 0\n",
    "        for name in self.class_names:\n",
    "            probabilities[idx] = (likelihoods[idx] * priors[name]) / denom\n",
    "            idx = idx + 1 \n",
    " \n",
    "        # get the indices for sorting the probabilities (in descending order)\n",
    "        indices_sorted = np.argsort(probabilities)[::-1]\n",
    "\n",
    "        # print the predicted class and all class likelihoods\n",
    "        print('LDA Predicted Class: ' + self.class_names[indices_sorted[0]])\n",
    "        print('LDA Class Probabilities:')\n",
    "        for idx in range(len(indices_sorted)):\n",
    "            print(self.class_names[indices_sorted[idx]] + ': ' + str(probabilities[indices_sorted[idx]]))\n",
    "\n",
    "        # return the likelihoods\n",
    "        return probabilities"
   ]
  },
  {
   "cell_type": "code",
   "execution_count": 6,
   "metadata": {},
   "outputs": [
    {
     "name": "stdout",
     "output_type": "stream",
     "text": [
      "=========================================\n",
      "LDA Predicted Class: Iris-setosa\n",
      "LDA Class Likelihoods:\n",
      "Iris-setosa: 3.1595383581646694\n",
      "Iris-versicolor: 9.957554809677293e-22\n",
      "Iris-virginica: 5.2550710115931905e-42\n",
      "=========================================\n",
      "LDA Predicted Class: Iris-setosa\n",
      "LDA Class Probabilities:\n",
      "Iris-setosa: 1.0\n",
      "Iris-versicolor: 3.151585352317576e-22\n",
      "Iris-virginica: 1.6632401369691825e-42\n",
      "=========================================\n",
      "<__main__.LDA object at 0x00000191E7EE69C8>\n"
     ]
    }
   ],
   "source": [
    "model_lda = LDA('Exercise3.2_iris_data.csv')\n",
    "\n",
    "Iris_setosa_observation = [5.1, 3.5, 1.4, 0.2]\n",
    "print(\"=========================================\")\n",
    "model_lda.compute_likelihoods(Iris_setosa_observation)\n",
    "\n",
    "uninformative_priors = {\n",
    "    \"Iris-setosa\": 1 / 3,\n",
    "    \"Iris-versicolor\": 1 / 3,\n",
    "    \"Iris-virginica\": 1 / 3\n",
    "}\n",
    "print(\"=========================================\")\n",
    "model_lda.compute_probabilities(Iris_setosa_observation, \n",
    "                                uninformative_priors)\n",
    "print(\"=========================================\")\n",
    "print(model_lda)"
   ]
  },
  {
   "cell_type": "markdown",
   "metadata": {},
   "source": [
    "## Quadratic Discriminant Analysis Code.py"
   ]
  },
  {
   "cell_type": "code",
   "execution_count": 7,
   "metadata": {},
   "outputs": [],
   "source": [
    "# This is code for Quadratic Discriminant Analysis\n",
    "# Written by William F Basener\n",
    "# University of Virginia, School of Data Science\n",
    "# For use in teaching Bayesian Machine Learning\n",
    "#\n",
    "# The code currently computes the maximum likelihood classification\n",
    "# Student is to add method to compute posterior probabilities and maximum probability classification\n",
    "\n",
    "import pandas as pd\n",
    "import numpy as np\n",
    "\n",
    "\n",
    "def multivariate_gaussian_pdf(X, MU, SIGMA):\n",
    "    \"\"\"Code from Data Blog https://xavierbourretsicotte.github.io/MLE_Multivariate_Gaussian.html\n",
    "       Maximum Likelihood Estimator: Multivariate Gaussian Distribution\n",
    "       by Xavier Bourret Sicotte, Fri 22 June 2018\n",
    "       Returns the pdf of a multivariate Gaussian distribution\n",
    "     - X, MU are p x 1 vectors\n",
    "     - SIGMA is a p x p matrix\"\"\"\n",
    "    # Initialize and reshape\n",
    "    X = X.reshape(-1, 1)\n",
    "    MU = MU.reshape(-1, 1)\n",
    "    p, _ = SIGMA.shape\n",
    "\n",
    "    # Compute values\n",
    "    SIGMA_inv = np.linalg.inv(SIGMA)\n",
    "    denominator = np.sqrt((2 * np.pi) ** p * np.linalg.det(SIGMA))\n",
    "    exponent = -(1 / 2) * ((X - MU).T @ SIGMA_inv @ (X - MU))\n",
    "\n",
    "    # Return result\n",
    "    return float((1. / denominator) * np.exp(exponent))\n",
    "\n",
    "\n",
    "class QDA:\n",
    "    \"\"\"Creates a class for Quadratic Discriminant Analysis\n",
    "    Input:\n",
    "        fname = file name for a csv file, must have one column labeled \"class\" and the rest numeric data\n",
    "    Methods:\n",
    "        compute_probabilities = given an input observation computes the likelihood for each class and the GML class\n",
    "        compute_probabilities: given an input observation and prior probabilities,\n",
    "            computes the posterior probabilities for each class and most probable class\"\"\"\n",
    "\n",
    "    def __init__(self, fname):\n",
    "        # reads the data and computes the statistics needed for classification\n",
    "\n",
    "        # read the iris data as a Pandas data frame\n",
    "        df = pd.read_csv(fname)\n",
    "\n",
    "        # separate the class labels from the rest of the data\n",
    "        # we are assuming the column name with class labels is 'Class'\n",
    "        # and all other columns are numeric\n",
    "        self.data_labels = df.loc[:]['Class']\n",
    "        self.data = np.asarray(df.drop('Class', axis=1, inplace=False))\n",
    "\n",
    "        # get information about the dimensions the data\n",
    "        self.num_rows, self.num_cols = self.data.shape\n",
    "\n",
    "        # get the class names as an array of strings\n",
    "        self.class_names = np.unique(self.data_labels)\n",
    "\n",
    "        # determine number of observations in each class\n",
    "        self.num_obs = dict()\n",
    "        for name in self.class_names:\n",
    "            self.num_obs[name] = sum(self.data_labels == name)\n",
    "\n",
    "        # compute the mean of each class\n",
    "        self.means = dict()\n",
    "        for name in self.class_names:\n",
    "            self.means[name] = np.mean(self.data[self.data_labels == name, :], 0)\n",
    "\n",
    "        # compute the covariance matrix of each class\n",
    "        self.covs = dict()\n",
    "        for name in self.class_names:\n",
    "            self.covs[name] = np.cov(np.transpose(self.data[self.data_labels == name, :]))\n",
    "\n",
    "    def compute_likelihoods(self, x):\n",
    "        # compute and output the likelihood of each class and the maximum likelihood class\n",
    "\n",
    "        # check that the input data x has the correct number of rows\n",
    "        if not (len(x) == self.num_cols):\n",
    "            print('Data vector has wrong number of values.')\n",
    "            return -1\n",
    "\n",
    "        # reformat x as a numpy array, incase the user input a list\n",
    "        x = np.asarray(x)\n",
    "\n",
    "        # compute the likelihood of each class\n",
    "        likelihoods = np.zeros(len(self.class_names))\n",
    "        idx = 0\n",
    "        for name in self.class_names:\n",
    "            likelihoods[idx] = multivariate_gaussian_pdf(x, self.means[name], self.covs[name])\n",
    "            idx = idx + 1\n",
    "        # get the indices for sorting the likelihoods (in descending order)\n",
    "        indices_sorted = np.argsort(likelihoods)[::-1]\n",
    "\n",
    "        # print the predicted class and all class likelihoods\n",
    "        print('QDA Predicted Class: ' + self.class_names[indices_sorted[0]])\n",
    "        print('QDA Class Likelihoods:')\n",
    "        for idx in range(len(indices_sorted)):\n",
    "            print(self.class_names[indices_sorted[idx]] + ': ' + str(likelihoods[indices_sorted[idx]]))\n",
    "\n",
    "        # return the likelihoods\n",
    "        return likelihoods\n",
    "\n",
    "    def compute_probabilities(self, x, priors):\n",
    "        # compute and output the probability of each class and the maximum probability class\n",
    "        \n",
    "        # check that the input data x has the correct number of rows\n",
    "        if not (len(x) == self.num_cols):\n",
    "            print('Data vector has wrong number of values.')\n",
    "            return -1\n",
    "\n",
    "        # reformat x as a numpy array, incase the user input a list\n",
    "        x = np.asarray(x)\n",
    "\n",
    "        # compute the likelihood of each class\n",
    "        likelihoods = np.zeros(len(self.class_names))\n",
    "        denom = np.zeros(len(self.class_names))\n",
    "        idx = 0\n",
    "        for name in self.class_names:\n",
    "            likelihoods[idx] = multivariate_gaussian_pdf(x, self.means[name], self.covs[name])\n",
    "            denom[idx] =  likelihoods[idx] * priors[name]\n",
    "            idx = idx + 1\n",
    "        \n",
    "        denom = sum(denom)\n",
    "        \n",
    "        # compute the probabilities of each class\n",
    "        probabilities = np.zeros(len(self.class_names))\n",
    "        idx = 0\n",
    "        for name in self.class_names:\n",
    "            probabilities[idx] = (likelihoods[idx] * priors[name]) / denom\n",
    "            idx = idx + 1 \n",
    "        \n",
    "        \n",
    "        # get the indices for sorting the likelihoods (in descending order)\n",
    "        indices_sorted = np.argsort(probabilities)[::-1]\n",
    "\n",
    "        # print the predicted class and all class likelihoods\n",
    "        print('QDA Predicted Class: ' + self.class_names[indices_sorted[0]])\n",
    "        print('QDA Class Probabilities:')\n",
    "        for idx in range(len(indices_sorted)):\n",
    "            print(self.class_names[indices_sorted[idx]] + ': ' + str(probabilities[indices_sorted[idx]]))\n",
    "\n",
    "        # return the probabilities\n",
    "        return probabilities"
   ]
  },
  {
   "cell_type": "code",
   "execution_count": 8,
   "metadata": {},
   "outputs": [
    {
     "name": "stdout",
     "output_type": "stream",
     "text": [
      "=========================================\n",
      "QDA Predicted Class: Iris-setosa\n",
      "QDA Class Likelihoods:\n",
      "Iris-setosa: 13.725594445123008\n",
      "Iris-versicolor: 6.846866360095621e-25\n",
      "Iris-virginica: 4.150482018069454e-40\n",
      "=========================================\n",
      "QDA Predicted Class: Iris-setosa\n",
      "QDA Class Probabilities:\n",
      "Iris-setosa: 1.0\n",
      "Iris-versicolor: 4.988393316930952e-26\n",
      "Iris-virginica: 3.023899645777606e-41\n",
      "=========================================\n",
      "<__main__.QDA object at 0x00000191E7EE6888>\n"
     ]
    }
   ],
   "source": [
    "model_qda = QDA('Exercise3.2_iris_data.csv')\n",
    "print(\"=========================================\")\n",
    "Iris_setosa_observation = [5.1, 3.5, 1.4, 0.2]\n",
    "model_qda.compute_likelihoods(Iris_setosa_observation)\n",
    "print(\"=========================================\")\n",
    "uninformative_priors = {\n",
    "    \"Iris-setosa\": 1 / 3,\n",
    "    \"Iris-versicolor\": 1 / 3,\n",
    "    \"Iris-virginica\": 1 / 3\n",
    "}\n",
    "model_qda.compute_probabilities(Iris_setosa_observation, uninformative_priors)\n",
    "print(\"=========================================\")\n",
    "print(model_qda)"
   ]
  },
  {
   "cell_type": "markdown",
   "metadata": {},
   "source": [
    "## Exercise Q4\n",
    "Your friend Carl calls you and says he has measured two iris owers and wants your help determining the species. The first flower has dimensions\n",
    "[SepalLength; SepalWidth; PetalLength; PetalWidth] = [5.5, 2.4, 3.8, 1.1] and\n",
    "the second has dimensions [5.5, 3.1, 5, 1.5]. Assuming noninformative pri-\n",
    "ors, what are the most probable species according to LDA and QDA, and\n",
    "what are the probabilities for each species.\n",
    "\n",
    "### First Flower"
   ]
  },
  {
   "cell_type": "code",
   "execution_count": 9,
   "metadata": {},
   "outputs": [
    {
     "name": "stdout",
     "output_type": "stream",
     "text": [
      "LDA Predicted Class: Iris-versicolor\n",
      "LDA Class Probabilities:\n",
      "Iris-versicolor: 0.9999970568617268\n",
      "Iris-virginica: 2.9431382732285257e-06\n",
      "Iris-setosa: 1.0221808316493793e-17\n",
      "=========================================\n",
      "QDA Predicted Class: Iris-versicolor\n",
      "QDA Class Probabilities:\n",
      "Iris-versicolor: 0.9999701265523081\n",
      "Iris-virginica: 2.9873447691956488e-05\n",
      "Iris-setosa: 2.711263447644604e-52\n"
     ]
    },
    {
     "data": {
      "text/plain": [
       "array([2.71126345e-52, 9.99970127e-01, 2.98734477e-05])"
      ]
     },
     "execution_count": 9,
     "metadata": {},
     "output_type": "execute_result"
    }
   ],
   "source": [
    "first = [5.5, 2.4, 3.8, 1.1]\n",
    "\n",
    "# LDA Model\n",
    "model_lda.compute_probabilities(first, uninformative_priors)\n",
    "print(\"=========================================\")\n",
    "# QDA Model\n",
    "model_qda.compute_probabilities(first, uninformative_priors)"
   ]
  },
  {
   "cell_type": "markdown",
   "metadata": {},
   "source": [
    "According to the LDA model, the most probable species for the first flower is `Iris-versicolor` with probability of `0.9999970568617268`. According to the QDA model, the most probable species for the first flower is also `Iris-versicolor` with probability of `0.23990286017935306`. "
   ]
  },
  {
   "cell_type": "code",
   "execution_count": 10,
   "metadata": {},
   "outputs": [
    {
     "name": "stdout",
     "output_type": "stream",
     "text": [
      "LDA Predicted Class: Iris-versicolor\n",
      "LDA Class Probabilities:\n",
      "Iris-versicolor: 0.5602348418832768\n",
      "Iris-virginica: 0.43976515811672334\n",
      "Iris-setosa: 2.4269307963451542e-28\n",
      "=========================================\n",
      "QDA Predicted Class: Iris-virginica\n",
      "QDA Class Probabilities:\n",
      "Iris-virginica: 0.5648248061588742\n",
      "Iris-versicolor: 0.43517519384112596\n",
      "Iris-setosa: 2.726593926101136e-103\n"
     ]
    },
    {
     "data": {
      "text/plain": [
       "array([2.72659393e-103, 4.35175194e-001, 5.64824806e-001])"
      ]
     },
     "execution_count": 10,
     "metadata": {},
     "output_type": "execute_result"
    }
   ],
   "source": [
    "second = [5.5, 3.1, 5, 1.5]\n",
    "\n",
    "# LDA Model\n",
    "model_lda.compute_probabilities(second, uninformative_priors)\n",
    "print(\"=========================================\")\n",
    "# QDA Model\n",
    "model_qda.compute_probabilities(second, uninformative_priors)"
   ]
  },
  {
   "cell_type": "markdown",
   "metadata": {},
   "source": [
    "According to the LDA model, the most probable species for the second flower is `Iris-versicolor` with probability of `0.5602348418832768`. According to the QDA model, the most probable species for the second flower is `Iris-virginica` with probability of `0.0014195619166499048`. "
   ]
  },
  {
   "cell_type": "markdown",
   "metadata": {},
   "source": [
    "## Exercise Q5\n",
    "You realize Carl is working in the country of Bagend, and in this country\n",
    "70% of the irises are Iris-virginica, 20% are Iris-versicolor, and 10% are\n",
    "Iris-setosa. Use this information to create informative priors, and use your\n",
    "Python code to provide an updated answer to the previous question."
   ]
  },
  {
   "cell_type": "code",
   "execution_count": 11,
   "metadata": {},
   "outputs": [
    {
     "name": "stdout",
     "output_type": "stream",
     "text": [
      "LDA Predicted Class: Iris-versicolor\n",
      "LDA Class Probabilities:\n",
      "Iris-versicolor: 0.9999896990918361\n",
      "Iris-virginica: 1.0300908163807175e-05\n",
      "Iris-setosa: 5.1108665532794896e-18\n",
      "=========================================\n",
      "QDA Predicted Class: Iris-versicolor\n",
      "QDA Class Probabilities:\n",
      "Iris-versicolor: 0.9998954507411951\n",
      "Iris-virginica: 0.00010454925880481234\n",
      "Iris-setosa: 1.355530487899489e-52\n"
     ]
    },
    {
     "data": {
      "text/plain": [
       "array([1.35553049e-52, 9.99895451e-01, 1.04549259e-04])"
      ]
     },
     "execution_count": 11,
     "metadata": {},
     "output_type": "execute_result"
    }
   ],
   "source": [
    "informative_priors = {\n",
    "    \"Iris-setosa\": 0.1,\n",
    "    \"Iris-versicolor\": 0.2,\n",
    "    \"Iris-virginica\": 0.7\n",
    "}\n",
    "\n",
    "first = [5.5, 2.4, 3.8, 1.1]\n",
    "\n",
    "# LDA Model\n",
    "model_lda.compute_probabilities(first, informative_priors)\n",
    "print(\"=========================================\")\n",
    "# QDA Model\n",
    "model_qda.compute_probabilities(first, informative_priors)\n"
   ]
  },
  {
   "cell_type": "markdown",
   "metadata": {},
   "source": [
    "According to the LDA model, the most probable species for the first flower is `Iris-versicolor` with probability of `0.9999896990918361`. According to the QDA model, the most probable species for the first flower is also `Iris-versicolor` with probability of `0.14394171610761183`."
   ]
  },
  {
   "cell_type": "code",
   "execution_count": 12,
   "metadata": {},
   "outputs": [
    {
     "name": "stdout",
     "output_type": "stream",
     "text": [
      "LDA Predicted Class: Iris-virginica\n",
      "LDA Class Probabilities:\n",
      "Iris-virginica: 0.7331468987640914\n",
      "Iris-versicolor: 0.26685310123590855\n",
      "Iris-setosa: 5.780022600098925e-29\n",
      "=========================================\n",
      "QDA Predicted Class: Iris-virginica\n",
      "QDA Class Probabilities:\n",
      "Iris-virginica: 0.819583745748151\n",
      "Iris-versicolor: 0.18041625425184904\n",
      "Iris-setosa: 5.651997976619515e-104\n"
     ]
    },
    {
     "data": {
      "text/plain": [
       "array([5.65199798e-104, 1.80416254e-001, 8.19583746e-001])"
      ]
     },
     "execution_count": 12,
     "metadata": {},
     "output_type": "execute_result"
    }
   ],
   "source": [
    "second = [5.5, 3.1, 5, 1.5]\n",
    "\n",
    "# LDA Model\n",
    "model_lda.compute_probabilities(second, informative_priors)\n",
    "print(\"=========================================\")\n",
    "# QDA Model\n",
    "model_qda.compute_probabilities(second, informative_priors)"
   ]
  },
  {
   "cell_type": "markdown",
   "metadata": {},
   "source": [
    "According to the LDA model, the most probable species for the second flower is `Iris-virginica` with probability of `0.7331468987640914`. According to the QDA model, the most probable species for the second flower is also `Iris-virginica` with probability of `0.0029810800249648003`. "
   ]
  },
  {
   "cell_type": "code",
   "execution_count": null,
   "metadata": {},
   "outputs": [],
   "source": []
  }
 ],
 "metadata": {
  "kernelspec": {
   "display_name": "Python 3",
   "language": "python",
   "name": "python3"
  },
  "language_info": {
   "codemirror_mode": {
    "name": "ipython",
    "version": 3
   },
   "file_extension": ".py",
   "mimetype": "text/x-python",
   "name": "python",
   "nbconvert_exporter": "python",
   "pygments_lexer": "ipython3",
   "version": "3.7.6"
  }
 },
 "nbformat": 4,
 "nbformat_minor": 4
}
