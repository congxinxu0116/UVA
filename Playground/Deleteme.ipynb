{
 "cells": [
  {
   "cell_type": "code",
   "execution_count": 1,
   "metadata": {},
   "outputs": [
    {
     "name": "stdout",
     "output_type": "stream",
     "text": [
      "['and', 'document', 'first', 'is', 'one', 'second', 'the', 'third', 'this']\n",
      "(4, 9)\n"
     ]
    }
   ],
   "source": [
    "from sklearn.feature_extraction.text import TfidfVectorizer\n",
    "corpus = [\n",
    "    'This is the first document.',\n",
    "    'This document is the second document.',\n",
    "    'And this is the third one.',\n",
    "    'Is this the first document?',\n",
    "]\n",
    "vectorizer = TfidfVectorizer()\n",
    "X = vectorizer.fit_transform(corpus)\n",
    "print(vectorizer.get_feature_names())\n",
    "\n",
    "print(X.shape)"
   ]
  },
  {
   "cell_type": "code",
   "execution_count": 4,
   "metadata": {},
   "outputs": [
    {
     "name": "stdout",
     "output_type": "stream",
     "text": [
      "  (0, 1)\t0.46979138557992045\n",
      "  (0, 2)\t0.5802858236844359\n",
      "  (0, 6)\t0.38408524091481483\n",
      "  (0, 3)\t0.38408524091481483\n",
      "  (0, 8)\t0.38408524091481483\n",
      "  (1, 5)\t0.5386476208856763\n",
      "  (1, 1)\t0.6876235979836938\n",
      "  (1, 6)\t0.281088674033753\n",
      "  (1, 3)\t0.281088674033753\n",
      "  (1, 8)\t0.281088674033753\n",
      "  (2, 4)\t0.511848512707169\n",
      "  (2, 7)\t0.511848512707169\n",
      "  (2, 0)\t0.511848512707169\n",
      "  (2, 6)\t0.267103787642168\n",
      "  (2, 3)\t0.267103787642168\n",
      "  (2, 8)\t0.267103787642168\n",
      "  (3, 1)\t0.46979138557992045\n",
      "  (3, 2)\t0.5802858236844359\n",
      "  (3, 6)\t0.38408524091481483\n",
      "  (3, 3)\t0.38408524091481483\n",
      "  (3, 8)\t0.38408524091481483\n"
     ]
    }
   ],
   "source": [
    "print(X)"
   ]
  },
  {
   "cell_type": "code",
   "execution_count": 7,
   "metadata": {},
   "outputs": [
    {
     "data": {
      "text/html": [
       "<div>\n",
       "<style scoped>\n",
       "    .dataframe tbody tr th:only-of-type {\n",
       "        vertical-align: middle;\n",
       "    }\n",
       "\n",
       "    .dataframe tbody tr th {\n",
       "        vertical-align: top;\n",
       "    }\n",
       "\n",
       "    .dataframe thead th {\n",
       "        text-align: right;\n",
       "    }\n",
       "</style>\n",
       "<table border=\"1\" class=\"dataframe\">\n",
       "  <thead>\n",
       "    <tr style=\"text-align: right;\">\n",
       "      <th></th>\n",
       "      <th>doctype</th>\n",
       "      <th>filename</th>\n",
       "      <th>study</th>\n",
       "      <th>model</th>\n",
       "      <th>skill</th>\n",
       "      <th>text</th>\n",
       "    </tr>\n",
       "  </thead>\n",
       "  <tbody>\n",
       "    <tr>\n",
       "      <th>0</th>\n",
       "      <td>script</td>\n",
       "      <td>Classroom_Management_Model_Script_1.txt</td>\n",
       "      <td>NaN</td>\n",
       "      <td>behavior</td>\n",
       "      <td>1</td>\n",
       "      <td>How are you feeling about that first simulatio...</td>\n",
       "    </tr>\n",
       "    <tr>\n",
       "      <th>1</th>\n",
       "      <td>script</td>\n",
       "      <td>Classroom_Management_Model_Script_2.txt</td>\n",
       "      <td>NaN</td>\n",
       "      <td>behavior</td>\n",
       "      <td>2</td>\n",
       "      <td>How are you feeling about that first simulatio...</td>\n",
       "    </tr>\n",
       "    <tr>\n",
       "      <th>2</th>\n",
       "      <td>script</td>\n",
       "      <td>Classroom_Management_Model_Script_3.txt</td>\n",
       "      <td>NaN</td>\n",
       "      <td>behavior</td>\n",
       "      <td>3</td>\n",
       "      <td>How are you feeling about that first simulatio...</td>\n",
       "    </tr>\n",
       "    <tr>\n",
       "      <th>3</th>\n",
       "      <td>script</td>\n",
       "      <td>Classroom_Management_Model_Script_4.txt</td>\n",
       "      <td>NaN</td>\n",
       "      <td>behavior</td>\n",
       "      <td>4</td>\n",
       "      <td>How are you feeling about that first simulatio...</td>\n",
       "    </tr>\n",
       "    <tr>\n",
       "      <th>4</th>\n",
       "      <td>transcript</td>\n",
       "      <td>1-2C.txt</td>\n",
       "      <td>Behavior Study 1</td>\n",
       "      <td>behavior</td>\n",
       "      <td>2</td>\n",
       "      <td>So how do you feel about that first simulation...</td>\n",
       "    </tr>\n",
       "  </tbody>\n",
       "</table>\n",
       "</div>"
      ],
      "text/plain": [
       "      doctype                                 filename             study  \\\n",
       "0      script  Classroom_Management_Model_Script_1.txt               NaN   \n",
       "1      script  Classroom_Management_Model_Script_2.txt               NaN   \n",
       "2      script  Classroom_Management_Model_Script_3.txt               NaN   \n",
       "3      script  Classroom_Management_Model_Script_4.txt               NaN   \n",
       "4  transcript                                 1-2C.txt  Behavior Study 1   \n",
       "\n",
       "      model  skill                                               text  \n",
       "0  behavior      1  How are you feeling about that first simulatio...  \n",
       "1  behavior      2  How are you feeling about that first simulatio...  \n",
       "2  behavior      3  How are you feeling about that first simulatio...  \n",
       "3  behavior      4  How are you feeling about that first simulatio...  \n",
       "4  behavior      2  So how do you feel about that first simulation...  "
      ]
     },
     "execution_count": 7,
     "metadata": {},
     "output_type": "execute_result"
    }
   ],
   "source": [
    "import pandas\n",
    "\n",
    "data = pandas.read_csv('C:\\\\Users\\\\DaDa\\\\Documents\\\\GitHub\\\\Capstone-NLP-Edu-Interventions\\\\Duplicate_DocSim\\\\DocSim\\\\tests\\\\all_documents.csv')\n",
    "data.head()"
   ]
  },
  {
   "cell_type": "code",
   "execution_count": 16,
   "metadata": {},
   "outputs": [
    {
     "data": {
      "text/plain": [
       "113"
      ]
     },
     "execution_count": 16,
     "metadata": {},
     "output_type": "execute_result"
    }
   ],
   "source": [
    "text = data['text'].str.lower().tolist()\n",
    "len(text)"
   ]
  },
  {
   "cell_type": "code",
   "execution_count": 18,
   "metadata": {},
   "outputs": [
    {
     "name": "stdout",
     "output_type": "stream",
     "text": [
      "  (0, 1730)\t0.0284205626500718\n",
      "  (0, 333)\t0.045179173172742\n",
      "  (0, 677)\t0.047651134344929354\n",
      "  (0, 2003)\t0.0266601073322901\n",
      "  (0, 2240)\t0.04194394924532563\n",
      "  (0, 1896)\t0.08278356851836943\n",
      "  (0, 238)\t0.07674586615255637\n",
      "  (0, 1330)\t0.02117232496825201\n",
      "  (0, 995)\t0.0520089473753804\n",
      "  (0, 544)\t0.041974825294857875\n",
      "  (0, 1971)\t0.057515294457698804\n",
      "  (0, 2083)\t0.030342321125558246\n",
      "  (0, 1748)\t0.11503058891539761\n",
      "  (0, 48)\t0.0720626603615123\n",
      "  (0, 2173)\t0.02154711015352585\n",
      "  (0, 1112)\t0.062198500248742856\n",
      "  (0, 1961)\t0.06500097868713957\n",
      "  (0, 1498)\t0.08661002626532582\n",
      "  (0, 268)\t0.04244969450410808\n",
      "  (0, 1868)\t0.040495967381697945\n",
      "  (0, 551)\t0.03628440868978723\n",
      "  (0, 1339)\t0.08661002626532582\n",
      "  (0, 1261)\t0.05955011844968164\n",
      "  (0, 1958)\t0.03411135773506086\n",
      "  (0, 191)\t0.020987412647428937\n",
      "  :\t:\n",
      "  (112, 1903)\t0.04368936667034254\n",
      "  (112, 1707)\t0.018641191776601684\n",
      "  (112, 1027)\t0.08165873130433152\n",
      "  (112, 668)\t0.01735414994332712\n",
      "  (112, 1821)\t0.36875195017549706\n",
      "  (112, 1196)\t0.07718675199232242\n",
      "  (112, 2007)\t0.04698666877017629\n",
      "  (112, 1345)\t0.0382555725751227\n",
      "  (112, 2278)\t0.03859337599616121\n",
      "  (112, 761)\t0.01863039330690455\n",
      "  (112, 806)\t0.010633740970787816\n",
      "  (112, 2040)\t0.31478825014981454\n",
      "  (112, 2030)\t0.010082918867291906\n",
      "  (112, 2015)\t0.08094555003852374\n",
      "  (112, 2130)\t0.013774286857321775\n",
      "  (112, 1114)\t0.04782907786678427\n",
      "  (112, 1481)\t0.04092312214938328\n",
      "  (112, 1053)\t0.045365961835739724\n",
      "  (112, 1035)\t0.053963700025682494\n",
      "  (112, 743)\t0.054125544143219254\n",
      "  (112, 1990)\t0.2428366501155712\n",
      "  (112, 14)\t0.0372607866138091\n",
      "  (112, 2273)\t0.41372170019689913\n",
      "  (112, 127)\t0.041785440939195284\n",
      "  (112, 920)\t0.03758933501614104\n"
     ]
    }
   ],
   "source": [
    "vectorizer = TfidfVectorizer(lowercase = True)\n",
    "vectors = vectorizer.fit_transform(text)\n",
    "print(vectors)"
   ]
  }
 ],
 "metadata": {
  "kernelspec": {
   "display_name": "Python 3",
   "language": "python",
   "name": "python3"
  },
  "language_info": {
   "codemirror_mode": {
    "name": "ipython",
    "version": 3
   },
   "file_extension": ".py",
   "mimetype": "text/x-python",
   "name": "python",
   "nbconvert_exporter": "python",
   "pygments_lexer": "ipython3",
   "version": "3.7.6"
  }
 },
 "nbformat": 4,
 "nbformat_minor": 4
}
