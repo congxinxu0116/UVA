{
 "cells": [
  {
   "cell_type": "markdown",
   "metadata": {},
   "source": [
    "# RegEx in Pandas STR Methods\n",
    "Thanks to Travis Vitello"
   ]
  },
  {
   "cell_type": "markdown",
   "metadata": {},
   "source": [
    "*This tutorial is prepared in the midst of the Covid-19 pandemic and thus has a different theme running in.*"
   ]
  },
  {
   "cell_type": "markdown",
   "metadata": {},
   "source": [
    "#### Introduction"
   ]
  },
  {
   "cell_type": "markdown",
   "metadata": {},
   "source": [
    "In Python, it is possible to leverage the <b>pandas</b> library to manipulate strings and text using Regular Expressions.\n",
    "\n",
    "The power of using Regular Expressions is that the manipulations aren't limited to just a simple sequence of characters in the affected string or text, but to a wider, more complex variety of possible sequences as defined in the Regular Expression.  This has the advantage of reducing the number statements needed in one's code, which will be detailed below.\n",
    "\n",
    "Before moving on, it is recommended that the users familiarize themselves with this section of the pandas online guide, <https://pandas.pydata.org/pandas-docs/stable/user_guide/text.html>, whose content supplements and otherwise forms the basis of the following examples."
   ]
  },
  {
   "cell_type": "markdown",
   "metadata": {},
   "source": [
    "First, consider a string like: \"Goodbye World!\".\n",
    "\n",
    "We would like to change this to read \"Hello World!\".  Now, very simply we can do the following in Python:"
   ]
  },
  {
   "cell_type": "code",
   "execution_count": 1,
   "metadata": {},
   "outputs": [
    {
     "name": "stdout",
     "output_type": "stream",
     "text": [
      "Hello World!\n"
     ]
    }
   ],
   "source": [
    "string = \"Goodbye World!\"\n",
    "string = string.replace(\"Goodbye\",\"Hello\")\n",
    "print(string)"
   ]
  },
  {
   "cell_type": "markdown",
   "metadata": {},
   "source": [
    "In pandas, we can also do this very simply as:"
   ]
  },
  {
   "cell_type": "code",
   "execution_count": 2,
   "metadata": {},
   "outputs": [
    {
     "data": {
      "text/plain": [
       "'Hello World!'"
      ]
     },
     "execution_count": 2,
     "metadata": {},
     "output_type": "execute_result"
    }
   ],
   "source": [
    "import pandas as pd\n",
    "string = pd.Series([\"Goodbye World!\"], dtype=\"str\")\n",
    "string = string.str.replace(\"Goodbye\" , \"Hello\")\n",
    "string[0]"
   ]
  },
  {
   "cell_type": "markdown",
   "metadata": {},
   "source": [
    "This doesn't look particularly helpful, however.  But what if we had many strings we wanted to manipulate?"
   ]
  },
  {
   "cell_type": "code",
   "execution_count": 3,
   "metadata": {},
   "outputs": [
    {
     "name": "stdout",
     "output_type": "stream",
     "text": [
      "The house is blue.\n",
      "The car is blue.\n",
      "The sky is blue.\n"
     ]
    }
   ],
   "source": [
    "string_1 = \"The house is blue.\"\n",
    "string_2 = \"The car is blue.\"\n",
    "string_3 = \"The sky is blue.\"\n",
    "print(string_1)\n",
    "print(string_2)\n",
    "print(string_3)"
   ]
  },
  {
   "cell_type": "code",
   "execution_count": 4,
   "metadata": {},
   "outputs": [
    {
     "name": "stdout",
     "output_type": "stream",
     "text": [
      "The house is red.\n",
      "The car is red.\n",
      "The sky is red.\n"
     ]
    }
   ],
   "source": [
    "s_1 = string_1.replace(\"blue\",\"red\")\n",
    "s_2 = string_2.replace(\"blue\",\"red\")\n",
    "s_3 = string_3.replace(\"blue\",\"red\")\n",
    "print(s_1)\n",
    "print(s_2)\n",
    "print(s_3)"
   ]
  },
  {
   "cell_type": "markdown",
   "metadata": {},
   "source": [
    "With pandas, this can be simplified as:"
   ]
  },
  {
   "cell_type": "code",
   "execution_count": 5,
   "metadata": {},
   "outputs": [
    {
     "name": "stdout",
     "output_type": "stream",
     "text": [
      "The house is red.\n",
      "The car is red.\n",
      "The sky is red.\n"
     ]
    }
   ],
   "source": [
    "strings = pd.Series([string_1,string_2,string_3],dtype=\"str\")\n",
    "strings = strings.str.replace(\"blue\",\"red\")\n",
    "for i in range(0,len(strings)):\n",
    "    print(strings[i])"
   ]
  },
  {
   "cell_type": "markdown",
   "metadata": {},
   "source": [
    "We observe that with one \"replace\" statement, the pandas series manipulated all strings.  But what if things were more complex?  Say we wanted to replace both the color and objects of the sentences.\n",
    "\n",
    "We can do this as:"
   ]
  },
  {
   "cell_type": "code",
   "execution_count": 6,
   "metadata": {},
   "outputs": [
    {
     "name": "stdout",
     "output_type": "stream",
     "text": [
      "The house is red.\n",
      "The car is red.\n",
      "The sky is red.\n"
     ]
    }
   ],
   "source": [
    "strings = pd.Series([string_1,string_2,string_3],dtype=\"str\")\n",
    "strings = strings.str.replace(\"blue\",\"red\")\n",
    "for i in range(0,len(strings)):\n",
    "    print(strings[i])"
   ]
  },
  {
   "cell_type": "code",
   "execution_count": 7,
   "metadata": {},
   "outputs": [
    {
     "name": "stdout",
     "output_type": "stream",
     "text": [
      "The dinosaur is red.\n",
      "The hat is red.\n",
      "The apple is red.\n"
     ]
    }
   ],
   "source": [
    "strings = pd.Series([string_1,string_2,string_3],dtype=\"str\")\n",
    "strings = strings.str.replace(\"blue\",\"red\").str.replace(\"sky\",\"apple\").\\\n",
    "str.replace(\"house\",\"dinosaur\").str.replace(\"car\",\"hat\")\n",
    "for i in range(0,len(strings)):\n",
    "    print(strings[i])"
   ]
  },
  {
   "cell_type": "markdown",
   "metadata": {},
   "source": [
    "We observe from this example pandas allows us to chain together a set of string replacements in one statement!"
   ]
  },
  {
   "cell_type": "markdown",
   "metadata": {},
   "source": [
    "Say we want to manipulate the following opening lines from Lewis Carroll's poem \"Jabberwocky\":\n",
    "<br>\n",
    "<i>\n",
    "    \n",
    "'Twas brillig, and the slithy toves<br>\n",
    "      Did gyre and gimble in the wabe:<br>\n",
    "    \n",
    "All mimsy were the borogoves,<br>\n",
    "      And the mome raths outgrabe.<br>\n",
    "\"Beware the Jabberwock, my son!<br>\n",
    "      The jaws that bite, the claws that catch!<br>      \n",
    "Beware the Jubjub bird, and shun<br>\n",
    "      The frumious Bandersnatch!\" </i>"
   ]
  },
  {
   "cell_type": "markdown",
   "metadata": {},
   "source": [
    "Let's try this with Regular Expressions."
   ]
  },
  {
   "cell_type": "markdown",
   "metadata": {},
   "source": [
    "First, we establish our pandas series containing the above lines of the poem \"Jabberwocky\":"
   ]
  },
  {
   "cell_type": "code",
   "execution_count": 14,
   "metadata": {},
   "outputs": [],
   "source": [
    "jabberwocky = pd.Series([''''Twas brillig, and the slithy toves''',\"Did gyre and gimble in the wabe:\",\\\n",
    "\"All mimsy were the borogoves,\",\"And the mome raths outgrabe.\",'''\"Beware the Jabberwock, my son!''',\\\n",
    "\"The jaws that bite, the claws that catch!\",\"Beware the Jubjub bird, and shun\",\\\n",
    "'''The frumious Bandersnatch!\"'''],dtype=\"str\")\n",
    "jb = jabberwocky"
   ]
  },
  {
   "cell_type": "code",
   "execution_count": 15,
   "metadata": {},
   "outputs": [
    {
     "name": "stdout",
     "output_type": "stream",
     "text": [
      "'Twas brillig, and the slithy toves\n",
      "Did gyre and gimble in the wabe:\n",
      "All mimsy were the borogoves,\n",
      "And the mome raths outgrabe.\n",
      "\"Beware the Jabberwock, my son!\n",
      "The jaws that bite, the claws that catch!\n",
      "Beware the Jubjub bird, and shun\n",
      "The frumious Bandersnatch!\"\n"
     ]
    }
   ],
   "source": [
    "for i in range(0,len(jb)):\n",
    "    print(jb[i])"
   ]
  },
  {
   "cell_type": "markdown",
   "metadata": {},
   "source": [
    "#### Replace"
   ]
  },
  {
   "cell_type": "markdown",
   "metadata": {},
   "source": [
    "Now, let's try a simple regular expression that replaces all instances of the fantasy creatures listed with something less harmful, like kittens.  We can do this with the following code:"
   ]
  },
  {
   "cell_type": "code",
   "execution_count": 17,
   "metadata": {},
   "outputs": [
    {
     "name": "stdout",
     "output_type": "stream",
     "text": [
      "'Twas brillig, and the slithy toves\n",
      "Did gyre and gimble in the wabe:\n",
      "All mimsy were the borogoves,\n",
      "And the mome raths outgrabe.\n",
      "\"Beware the kittens, my son!\n",
      "The jaws that bite, the claws that catch!\n",
      "Beware the kittens, and shun\n",
      "The frumious kittens!\"\n"
     ]
    }
   ],
   "source": [
    "jb_1 = jb.replace(['Jubjub bird|Bandersnatch|Jabberwock'],\"kittens\",regex=True)\n",
    "for i in range(0,len(jb_1)):\n",
    "    print(jb_1[i])"
   ]
  },
  {
   "cell_type": "markdown",
   "metadata": {},
   "source": [
    "This still doesn't feel right.  Why should we \"beware the kittens\" and \"shun the frumious kittens\"?  Let's see if Regular Expressions can help us out.\n",
    "\n",
    "We recall that pandas lets us chain multiple manipulations together.  Keeping this in mind, we write the following:"
   ]
  },
  {
   "cell_type": "code",
   "execution_count": 103,
   "metadata": {},
   "outputs": [
    {
     "name": "stdout",
     "output_type": "stream",
     "text": [
      "'Twas brillig, and the slithy toves\n",
      "Did gyre and gimble in the wabe:\n",
      "All mimsy were the borogoves,\n",
      "And the mome raths outgrabe.\n",
      "\"Cuddle the kittens, my son!\n",
      "The jaws that bite, the claws that catch!\n",
      "Cuddle the kittens, and post internet photos of\n",
      "The frumious kittens!\"\n"
     ]
    }
   ],
   "source": [
    "jb_2 = jb.replace(['Jubjub bird|Bandersnatch|Jabberwock'],\"kittens\",regex=True).\\\n",
    "replace(['Beware'],'Cuddle',regex=True).replace(['shun'],'post internet photos of',regex=True)\n",
    "for i in range(0,len(jb_2)):\n",
    "    print(jb_2[i])"
   ]
  },
  {
   "cell_type": "markdown",
   "metadata": {},
   "source": [
    "With just a few Regular Expressions, we were able to turn Lewis Carroll's poem into something much more feline-friendly!"
   ]
  },
  {
   "cell_type": "markdown",
   "metadata": {},
   "source": [
    "#### Extract"
   ]
  },
  {
   "cell_type": "markdown",
   "metadata": {},
   "source": [
    "What else can be done with Regular Expressions in pandas?  Say we wanted to find the first word in each line of the poem \"Jabberwocky\".  We can do this by entering the following, whereby we're interested in any letter (A through Z), apostrophe, or quotation mark as the first character in each line's first word:"
   ]
  },
  {
   "cell_type": "code",
   "execution_count": 24,
   "metadata": {},
   "outputs": [
    {
     "name": "stdout",
     "output_type": "stream",
     "text": [
      "         0\n",
      "0    'Twas\n",
      "1      Did\n",
      "2      All\n",
      "3      And\n",
      "4  \"Beware\n",
      "5      The\n",
      "6   Beware\n",
      "7      The\n"
     ]
    }
   ],
   "source": [
    "jb_3 = jb.str.extract('([a-zA-Z|\\'|\\\"]*)')\n",
    "print(jb_3)"
   ]
  },
  {
   "cell_type": "markdown",
   "metadata": {},
   "source": [
    "#### Contains"
   ]
  },
  {
   "cell_type": "markdown",
   "metadata": {},
   "source": [
    "Say we wanted to figure out each line that contains the word \"and\".  We can use Regular Expressions to help by entering the following:"
   ]
  },
  {
   "cell_type": "code",
   "execution_count": 158,
   "metadata": {},
   "outputs": [
    {
     "data": {
      "text/plain": [
       "0     True\n",
       "1     True\n",
       "2    False\n",
       "3     True\n",
       "4    False\n",
       "5    False\n",
       "6     True\n",
       "7     True\n",
       "dtype: bool"
      ]
     },
     "execution_count": 158,
     "metadata": {},
     "output_type": "execute_result"
    }
   ],
   "source": [
    "jb.str.contains('(and|And)')"
   ]
  },
  {
   "cell_type": "markdown",
   "metadata": {},
   "source": [
    "But wait --- the final line in our set reads: <i>The frumious Bandersnatch!\"</i>.  The Regular Expression is picking up the sequence \"and\" inside the word \"Bandersnatch\".\n",
    "\n",
    "This isn't what we want, so we adjust our Regular Expression to look for \"and\" or \"And\" with a trailing space.\n",
    "\n",
    "We enter the following, which gives us:"
   ]
  },
  {
   "cell_type": "code",
   "execution_count": 159,
   "metadata": {},
   "outputs": [
    {
     "data": {
      "text/plain": [
       "0     True\n",
       "1     True\n",
       "2    False\n",
       "3     True\n",
       "4    False\n",
       "5    False\n",
       "6     True\n",
       "7    False\n",
       "dtype: bool"
      ]
     },
     "execution_count": 159,
     "metadata": {},
     "output_type": "execute_result"
    }
   ],
   "source": [
    "jb.str.contains('(and|And)\\s')"
   ]
  },
  {
   "cell_type": "markdown",
   "metadata": {},
   "source": [
    "We observe that the final line went from \"True\" to \"False\" as the word \"Bandersnatch\" violates the Regular Expression defined in the \"contains\" method."
   ]
  },
  {
   "cell_type": "markdown",
   "metadata": {},
   "source": [
    "#### Concatenate"
   ]
  },
  {
   "cell_type": "markdown",
   "metadata": {},
   "source": [
    "Getting away from the \"Jabberwocky\" example, we look at some basic examples to highlight other string ethods in pandas that can make use of Regular Expressions."
   ]
  },
  {
   "cell_type": "markdown",
   "metadata": {},
   "source": [
    "Assume the following series of strings:"
   ]
  },
  {
   "cell_type": "code",
   "execution_count": 164,
   "metadata": {},
   "outputs": [
    {
     "name": "stdout",
     "output_type": "stream",
     "text": [
      "0     CS5012\n",
      "1         is\n",
      "2          a\n",
      "3     really\n",
      "4      great\n",
      "5    course!\n",
      "dtype: object\n"
     ]
    }
   ],
   "source": [
    "CS = pd.Series(['CS5012', 'is', 'a', 'really', 'great', 'course!'], dtype=\"str\")\n",
    "print(CS)"
   ]
  },
  {
   "cell_type": "markdown",
   "metadata": {},
   "source": [
    "We observe that we've defined a pandas series containing 6 individual strings.  What if we wanted to tie these together into a single sentence?  We can do that with the following:"
   ]
  },
  {
   "cell_type": "code",
   "execution_count": 170,
   "metadata": {},
   "outputs": [
    {
     "data": {
      "text/plain": [
       "'CS5012 is a really great course!'"
      ]
     },
     "execution_count": 170,
     "metadata": {},
     "output_type": "execute_result"
    }
   ],
   "source": [
    "CS.str.cat(sep=' ')"
   ]
  },
  {
   "cell_type": "markdown",
   "metadata": {},
   "source": [
    "Using what was demonstrated above, we can chain to this concatenate statement replacement methods to give us something like the following:"
   ]
  },
  {
   "cell_type": "code",
   "execution_count": 172,
   "metadata": {},
   "outputs": [
    {
     "data": {
      "text/plain": [
       "'CS5012 is a course!'"
      ]
     },
     "execution_count": 172,
     "metadata": {},
     "output_type": "execute_result"
    }
   ],
   "source": [
    "CS.str.cat(sep=' ').replace(\"really \",\"\").replace(\"great \",\"\")"
   ]
  },
  {
   "cell_type": "markdown",
   "metadata": {},
   "source": [
    "We can also achieve a similar result using Regular Expressions:"
   ]
  },
  {
   "cell_type": "code",
   "execution_count": 218,
   "metadata": {},
   "outputs": [
    {
     "data": {
      "text/plain": [
       "'CS5012 is a course!'"
      ]
     },
     "execution_count": 218,
     "metadata": {},
     "output_type": "execute_result"
    }
   ],
   "source": [
    "CS.replace(['really|great'],\" \",regex=True).str.cat(sep=' ').replace('  ','')"
   ]
  },
  {
   "cell_type": "markdown",
   "metadata": {},
   "source": [
    "#### Conclusion"
   ]
  },
  {
   "cell_type": "markdown",
   "metadata": {},
   "source": [
    "This Jupyter notebook has hopefully provided a brief overview for some of the ways Regular Expressions can be used to manipulate strings or text in Python using pandas.  Functions like \"Replace\", \"Extract\", \"Contains\", and \"Concatenate\" are just some of the many pandas string methods.  For a complete list with detailed examples, it is recommended to visit the following site <https://pandas.pydata.org/pandas-docs/stable/user_guide/text.html>."
   ]
  }
 ],
 "metadata": {
  "kernelspec": {
   "display_name": "Python 3",
   "language": "python",
   "name": "python3"
  },
  "language_info": {
   "codemirror_mode": {
    "name": "ipython",
    "version": 3
   },
   "file_extension": ".py",
   "mimetype": "text/x-python",
   "name": "python",
   "nbconvert_exporter": "python",
   "pygments_lexer": "ipython3",
   "version": "3.7.6"
  },
  "varInspector": {
   "cols": {
    "lenName": 16,
    "lenType": 16,
    "lenVar": 40
   },
   "kernels_config": {
    "python": {
     "delete_cmd_postfix": "",
     "delete_cmd_prefix": "del ",
     "library": "var_list.py",
     "varRefreshCmd": "print(var_dic_list())"
    },
    "r": {
     "delete_cmd_postfix": ") ",
     "delete_cmd_prefix": "rm(",
     "library": "var_list.r",
     "varRefreshCmd": "cat(var_dic_list()) "
    }
   },
   "types_to_exclude": [
    "module",
    "function",
    "builtin_function_or_method",
    "instance",
    "_Feature"
   ],
   "window_display": false
  }
 },
 "nbformat": 4,
 "nbformat_minor": 2
}
