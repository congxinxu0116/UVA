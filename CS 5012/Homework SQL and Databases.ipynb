{
 "cells": [
  {
   "cell_type": "markdown",
   "metadata": {},
   "source": [
    "# 9.6 Homework: SQL and Databases\n",
    "- Name: Congxin (David) Xu\n",
    "- Computing ID: cx2rx\n",
    "\n",
    "### Question 1\n",
    "Write the following queries in SQL, using the university schema.\n",
    "\n",
    "1. Find the ID and name of each student who has taken at least one Comp. Sci. course; make sure there are no duplicate names in the result.\n",
    "2. Find the ID and name of each student who has not taken any course offered before 2017.\n",
    "3. For each department, find the maximum salary of instructors in that department. You may assume that every department has at least one instructor.\n",
    "4. Find the lowest, across all departments, of the per-department maximum salary computed by the preceding query.\n",
    "\n",
    "<img src=\"University Schema.png\" width=\"1000\">"
   ]
  },
  {
   "cell_type": "markdown",
   "metadata": {},
   "source": [
    "**Answer**\n",
    "\n",
    "**Part 1**: Find the ID and name of each student who has taken at least one Comp. Sci. course; make sure there are no duplicate names in the result.\n",
    "```{sql}\n",
    "select distinct ID, name from student \n",
    "inner join (select ID, course_id, sec_id, semester, year from takes\n",
    "            inner join (select course_id, sec_id, semester, year from section\n",
    "                        left join (select course_id, dept_name from course\n",
    "                                   where dept_name = 'Comp. Sci.') c\n",
    "                        on section.course_id = c.course_id) s2\n",
    "            on takes.course_id = s2.course_id\n",
    "            and takes.sec_id = s2.sec_id\n",
    "            and takes.semester = s2.semester\n",
    "            and takes.year = s2.year) t2\n",
    "on student.ID = t2.ID\n",
    "```"
   ]
  },
  {
   "cell_type": "markdown",
   "metadata": {},
   "source": [
    "**Part 2**: Find the ID and name of each student who has not taken any course offered before 2017.\n",
    "```{sql}\n",
    "select distinct ID, name from student \n",
    "inner join (select ID, course_id, sec_id, semester, year from takes\n",
    "            inner join (select course_id, sec_id, semester, year from section\n",
    "                        where year >= 2017) s2                        \n",
    "            on takes.course_id = s2.course_id\n",
    "            and takes.sec_id = s2.sec_id\n",
    "            and takes.semester = s2.semester\n",
    "            and takes.year = s2.year) t2\n",
    "on student.ID = t2.ID\n",
    "```"
   ]
  },
  {
   "cell_type": "markdown",
   "metadata": {},
   "source": [
    "**Part 3**: For each department, find the maximum salary of instructors in that department. You may assume that every department has at least one instructor.\n",
    "```{sql}\n",
    "select name, dept_name from instructor\n",
    "inner join (select dept_name, max(salary) as max_salary from instructor\n",
    "            group by dept_name) m\n",
    "on instructor.dept_name = m.dept_name\n",
    "and instructor.salary = m.max_salary\n",
    "```"
   ]
  },
  {
   "cell_type": "markdown",
   "metadata": {},
   "source": [
    "**Part 4**: Find the lowest, across all departments, of the per-department maximum salary computed by the preceding query.\n",
    "```{sql}\n",
    "select top 1 name, dept_name, salary from instructor\n",
    "inner join (select dept_name, max(salary) as max_salary from instructor\n",
    "            group by dept_name) m\n",
    "on instructor.dept_name = m.dept_name\n",
    "and instructor.salary = m.max_salary\n",
    "order by salary asc\n",
    "```"
   ]
  },
  {
   "cell_type": "code",
   "execution_count": null,
   "metadata": {},
   "outputs": [],
   "source": []
  }
 ],
 "metadata": {
  "kernelspec": {
   "display_name": "Python 3",
   "language": "python",
   "name": "python3"
  },
  "language_info": {
   "codemirror_mode": {
    "name": "ipython",
    "version": 3
   },
   "file_extension": ".py",
   "mimetype": "text/x-python",
   "name": "python",
   "nbconvert_exporter": "python",
   "pygments_lexer": "ipython3",
   "version": "3.7.6"
  }
 },
 "nbformat": 4,
 "nbformat_minor": 4
}
