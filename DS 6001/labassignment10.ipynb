{
 "cells": [
  {
   "cell_type": "markdown",
   "metadata": {},
   "source": [
    "# Lab Assignment 10: Exploratory Data Analysis, Part 1\n",
    "## DS 6001: Practice and Application of Data Science\n",
    "\n",
    "### Instructions\n",
    "Please answer the following questions as completely as possible using text, code, and the results of code as needed. Format your answers in a Jupyter notebook. To receive full credit, make sure you address every part of the problem, and make sure your document is formatted in a clean and professional way.\n",
    "\n",
    "In this lab, you will be working with the 2018 [General Social Survey (GSS)](http://www.gss.norc.org/). The GSS is a sociological survey created and regularly collected since 1972 by the National Opinion Research Center at the University of Chicago. It is funded by the National Science Foundation. The GSS collects information and keeps a historical record of the concerns, experiences, attitudes, and practices of residents of the United States, and it is one of the most important data sources for the social sciences. \n",
    "\n",
    "The data includes features that measure concepts that are notoriously difficult to ask about directly, such as religion, racism, and sexism. The data also include many different metrics of how successful a person is in his or her profession, including income, socioeconomic status, and occupational prestige. These occupational prestige scores are coded separately by the GSS.  The full description of their methodology for measuring prestige is available here: http://gss.norc.org/Documents/reports/methodological-reports/MR122%20Occupational%20Prestige.pdf Here's a quote to give you an idea about how these scores are calculated:\n",
    "\n",
    "> Respondents then were given small cards which each had a single occupational titles listed on it. Cards were in English or Spanish. They were given one card at a time in the preordained order. The interviewer then asked the respondent to \"please put the card in the box at the top of the ladder if you think that occupation has the highest possible social standing. Put it in the box of the bottom of the ladder if you think it has the lowest possible social standing. If it belongs somewhere in between, just put it in the box that matches the social standing of the occupation.\"\n",
    "\n",
    "The prestige scores are calculated from the aggregated rankings according to the method described above."
   ]
  },
  {
   "cell_type": "markdown",
   "metadata": {},
   "source": [
    "### Problem 0\n",
    "Import the following packages:"
   ]
  },
  {
   "cell_type": "code",
   "execution_count": 1,
   "metadata": {},
   "outputs": [],
   "source": [
    "import numpy as np\n",
    "import pandas as pd\n",
    "import sidetable\n",
    "import weighted # this is a module of wquantiles, so type pip install wquantiles or conda install wquantiles to get access to it\n",
    "from scipy import stats \n",
    "from sklearn import manifold\n",
    "from sklearn import metrics\n",
    "import prince\n",
    "from pandas_profiling import ProfileReport\n",
    "pd.options.display.max_columns = None"
   ]
  },
  {
   "cell_type": "markdown",
   "metadata": {},
   "source": [
    "Then load the GSS data with the following code:"
   ]
  },
  {
   "cell_type": "code",
   "execution_count": 2,
   "metadata": {},
   "outputs": [],
   "source": [
    "%%capture\n",
    "gss = pd.read_csv(\"https://github.com/jkropko/DS-6001/raw/master/localdata/gss2018.csv\",\n",
    "                 encoding='cp1252', na_values=['IAP','IAP,DK,NA,uncodeable', 'NOT SURE',\n",
    "                                               'DK', 'IAP, DK, NA, uncodeable', '.a', \"CAN'T CHOOSE\"])"
   ]
  },
  {
   "cell_type": "markdown",
   "metadata": {},
   "source": [
    "### Problem 1\n",
    "Drop all columns except for the following:\n",
    "* `id` - a numeric unique ID for each person who responded to the survey\n",
    "* `wtss` - survey sample weights\n",
    "* `sex` - male or female\n",
    "* `educ` - years of formal education\n",
    "* `region` - region of the country where the respondent lives\n",
    "* `age` - age\n",
    "* `coninc` - the respondent's personal annual income\n",
    "* `prestg10` - the respondent's occupational prestige score, as measured by the GSS using the methodology described above\n",
    "* `mapres10` - the respondent's mother's occupational prestige score, as measured by the GSS using the methodology described above\n",
    "* `papres10` -the respondent's father's occupational prestige score, as measured by the GSS using the methodology described above\n",
    "* `sei10` - an index measuring the respondent's socioeconomic status\n",
    "* `satjob` - responses to \"On the whole, how satisfied are you with the work you do?\"\n",
    "* `fechld` - agree or disagree with: \"A working mother can establish just as warm and secure a relationship with her children as a mother who does not work.\"\n",
    "* `fefam` - agree or disagree with: \"It is much better for everyone involved if the man is the achiever outside the home and the woman takes care of the home and family.\"\n",
    "* `fepol` - agree or disagree with: \"Most men are better suited emotionally for politics than are most women.\"\n",
    "* `fepresch` - agree or disagree with: \"A preschool child is likely to suffer if his or her mother works.\"\n",
    "* `meovrwrk` - agree or disagree with: \"Family life often suffers because men concentrate too much on their work.\"\n",
    "\n",
    "Then rename any columns with names that are non-intuitive to you to more intuitive and descriptive ones. Finally, replace the \"89 or older\" values of `age` with 89, and convert `age` to a float data type. [1 point]"
   ]
  },
  {
   "cell_type": "markdown",
   "metadata": {},
   "source": [
    "### Problem 2\n",
    "#### Part a\n",
    "Use the `ProfileReport()` function to generate and embed an HTML formatted exploratory data analysis report in your notebook. Make sure that it includes a \"Correlations\" report along with \"Overview\" and \"Variables\". [1 point]"
   ]
  },
  {
   "cell_type": "markdown",
   "metadata": {},
   "source": [
    "#### Part b\n",
    "Looking through the HTML report you displayed in part a, how many people in the data are from New England? [1 point]"
   ]
  },
  {
   "cell_type": "markdown",
   "metadata": {},
   "source": [
    "#### Part c\n",
    "Looking through the HTML report you displayed in part a, which feature in the data has the highest number of missing values, and what percent of the values are missing for this feature? [1 point]"
   ]
  },
  {
   "cell_type": "markdown",
   "metadata": {},
   "source": [
    "#### Part d\n",
    "Looking through the HTML report you displayed in part a, which two distinct features in the data have the highest correlation? [1 point]"
   ]
  },
  {
   "cell_type": "markdown",
   "metadata": {},
   "source": [
    "### Problem 3\n",
    "On a primetime show on a 24-hour cable news network, two unpleasant-looking men in suits sit across a table from each other, scowling. One says \"This economy is failing the middle-class. The average American today is making less than \\\\$48,000 a year.\" The other screams \"Fake news! The typical American makes more than \\$55,000 a year!\" Explain, using words and code, how the data can support both of their arguments. Use the sample weights to calculate descriptive statistics that are more representative of the American adult population as a whole. [1 point]"
   ]
  },
  {
   "cell_type": "markdown",
   "metadata": {},
   "source": [
    "### Problem 4\n",
    "For each of the following parts, \n",
    "* generate a table that provides evidence about the relationship between the two features in the data that are relevant to each question, \n",
    "* interpret the table in words, \n",
    "* use a hypothesis test to assess the strength of the evidence in the table, \n",
    "* and provide a **specific and accurate** intepretation of the $p$-value associated with this hypothesis test beyond \"significant or not\". \n",
    "\n",
    "#### Part a\n",
    "Is there a gender wage gap? That is, is there a difference between the average incomes of men and women? [2 points]"
   ]
  },
  {
   "cell_type": "markdown",
   "metadata": {},
   "source": [
    "#### Part b\n",
    "Are there different average values of occupational prestige for different levels of job satisfaction? [2 points]"
   ]
  },
  {
   "cell_type": "markdown",
   "metadata": {},
   "source": [
    "### Problem 5\n",
    "Report the Pearson's correlation between years of education, socioeconomic status, income, occupational prestige, and a person's mother's and father's occupational prestige? Then perform a hypothesis test for the correlation between years of education and socioeconomic status and provide a **specific and accurate** intepretation of the $p$-value associated with this hypothesis test beyond \"significant or not\". [2 points]"
   ]
  },
  {
   "cell_type": "markdown",
   "metadata": {},
   "source": [
    "### Problem 6\n",
    "Create a new categorical feature for age groups, with categories for 18-35, 36-49, 50-69, and 70 and older (see the module 8 notebook for an example of how to do this). \n",
    "\n",
    "Then create a cross-tabulation in which the rows represent age groups and the columns represent responses to the statement that \"It is much better for everyone involved if the man is the achiever outside the home and the woman takes care of the home and family.\" Rearrange the columns so that they are in the following order: strongly agree, agree, disagree, strongly disagree. Place row percents in the cells of this table.\n",
    "\n",
    "Finally, use a hypothesis test that can tell use whether there is enough evidence to conclude that these two features have a relationship, and provide a specific and accurate intepretation of the $p$-value. [2 points]"
   ]
  },
  {
   "cell_type": "markdown",
   "metadata": {},
   "source": [
    "### Problem 7\n",
    "For this problem, you will conduct and interpret a correspondence analysis on the categorical features that ask respondents to state the extent to which they agree or disagree with the statements:\n",
    "* \"A working mother can establish just as warm and secure a relationship with her children as a mother who does not work.\"\n",
    "* \"It is much better for everyone involved if the man is the achiever outside the home and the woman takes care of the home and family.\"\n",
    "* \"Most men are better suited emotionally for politics than are most women.\"\n",
    "* \"A preschool child is likely to suffer if his or her mother works.\"\n",
    "* \"Family life often suffers because men concentrate too much on their work.\""
   ]
  },
  {
   "cell_type": "markdown",
   "metadata": {},
   "source": [
    "#### Part a\n",
    "Conduct a correspondence analysis using the observed features listed above that measures two latent features. Plot the two latent categories for each category in each of the features used in the analysis. [2 points]"
   ]
  },
  {
   "cell_type": "markdown",
   "metadata": {},
   "source": [
    "#### Part b\n",
    "Display the latent features for every category in the observed features, sorted by the first latent feature. Describe in words what concept this feature is attempting to measure, and give the feature a name. [2 points]"
   ]
  },
  {
   "cell_type": "markdown",
   "metadata": {},
   "source": [
    "#### Part c\n",
    "We can use the results of the MCA model to conduct some cool EDA. For one example, follow these steps:\n",
    "\n",
    "1. Use the `.row_coordinates()` method to calculate values of the latent feature for every row in the data you passed to the MCA in part a. Extract the first column and store it in its own dataframe.\n",
    "\n",
    "2. To join it with the full, cleaned GSS data based on row numbers (instead of on a primary key), use the `.join()` method. For example, if we named the cleaned GSS data `gss_clean` and if we named the dataframe in step 1 `latentfeature`, we can type\n",
    "```\n",
    "gss_clean = gss_clean.join(latentfeature, how=\"outer\")\n",
    "```\n",
    "3. Create a cross-tabuation with age categories (that you constructed in problem 5) in the rows and sex in the columns. Instead of a frequency, place the mean value of the latent feature in the cells. \n",
    "\n",
    "What does this table tell you about the relationship between sex, age, and the latent feature? [2 points]"
   ]
  }
 ],
 "metadata": {
  "kernelspec": {
   "display_name": "Python 3",
   "language": "python",
   "name": "python3"
  },
  "language_info": {
   "codemirror_mode": {
    "name": "ipython",
    "version": 3
   },
   "file_extension": ".py",
   "mimetype": "text/x-python",
   "name": "python",
   "nbconvert_exporter": "python",
   "pygments_lexer": "ipython3",
   "version": "3.7.6"
  }
 },
 "nbformat": 4,
 "nbformat_minor": 4
}
