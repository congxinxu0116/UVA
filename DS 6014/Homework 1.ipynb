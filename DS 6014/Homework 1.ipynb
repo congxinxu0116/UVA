{
 "cells": [
  {
   "cell_type": "markdown",
   "metadata": {},
   "source": [
    "# Homework 1; Probability Review and Prior\n",
    "- Name: Congxin (David) \n",
    "- Computer ID: cx2rx\n",
    "\n",
    "### Question 1\n",
    "(20) You are a data science and are choosing between three approaches, A, B, and C, to a problem. With approach A, you will spend a total of **four** days coding and running an algorithm and it will not produce useful results. With approach B, you will spend a total of **three** days coding and running an algorithm and it will not produce useful results. With approach C, you will spend **one** day coding and running an algorithm and it will give the results you are looking for. You are equally likely to choose among unselected options. What is the expected time in days for you to obtain the results you are looking for? What is the variance on this time"
   ]
  },
  {
   "cell_type": "markdown",
   "metadata": {},
   "source": [
    "**Answer**\n",
    "\n",
    "Based on the information provided to us, there are total of 5 possible situations: \n",
    "\n",
    "|   x      |   C\t|   BC\t        |   AC\t        | ABC\t        | BAC              |\n",
    "|  --- \t   |  --- \t|   ---      \t|   ---\t        | ---           | ---              |\n",
    "| P(X = x) |   1/3\t|   1/6\t        |   1/6  \t    | 1/6        \t| 1/6              |\n",
    "\n",
    "Therefore, \n",
    "$$ \\begin{aligned}\n",
    "\\mu & = \\sum_{i = 0}^{5} x_i P (X = x_i) \\\\\n",
    "& = 1 \\times 1/3 + 4 \\times 1/6 + 5 \\times 1/6 + 8 \\times 1/6 + 8 \\times 1/6 \\\\\n",
    "& = 1/3 + 4/6 + 5/6 + 8/6 + 8/6 \\\\\n",
    "& = 4.5\n",
    "\\end{aligned} $$\n",
    "\n",
    "The expected time in days for me to obtian the results I am looking for will be **4.5** days. \n",
    "\n",
    "$$ \\begin{aligned} \n",
    "Var(X) &= \\sum_{i = 0}^{5} (x_i - \\mu)^2 p(X = x_i) \\\\\n",
    "& = (1 - 4.5)^2 \\times 1/3 + (4 - 4.5)^2 \\times 1/6 + (5 - 4.5)^2 \\times 1/6 + (8 - 4.5)^2 \\times 1/6 + (8 - 4.5)^2 \\times 1/6 \\\\\n",
    "& = 8.25\n",
    "\\end{aligned} $$\n",
    "\n",
    "The variance on this time is **8.25**. "
   ]
  },
  {
   "cell_type": "markdown",
   "metadata": {},
   "source": [
    "### Question 2\n",
    "(20) Suppose if it is sunny or not in Charlottesville depends on the weather\n",
    "of the last three days. Show how this can be modeled as a Markov chain.\n",
    "\n",
    "**Answer**\n",
    "Given the weather is sunny or not in Charlottesville depends on the weather of the last three days. Let S denote Sunny and N denote not sunny. We can get the following trasition matrix: \n",
    "\n",
    "|   Last Three Days\t|   Sunny (S)\t|   Not Sunny (N)\t| \n",
    "|:-\t                | ---\t        |---\t            |\n",
    "|   \t    SSS     |   P(SSSS)     |   P(SSSN)\t        |\n",
    "|   \t    NSS     |   P(NSSS)\t    |   P(NSSN)\t        |\n",
    "|           SNS    \t|   P(SNSS)\t    |   P(SNSN)\t        |\n",
    "|           SNS    \t|   P(SNSS)\t    |   P(SNSN)\t        |\n",
    "|           NNS    \t|   P(NNSS)\t    |   P(NNSN)\t        |\n",
    "|           NSN    \t|   P(NSNS)\t    |   P(NSNN)\t        |\n",
    "|           SNN    \t|   P(SNNS)\t    |   P(SNNN)\t        |\n",
    "|           NNN    \t|   P(NNNS)\t    |   P(NNNN)\t        |\n"
   ]
  },
  {
   "cell_type": "markdown",
   "metadata": {},
   "source": [
    "### Question 3\n",
    "(20) Assume a Gaussian distribution for observations, $X_i, i = 1, . . . , N$\n",
    "with unknown mean, M, and known variance 5. Suppose the prior for M\n",
    "is Gaussian with variance 10. How large a random sample must be taken\n",
    "(i.e., what is the minimum value for N) to specify an interval having unit\n",
    "length of 1 such that the probability that M lies in this interval is 0.95?\n",
    "\n",
    "**Answer**\n",
    "\n",
    "Give M has a Gaussian distribution and its prior also has an Gaussian distribution. Given $\\sigma^2 = 5$ and $\\sigma^2_0 = 10$, the variance of the posterior distribution is: \n",
    "\n",
    "$$\\sigma^2_{post} = \\frac{\\sigma_0^2 \\sigma^2}{\\sigma^2 + N \\sigma_0^2} = \\frac{10 \\times 5}{5 + 10N} = \\frac{10}{1 + 2N}$$\n",
    "\n",
    "We also know that the 95% confidence interval has a unit lenght of 1 and a z-score of 1.959964. \n",
    "\n",
    "Therefore, we can transform the formula of z-score \n",
    "\n",
    "$$Z = \\frac{x - \\mu}{\\sigma_{post}} \\Rightarrow  1.959964 = \\frac{0.5}{\\sigma_{post}} \\Rightarrow \\sigma_{post} = \\frac{0.5}{1.959964} = 0.25510672645007765$$\n",
    "\n",
    "Substituting the value of $\\sigma_{post}$ to the first equation:\n",
    "\n",
    "$$\\sigma^2_{post} = \\frac{10}{1 + 2N} = 0.25510672645007765^2 $$\n",
    "$$ \\frac{10}{1 + 2N} = 0.260317767520299 \\Rightarrow 1 +2N = 153.65835525184 \\Rightarrow N = 76.32917762592$$\n",
    "\n",
    "Since N must be an integer, we round up the value of N and conclude that we need at least 77 random samples to specify an interval having unit length of 1 such that the probability that M lies in this interval is 0.95."
   ]
  },
  {
   "cell_type": "markdown",
   "metadata": {},
   "source": [
    "### Question 4\n",
    "(20) You have started an online business selling books that are of interest to your customers. A publisher has just given you a large book with photos from famous 20th century photographers. You think this book will appeal to people who have bought art books, history books, and coffee table books. In an initial offering of the new book, you collect data on purchases of the new\n",
    "book and combine these data with data from the past purchases (see ArtHistBooks.csv). Use Bayesian analysis to give the posterior probabilities for purchases of art books, history books, and coffee table books, as well as, the separate probabilities for purchases of the new book, given each possible combination of prior purchases of art books, history books, and coffee table books. Do this by first using beta priors with values of the hyperparameters that represent lack of prior information. Then compute these probabilities again with beta priors that show strong weighting for low likelihood of a book purchase. Compare your results."
   ]
  },
  {
   "cell_type": "markdown",
   "metadata": {},
   "source": [
    "Let 0 denote the event of not purchase any books and 1 denote the event of purchase any books. To represent lack of prior information, we use $Beta(1, 1)$ as the prior distribution. Let A denote the art book, H denote the history books, C denote coffee table books and N denote New books. By counting the non-zero values in each column of the `ArtHistBooks.csv` file,\n",
    "\n",
    "With uninformed prior $Beta(1,1)$: \n",
    "\n",
    "$E(\\theta_{A} | x) =  \\frac{\\sum_{i = 1}^N x_i + \\alpha}{N + \\alpha + \\beta} = \\frac{301 + 1}{1000 + 1 + 1} = 0.3014$\n",
    "\n",
    "$E(\\theta_{H} | x) =  \\frac{\\sum_{i = 1}^N x_i + \\alpha}{N + \\alpha + \\beta} = \\frac{543 + 1}{1000 + 1 + 1} = 0.5429$\n",
    "\n",
    "$E(\\theta_{C} | x) =  \\frac{\\sum_{i = 1}^N x_i + \\alpha}{N + \\alpha + \\beta} = \\frac{380 + 1}{1000 + 1 + 1} = 0.3802$\n",
    "\n",
    "$E(N = 1 | (A = 0, H = 0, C = 0)) = \\frac{\\sum_{i = 1}^N x_i + \\alpha}{N + \\alpha + \\beta} = \\frac{4 + 1}{193 + 1 + 1} = 0.0256$ \n",
    "\n",
    "$E(N = 1 | (A = 1, H = 0, C = 0)) = \\frac{\\sum_{i = 1}^N x_i + \\alpha}{N + \\alpha + \\beta} = \\frac{12 + 1}{76 + 1 + 1} = 0.1667$ \n",
    "\n",
    "$E(N = 1 | (A = 0, H = 1, C = 0)) = \\frac{\\sum_{i = 1}^N x_i + \\alpha}{N + \\alpha + \\beta} = \\frac{10 + 1}{251 + 1 + 1} = 0.0435$ \n",
    "\n",
    "$E(N = 1 | (A = 0, H = 0, C = 1)) = \\frac{\\sum_{i = 1}^N x_i + \\alpha}{N + \\alpha + \\beta} = \\frac{3 + 1}{134 + 1 + 1} = 0.0294$ \n",
    "\n",
    "$E(N = 1 | (A = 1, H = 1, C = 0)) = \\frac{\\sum_{i = 1}^N x_i + \\alpha}{N + \\alpha + \\beta} = \\frac{16 + 1}{100 + 1 + 1} = 0.1667$ \n",
    "\n",
    "$E(N = 1 | (A = 1, H = 0, C = 1)) = \\frac{\\sum_{i = 1}^N x_i + \\alpha}{N + \\alpha + \\beta} = \\frac{4 + 1}{54 + 1 + 1} = 0.0893$ \n",
    "\n",
    "$E(N = 1 | (A = 0, H = 1, C = 1)) = \\frac{\\sum_{i = 1}^N x_i + \\alpha}{N + \\alpha + \\beta} = \\frac{14 + 1}{121 + 1 + 1} = 0.1220$ \n",
    "\n",
    "$E(N = 1 | (A = 1, H = 1, C = 1)) = \\frac{\\sum_{i = 1}^N x_i + \\alpha}{N + \\alpha + \\beta} = \\frac{26 + 1}{71 + 1 + 1} = 0.3699$ "
   ]
  },
  {
   "cell_type": "code",
   "execution_count": 35,
   "metadata": {},
   "outputs": [
    {
     "data": {
      "text/plain": [
       "0.36"
      ]
     },
     "execution_count": 35,
     "metadata": {},
     "output_type": "execute_result"
    }
   ],
   "source": [
    "(26 + 1)/(71 + 1 + 3)"
   ]
  },
  {
   "cell_type": "markdown",
   "metadata": {},
   "source": [
    "With beta priors that show strong weighting for low likelihood of a book purchase, prior $Beta(1,3)$: \n",
    "\n",
    "$E(\\theta_{A} | x) =  \\frac{\\sum_{i = 1}^N x_i + \\alpha}{N + \\alpha + \\beta} = \\frac{301 + 1}{1000 + 1 + 3} = 0.3008$\n",
    "\n",
    "$E(\\theta_{H} | x) =  \\frac{\\sum_{i = 1}^N x_i + \\alpha}{N + \\alpha + \\beta} = \\frac{543 + 1}{1000 + 1 + 3} = 0.5418$\n",
    "\n",
    "$E(\\theta_{C} | x) =  \\frac{\\sum_{i = 1}^N x_i + \\alpha}{N + \\alpha + \\beta} = \\frac{380 + 1}{1000 + 1 + 3} = 0.3795$\n",
    "\n",
    "$E(N = 1 | (A = 0, H = 0, C = 0)) = \\frac{\\sum_{i = 1}^N x_i + \\alpha}{N + \\alpha + \\beta} = \\frac{4 + 1}{193 + 1 + 3} = 0.0254$ \n",
    "\n",
    "$E(N = 1 | (A = 1, H = 0, C = 0)) = \\frac{\\sum_{i = 1}^N x_i + \\alpha}{N + \\alpha + \\beta} = \\frac{12 + 1}{76 + 1 + 3} = 0.1625$ \n",
    "\n",
    "$E(N = 1 | (A = 0, H = 1, C = 0)) = \\frac{\\sum_{i = 1}^N x_i + \\alpha}{N + \\alpha + \\beta} = \\frac{10 + 1}{251 + 1 + 3} = 0.0431$ \n",
    "\n",
    "$E(N = 1 | (A = 0, H = 0, C = 1)) = \\frac{\\sum_{i = 1}^N x_i + \\alpha}{N + \\alpha + \\beta} = \\frac{3 + 1}{134 + 1 + 3} = 0.0290$ \n",
    "\n",
    "$E(N = 1 | (A = 1, H = 1, C = 0)) = \\frac{\\sum_{i = 1}^N x_i + \\alpha}{N + \\alpha + \\beta} = \\frac{16 + 1}{100 + 1 + 3} = 0.1635$ \n",
    "\n",
    "$E(N = 1 | (A = 1, H = 0, C = 1)) = \\frac{\\sum_{i = 1}^N x_i + \\alpha}{N + \\alpha + \\beta} = \\frac{4 + 1}{54 + 1 + 3} = 0.0862$ \n",
    "\n",
    "$E(N = 1 | (A = 0, H = 1, C = 1)) = \\frac{\\sum_{i = 1}^N x_i + \\alpha}{N + \\alpha + \\beta} = \\frac{14 + 1}{121 + 1 + 3} = 0.12$ \n",
    "\n",
    "$E(N = 1 | (A = 1, H = 1, C = 1)) = \\frac{\\sum_{i = 1}^N x_i + \\alpha}{N + \\alpha + \\beta} = \\frac{26 + 1}{71 + 1 + 3} = 0.36$ "
   ]
  },
  {
   "cell_type": "markdown",
   "metadata": {},
   "source": [
    "When comparing the posterior mean with prior $Beta(1,1)$ and the posterior mean with prior $Beta(1,3)$, we can see that the posterior mean only change by a small amount."
   ]
  },
  {
   "cell_type": "markdown",
   "metadata": {},
   "source": [
    "### Question 5\n",
    "\n",
    "(20) The data set CHDdata.csv contains cases of coronary heart disease\n",
    "(CHD) and variables associated with the patient's condition: systolic\n",
    "blood pressure, yearly tobacco use (in kg), low density lipoprotein (ldl),\n",
    "adiposity, family history (0 or 1), type A personality score (typea), obesity\n",
    "(body mass index), alcohol use, age, and the diagnosis of CHD (0 or 1).\n",
    "Perform a Bayesian analysis of these data that finds the posterior marginal\n",
    "probability distributions for the means for the data of patients with and\n",
    "without CHD. You should first standard scale (subtract the mean and\n",
    "divide by the standard deviation) all the numeric variables (remove family\n",
    "history and do not scale CHD). Then separate the data into two sets, one\n",
    "for patients with CHD and one for patients without CHD.\n",
    "Your priors for both groups should assume means of 0 for all variables\n",
    "and a correlation of 0 between all pairs of variables. You should assume\n",
    "all variances for the variables are 1. Use a prior alpha equal to one plus\n",
    "the number of predictor variables. Compute and compare the Bayesian\n",
    "estimates for the posterior means for each group.\n",
    "For 5 extra credit points, compute the probability of observing a point at\n",
    "least as extreme as the posterior mean of patients without CHD under\n",
    "the posterior distribution for the patients with CHD. Then compute\n",
    "the probability of observing a point at least as extreme as the posterior\n",
    "mean of patients with CHD under the posterior distribution for the\n",
    "patients without CHD."
   ]
  },
  {
   "cell_type": "markdown",
   "metadata": {},
   "source": [
    "Doing an F test\n",
    "\n",
    "varaince and covariance, use the R, take the inverse this, \n",
    "\n",
    "See Piazza, matrix multiplication in python\n",
    "\n",
    "where the equations are: slides 8-9 multi conjugate prior\n",
    "posterior mean and posterior precision, just calculating those\n",
    "\n",
    "looking for is there a difference between people on this variables\n",
    "\n",
    "is there a significant difference between these two gaussian distribution \n",
    "\n",
    "use F teston the mean, pooled F test, by inverting the precise to calculate the variance-covariance matrix. \n",
    "\n",
    "$N_{CHD} = $ number of CHD patients, \n",
    "$N_{Normal} = $ number of normal patients\n",
    "S is the varaince covariance matrix\n",
    "r is the precision\n",
    "$$S_{pooled} = \\frac{(N_{CHD} - 1) [r_{CHD}]^{-1} + (N_{Normal} - 1) [r_{Normal}]^{-1}}{(N_{CHD} - 1) + (N_{Normal} - 1)}$$\n",
    "\n",
    "\n",
    "$F^* = |\\mu_{CHD} - \\mu_{Normal}|^T * S_{pooled} * |\\mu_{CHD} - \\mu_{Normal}|$ to get a scaler and compare this with the F value. \n",
    "\n",
    "95%, F(0.95, df = 9 number of parameters, number of observations 462 - 2 - 9)\n",
    "\n",
    "Compare the test statistic and the critical F"
   ]
  }
 ],
 "metadata": {
  "kernelspec": {
   "display_name": "Python 3",
   "language": "python",
   "name": "python3"
  },
  "language_info": {
   "codemirror_mode": {
    "name": "ipython",
    "version": 3
   },
   "file_extension": ".py",
   "mimetype": "text/x-python",
   "name": "python",
   "nbconvert_exporter": "python",
   "pygments_lexer": "ipython3",
   "version": "3.7.6"
  }
 },
 "nbformat": 4,
 "nbformat_minor": 4
}
