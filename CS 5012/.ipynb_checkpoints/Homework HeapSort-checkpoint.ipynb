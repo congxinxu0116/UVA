{
 "cells": [
  {
   "cell_type": "markdown",
   "metadata": {},
   "source": [
    "# 5.6.2 Homework: HeapSort\n",
    "\n",
    "- Name: Congxin (David) Xu\n",
    "- Computing ID: cx2rx"
   ]
  },
  {
   "cell_type": "markdown",
   "metadata": {},
   "source": [
    "### Question 1: Create a Binary Search Tree\n",
    "#### Part 1\n",
    "- **List 1**: Leo, Hester, Ressie, Keira, Damian, Victor, Collin, Marci, Ashlie, Willis, Eric, Mya, Elizabeth, Ralph\n",
    "\n",
    "    1. List out the tree created by the add order of list 1 using post-order traversal.\n",
    "    2. If we removed the node containing Damian, what two values could we replace it with?\n",
    "    3. What if we removed the node containing Ressie?"
   ]
  },
  {
   "cell_type": "markdown",
   "metadata": {},
   "source": [
    "**Answer**\n",
    "\n",
    "1. [Ashlie, Collin, Elizabeth, Eric, Damian, Keira, Hester, Ralph, Mya, Marci, Willis, Victor, Ressie, Leo]\n",
    "2. The two values we could replace Damian with are *Collin* and *Elizabeth*.\n",
    "3. If we removed the node containing Ressie, we can replace it with *Victor*, or *Ralph*."
   ]
  },
  {
   "cell_type": "markdown",
   "metadata": {},
   "source": [
    "#### Part 2\n",
    "- **List 2**: Victor, Ralph, Leo, Mya, Eric, Elizabeth, Hester, Damian, Willis, Collin, Keira, Marci, Ashlie, Ressie\n",
    "\n",
    "    1. List out the tree created by the add order of list 2 using post-order traversal."
   ]
  },
  {
   "cell_type": "markdown",
   "metadata": {},
   "source": [
    "**Answer**\n",
    "1. [Ashlie, Collin, Damian, Elizabeth, Keira, Hester, Eric, Marci, Mya, Leo, Ressie, Ralph, Willis, Victor]"
   ]
  },
  {
   "cell_type": "markdown",
   "metadata": {},
   "source": [
    "#### Part 3\n",
    "- Compare the tree from list 1 with the tree from list 2, which do you think would perform better for the add and remove methods?\n",
    "\n",
    "**Answer**\n",
    "\n",
    "I think the List 1 is going to perform better for the add and remove methods because it is more balanced comparing List 2."
   ]
  },
  {
   "cell_type": "markdown",
   "metadata": {},
   "source": [
    "### Question 2\n",
    "Given an array A[1, ..., n], with distinct values and k with $1 \\leq k \\leq n$. We want to return the k smallest element of A[1, ...,n], in non-decreasing order. For example: A = [5, 4, 6, 2, 10] and $k = 4$, the algorithm returns [2, 4, 5, 6]. There are at least the following four approaches:\n",
    "\n",
    "1. heapify A and then extract k elements one by one;\n",
    "2. sort the array (e.g. using MergeSort or HeapSort) and then read the first k elements;\n",
    "3. apply the selection procedure k times to find the 1st, 2nd,..., the k’th smallest element;\n",
    "4. apply selection procedure to find the k’th smallest element, then use that element to find the k smallest elements, and then sort those k elements.\n",
    "\n",
    "For each approach, find the asymptotic worst-case running time which should\n",
    "be of the form $\\Theta(f(n, k))$.\n",
    "Now assume $k = \\sqrt{n}$. Then for each approach express the asymptotic\n",
    "running-time as a function of $n$ only."
   ]
  },
  {
   "cell_type": "markdown",
   "metadata": {},
   "source": [
    "**Answer**\n",
    "1. $\\Theta(f(n, k)) = \\Theta(k log n)$. \n",
    "    - If we assume $k = \\sqrt{n}$, then $\\Theta(f(n, k)) = \\Theta(\\sqrt{n} log n)$\n",
    "2. $\\Theta(f(n, k)) = \\Theta(n log n + k) = \\Theta(n log n)$. \n",
    "    - If we assume $k = \\sqrt{n}$, then $\\Theta(f(n, k)) = \\Theta(n log n + \\sqrt{n}) = \\Theta(n log n)$\n",
    "3. If we use randomized selection procedure, it will take $\\Theta(n)$. Therefore, $\\Theta(f(n, k)) = \\Theta(k * n)$. \n",
    "    - If we assume $k = \\sqrt{n}$, then $\\Theta(f(n, k)) = \\Theta(\\sqrt{n} * n) = \\Theta(n^{3/2})$\n",
    "4. If we use randomized selection procedure, it will take $\\Theta(n)$. Therefore $\\Theta(f(n, k)) = \\Theta(2n + klogk) = \\Theta(n + klogk)$. \n",
    "    - If we assume $k = \\sqrt{n}$, then $\\Theta(f(n, k)) = \\Theta(n + \\sqrt{n}log\\sqrt{n}) = \\Theta(n)$."
   ]
  },
  {
   "cell_type": "markdown",
   "metadata": {},
   "source": [
    "### Question 3\n",
    "- Implement HeapSort. Submit your code in Jupyter notebook format along with some test results and discuss if your results are supporting the claim of $\\Theta(n lg n)$.\n",
    "- Compare the performance of HeapSort with MergeSort and Quick-Sort (no coding is required, however you can code if helps in your answer).\n",
    "\n",
    "**Answer**\n",
    "\n",
    "Following the pesudo code provided within Chapter 6 of the Introdution to Algorithm, I come up with the following program:"
   ]
  },
  {
   "cell_type": "code",
   "execution_count": 1,
   "metadata": {},
   "outputs": [],
   "source": [
    "# Define a Heap class\n",
    "class Heap:\n",
    "    def __init__(self, array):\n",
    "        self.array = array\n",
    "        self.length = len(array)\n",
    "        self.heap_size = len(self.array)\n",
    "           \n",
    "    def Left(self, i):\n",
    "        return 2*i + 1\n",
    "    \n",
    "    def Right(self,i):\n",
    "        return 2*i + 2"
   ]
  },
  {
   "cell_type": "code",
   "execution_count": 2,
   "metadata": {},
   "outputs": [],
   "source": [
    "# Using Max Heap for HeapSort\n",
    "def Max_Heapify(A, i):\n",
    "    # Get the index of the child nodes\n",
    "    l = A.Left(i) \n",
    "    r = A.Right(i)\n",
    "    \n",
    "    # Find the max value among left, root and right\n",
    "    if l < A.heap_size and A.array[l] > A.array[i]:\n",
    "        largest = l\n",
    "    else:\n",
    "        largest = i\n",
    "    \n",
    "    if r < A.heap_size and A.array[r] > A.array[largest]:\n",
    "        largest = r\n",
    "    \n",
    "    # Change the root if root is not the max\n",
    "    if largest != i:\n",
    "        A.array[i], A.array[largest] = A.array[largest], A.array[i]\n",
    "        Max_Heapify(A, largest)"
   ]
  },
  {
   "cell_type": "code",
   "execution_count": 3,
   "metadata": {},
   "outputs": [],
   "source": [
    "# Make sure we have a max heap\n",
    "def Build_Max_Heap(A):\n",
    "    A.heap_size = A.length\n",
    "    for i in range(A.length // 2 - 1, -1, -1):\n",
    "        Max_Heapify(A, i)"
   ]
  },
  {
   "cell_type": "code",
   "execution_count": 4,
   "metadata": {},
   "outputs": [],
   "source": [
    "# Main function \n",
    "def Heapsort(A):\n",
    "    Build_Max_Heap(A)\n",
    "    for i in range(A.length - 1, 0, -1):\n",
    "        A.array[0], A.array[i] = A.array[i], A.array[0]\n",
    "        A.heap_size = i\n",
    "        Max_Heapify(A, 0)\n",
    "        # print(A.array)"
   ]
  },
  {
   "cell_type": "code",
   "execution_count": 5,
   "metadata": {},
   "outputs": [
    {
     "data": {
      "text/plain": [
       "[0, 1, 2, 3, 5, 6, 7, 9, 10]"
      ]
     },
     "execution_count": 5,
     "metadata": {},
     "output_type": "execute_result"
    }
   ],
   "source": [
    "A = [1,3,2,5,6,9,10,7,0]\n",
    "H = Heap(A)\n",
    "Heapsort(H)\n",
    "A"
   ]
  },
  {
   "cell_type": "markdown",
   "metadata": {},
   "source": [
    "My Heapsort algorithm supports the claim that the time complexity of this algorithm is $\\Theta(nlogn).$ because in my `Heapsort()` function, it will take $\\Theta(log n)$ to `Max_Heapify()` the list and it is going to run this `Max_Heapify()` function $n - 1$ times. `Build_Max_Heap()` function will also run the `Max_Heapify()` function $n // 2$ times. Therefore, the final time complexity for the entire `Heapsort()` function is $\\Theta(n log n)$."
   ]
  },
  {
   "cell_type": "code",
   "execution_count": 6,
   "metadata": {},
   "outputs": [
    {
     "name": "stdout",
     "output_type": "stream",
     "text": [
      "Merge sort for unsorted data\n",
      "n =                             64 - duration: 0.00019952058792114258\n",
      "n =                            128 - duration: 9.974241256713868e-05\n",
      "n =                            256 - duration: 0.0010972380638122558\n",
      "n =                            512 - duration: 0.0025929808616638184\n",
      "n =                           1024 - duration: 0.005235850811004639\n",
      "n =                           2048 - duration: 0.010676431655883788\n",
      "Quick sort for unsorted data\n",
      "n =                             64 - duration: 0.00010315179824829101\n",
      "n =                            128 - duration: 0.00019779205322265626\n",
      "n =                            256 - duration: 0.0005507230758666992\n",
      "n =                            512 - duration: 0.0008942484855651855\n",
      "n =                           1024 - duration: 0.002390432357788086\n",
      "n =                           2048 - duration: 0.004985940456390381\n",
      "Quick sort for unsorted data\n",
      "n =                             64 - duration: 0.0002991676330566406\n",
      "n =                            128 - duration: 0.0006981015205383301\n",
      "n =                            256 - duration: 0.0016954779624938966\n",
      "n =                            512 - duration: 0.0055350780487060545\n",
      "n =                           1024 - duration: 0.012217855453491211\n",
      "n =                           2048 - duration: 0.01960141658782959\n"
     ]
    }
   ],
   "source": [
    "# Merge_sort functions is copied from https://www.geeksforgeeks.org/merge-sort/ only for performance comparison \n",
    "def merge_sort(values): \n",
    "  \n",
    "    if len(values)>1: \n",
    "        m = len(values)//2\n",
    "        left = values[:m] \n",
    "        right = values[m:] \n",
    "        left = merge_sort(left) \n",
    "        right = merge_sort(right) \n",
    "  \n",
    "        values =[] \n",
    "  \n",
    "        while len(left)>0 and len(right)>0: \n",
    "            if left[0]<right[0]: \n",
    "                values.append(left[0]) \n",
    "                left.pop(0) \n",
    "            else: \n",
    "                values.append(right[0]) \n",
    "                right.pop(0) \n",
    "  \n",
    "        for i in left: \n",
    "            values.append(i) \n",
    "        for i in right: \n",
    "            values.append(i) \n",
    "                  \n",
    "    return values\n",
    "\n",
    "# Quick sort functions is copied from https://www.geeksforgeeks.org/python-program-for-quicksort/ \n",
    "# only for performance comparison \n",
    "\n",
    "def partition(arr, low, high):\n",
    "    i = (low-1)         # index of smaller element\n",
    "    pivot = arr[high]     # pivot\n",
    " \n",
    "    for j in range(low, high):\n",
    " \n",
    "        # If current element is smaller than or\n",
    "        # equal to pivot\n",
    "        if arr[j] <= pivot:\n",
    " \n",
    "            # increment index of smaller element\n",
    "            i = i+1\n",
    "            arr[i], arr[j] = arr[j], arr[i]\n",
    " \n",
    "    arr[i+1], arr[high] = arr[high], arr[i+1]\n",
    "    return (i+1)\n",
    " \n",
    "# The main function that implements QuickSort\n",
    "# arr[] --> Array to be sorted,\n",
    "# low  --> Starting index,\n",
    "# high  --> Ending index\n",
    " \n",
    "# Function to do Quick sort\n",
    " \n",
    "def quickSort(arr, low, high):\n",
    "    if len(arr) == 1:\n",
    "        return arr\n",
    "    if low < high:\n",
    " \n",
    "        # pi is partitioning index, arr[p] is now\n",
    "        # at right place\n",
    "        pi = partition(arr, low, high)\n",
    " \n",
    "        # Separately sort elements before\n",
    "        # partition and after partition\n",
    "        quickSort(arr, low, pi-1)\n",
    "        quickSort(arr, pi+1, high)\n",
    "\n",
    "        \n",
    "# playing with the code\n",
    "import random\n",
    "import time\n",
    "\n",
    "def run_trials(f, n, numTrials):\n",
    "    \"\"\" Run numTrials of f with list of size n.  Return the average time taken. \"\"\"\n",
    "    total_time = 0\n",
    "    for _ in range(numTrials):\n",
    "        array = gen_trial(n)\n",
    "        start = time.time()\n",
    "        f(array)\n",
    "        total_time += time.time() - start\n",
    "    return total_time / numTrials\n",
    "\n",
    "def run_trials_quicksort(f, n, numTrials):\n",
    "    \"\"\" Run numTrials of f with list of size n.  Return the average time taken. \"\"\"\n",
    "    total_time = 0\n",
    "    for _ in range(numTrials):\n",
    "        array = gen_trial(n)\n",
    "        start = time.time()\n",
    "        f(array, low = 0, high = len(array) - 1)\n",
    "        total_time += time.time() - start\n",
    "    return total_time / numTrials\n",
    "\n",
    "def run_trials_heapsort(f, n, numTrials):\n",
    "    \"\"\" Run numTrials of f with list of size n.  Return the average time taken. \"\"\"\n",
    "    total_time = 0\n",
    "    for _ in range(numTrials):\n",
    "        array = gen_trial(n)\n",
    "        start = time.time()\n",
    "        f(Heap(array))\n",
    "        total_time += time.time() - start\n",
    "    return total_time / numTrials\n",
    "\n",
    "def gen(n):\n",
    "    l = list(map(lambda x: random.randint(1, 2*n), range(n)))\n",
    "    return l\n",
    "\n",
    "\n",
    "def gen_trial(n):\n",
    "    array = gen(n)\n",
    "    # pick a value in the array\n",
    "    # we can get an outlier for cases where A[n] is picked.\n",
    "    return (array)\n",
    "\n",
    "n = 1\n",
    "durations1 = []\n",
    "print('Merge sort for unsorted data') \n",
    "for i in range(6,12):\n",
    "    n = 2 ** i\n",
    "    for i in range(1):\n",
    "        duration1 = run_trials(merge_sort, n, 20)\n",
    "        durations1.append([n, duration1])\n",
    "        print(f\"n = {n:-30} - duration: {duration1}\")\n",
    "\n",
    "print('Quick sort for unsorted data') \n",
    "durations2 = []\n",
    "for i in range(6,12):\n",
    "    n = 2 ** i\n",
    "    for i in range(1):\n",
    "        duration2 = run_trials_quicksort(quickSort, n, 20)\n",
    "        durations2.append([n, duration2])\n",
    "        print(f\"n = {n:-30} - duration: {duration2}\")\n",
    "            \n",
    "print('Quick sort for unsorted data') \n",
    "durations3 = []\n",
    "for i in range(6,12):\n",
    "    n = 2 ** i\n",
    "    for i in range(1):\n",
    "        duration3 = run_trials_heapsort(Heapsort, n, 20)\n",
    "        durations3.append([n, duration3])\n",
    "        print(f\"n = {n:-30} - duration: {duration3}\")"
   ]
  },
  {
   "cell_type": "code",
   "execution_count": 7,
   "metadata": {},
   "outputs": [
    {
     "data": {
      "image/png": "[encoded data removed]",
      "text/plain": [
       "<Figure size 648x360 with 1 Axes>"
      ]
     },
     "metadata": {
      "needs_background": "light"
     },
     "output_type": "display_data"
    }
   ],
   "source": [
    "import matplotlib.pyplot as plt\n",
    "import math\n",
    "scale = durations1[0][1]\n",
    "fig, ax = plt.subplots(1,1,figsize=(9,5))\n",
    "# Heap Sort\n",
    "x = [d[0] for d in durations3]\n",
    "y = [d[1]/scale for d in durations3]\n",
    "plt.scatter(x, y,color='red',)\n",
    "\n",
    "# Merge Sort\n",
    "x2 = [d[0] for d in durations1]\n",
    "y2 = [d[1]/scale for d in durations1]\n",
    "plt.scatter(x2, y2,color='blue')\n",
    "\n",
    "# Quick Sort\n",
    "x3 = [d[0] for d in durations2]\n",
    "y3 = [d[1]/scale for d in durations2]\n",
    "plt.scatter(x3, y3,color='yellow')\n",
    "\n",
    "plt.tight_layout()\n",
    "plt.show()"
   ]
  },
  {
   "cell_type": "markdown",
   "metadata": {},
   "source": [
    "All of them takes $\\Theta(nlogn)$ to sort an array. However, from the graph above, as $n$ increases, we can see that `Heapsort (Red)` is slower than `MergeSort (Blue)`, which is slower than `QuickSort (Yellow)` with a random pivot. "
   ]
  }
 ],
 "metadata": {
  "kernelspec": {
   "display_name": "Python 3",
   "language": "python",
   "name": "python3"
  },
  "language_info": {
   "codemirror_mode": {
    "name": "ipython",
    "version": 3
   },
   "file_extension": ".py",
   "mimetype": "text/x-python",
   "name": "python",
   "nbconvert_exporter": "python",
   "pygments_lexer": "ipython3",
   "version": "3.7.6"
  }
 },
 "nbformat": 4,
 "nbformat_minor": 4
}
