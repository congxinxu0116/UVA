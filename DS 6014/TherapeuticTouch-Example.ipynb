{
 "cells": [
  {
   "cell_type": "code",
   "execution_count": 1,
   "metadata": {},
   "outputs": [
    {
     "name": "stderr",
     "output_type": "stream",
     "text": [
      "WARNING (theano.configdefaults): g++ not available, if using conda: `conda install m2w64-toolchain`\n",
      "C:\\ProgramData\\Anaconda3\\lib\\site-packages\\theano\\configdefaults.py:560: UserWarning: DeprecationWarning: there is no c++ compiler.This is deprecated and with Theano 0.11 a c++ compiler will be mandatory\n",
      "  warnings.warn(\"DeprecationWarning: there is no c++ compiler.\"\n",
      "WARNING (theano.configdefaults): g++ not detected ! Theano will be unable to execute optimized C-implementations (for both CPU and GPU) and will default to Python implementations. Performance will be severely degraded. To remove this warning, set Theano flags cxx to an empty string.\n",
      "WARNING (theano.tensor.blas): Using NumPy C-API based implementation for BLAS functions.\n"
     ]
    }
   ],
   "source": [
    "import pandas as pd\n",
    "import numpy as np\n",
    "import pymc3 as pm\n",
    "import matplotlib.pyplot as plt\n",
    "import seaborn as sns\n",
    "import arviz as az\n",
    "from matplotlib import gridspec\n",
    "\n",
    "%matplotlib inline\n",
    "\n",
    "plt.style.use('seaborn-white')\n",
    "color = '#87ceeb'\n",
    "az.style.use('arviz-darkgrid')"
   ]
  },
  {
   "cell_type": "code",
   "execution_count": 2,
   "metadata": {},
   "outputs": [
    {
     "data": {
      "text/html": [
       "<div>\n",
       "<style scoped>\n",
       "    .dataframe tbody tr th:only-of-type {\n",
       "        vertical-align: middle;\n",
       "    }\n",
       "\n",
       "    .dataframe tbody tr th {\n",
       "        vertical-align: top;\n",
       "    }\n",
       "\n",
       "    .dataframe thead th {\n",
       "        text-align: right;\n",
       "    }\n",
       "</style>\n",
       "<table border=\"1\" class=\"dataframe\">\n",
       "  <thead>\n",
       "    <tr style=\"text-align: right;\">\n",
       "      <th></th>\n",
       "      <th>y</th>\n",
       "      <th>s</th>\n",
       "    </tr>\n",
       "  </thead>\n",
       "  <tbody>\n",
       "    <tr>\n",
       "      <th>0</th>\n",
       "      <td>1</td>\n",
       "      <td>S01</td>\n",
       "    </tr>\n",
       "    <tr>\n",
       "      <th>1</th>\n",
       "      <td>0</td>\n",
       "      <td>S01</td>\n",
       "    </tr>\n",
       "    <tr>\n",
       "      <th>2</th>\n",
       "      <td>0</td>\n",
       "      <td>S01</td>\n",
       "    </tr>\n",
       "    <tr>\n",
       "      <th>3</th>\n",
       "      <td>0</td>\n",
       "      <td>S01</td>\n",
       "    </tr>\n",
       "    <tr>\n",
       "      <th>4</th>\n",
       "      <td>0</td>\n",
       "      <td>S01</td>\n",
       "    </tr>\n",
       "  </tbody>\n",
       "</table>\n",
       "</div>"
      ],
      "text/plain": [
       "   y    s\n",
       "0  1  S01\n",
       "1  0  S01\n",
       "2  0  S01\n",
       "3  0  S01\n",
       "4  0  S01"
      ]
     },
     "execution_count": 2,
     "metadata": {},
     "output_type": "execute_result"
    }
   ],
   "source": [
    "data = pd.read_csv(\"TherapeuticTouchData.csv\", dtype={'s':'category'})\n",
    "data.head()"
   ]
  },
  {
   "cell_type": "code",
   "execution_count": 3,
   "metadata": {},
   "outputs": [
    {
     "data": {
      "image/png": "[encoded data removed]",
      "text/plain": [
       "<Figure size 720x480 with 1 Axes>"
      ]
     },
     "metadata": {},
     "output_type": "display_data"
    }
   ],
   "source": [
    "# 28 subjects with 10 tests per subject\n",
    "# by chance we would expect the average to be 0.5 and for individual observations to be spread across (0,1)\n",
    "# Plot the outcomes of the experiments\n",
    "\n",
    "\n",
    "data_proportions = data.groupby('s')['y'].apply(lambda x: x.sum()/len(x))\n",
    "\n",
    "ax = sns.distplot(data_proportions, bins=8, kde=False, color='gray')\n",
    "ax.set(xlabel='Proportion Correct', ylabel='# Practitioners')\n",
    "sns.despine(ax=ax);"
   ]
  },
  {
   "cell_type": "markdown",
   "metadata": {},
   "source": [
    "## Model\n",
    "\n",
    "The outcome is binomial and we would expect if there are no effects from the \"therapeutic touch\", then the observed outcomes are random with a mean of 0.5*N (N=280).\n",
    "\n",
    "As a Bayesian model we can use a Beta prior, but since we have 28 separate therapists, all trained by the same school, we can better model this question (hypothesis of no effect) using a hierarchical prior that accounts for  individual differences among therapists while measuring the global outcome among all therapists. Basically, we want to remove the effects of random extreme performance and find whether this therapy, as taught by the one school, shows a signifant effect while still treating the therapists as individual blocks of experiments.\n",
    "\n"
   ]
  },
  {
   "cell_type": "markdown",
   "metadata": {},
   "source": [
    "## Reparameterizing the Beta Prior\n",
    "\n",
    "The Beta is a conjugate prior for the binomial likelihood. The parameters of the Beta are $\\alpha, \\beta$. We can rewrite these as the mean, $\\mu = \\frac{\\alpha}{\\alpha + \\beta}$ and the number of observations, $\\kappa = \\alpha + \\beta$. So, $\\alpha = \\mu\\kappa$ and $\\beta = (1-\\mu)\\kappa$. Notice that this reparameterization behaves in a natural way, e.g., the standard deviation of the Beta is\n",
    "\n",
    "$\\sqrt{\\frac{\\mu(1-\\mu)}{\\kappa +1}}$"
   ]
  },
  {
   "cell_type": "markdown",
   "metadata": {},
   "source": [
    "## Priors on Hyperparameters\n",
    "\n",
    "Consider the prior for $\\mu$ to be uniform (Beta(1,1)), which means that there is no prior emphasis on 0.5 or any other value. All all considered equally likely. The prior on the $\\kappa$ is shifted to allow a flat distribution. This means that the range of performance among each practitioner is considered equally likely (i.e., broad range of performance).\n",
    "\n",
    "Notice that the prior and posterior distributions are each joint distributions in 30 dimensional space for parameters, $\\theta_1, \\theta_2, \\ldots, \\theta_{28}$ and $\\mu$ and $\\kappa$."
   ]
  },
  {
   "cell_type": "code",
   "execution_count": 4,
   "metadata": {},
   "outputs": [
    {
     "name": "stdout",
     "output_type": "stream",
     "text": [
      "Collecting package metadata (current_repodata.json): ...working... done\n",
      "Solving environment: ...working... done\n",
      "\n",
      "# All requested packages already installed.\n",
      "\n",
      "\n",
      "Note: you may need to restart the kernel to use updated packages.\n"
     ]
    }
   ],
   "source": [
    "conda install -c conda-forge python-graphviz"
   ]
  },
  {
   "cell_type": "code",
   "execution_count": 5,
   "metadata": {},
   "outputs": [
    {
     "data": {
      "image/svg+xml": [
       "<?xml version=\"1.0\" encoding=\"UTF-8\" standalone=\"no\"?>\r\n",
       "<!DOCTYPE svg PUBLIC \"-//W3C//DTD SVG 1.1//EN\"\r\n",
       " \"http://www.w3.org/Graphics/SVG/1.1/DTD/svg11.dtd\">\r\n",
       "<!-- Generated by graphviz version 2.38.0 (20140413.2041)\r\n",
       " -->\r\n",
       "<!-- Title: %3 Pages: 1 -->\r\n",
       "<svg width=\"197pt\" height=\"466pt\"\r\n",
       " viewBox=\"0.00 0.00 197.29 465.81\" xmlns=\"http://www.w3.org/2000/svg\" xmlns:xlink=\"http://www.w3.org/1999/xlink\">\r\n",
       "<g id=\"graph0\" class=\"graph\" transform=\"scale(1 1) rotate(0) translate(4 461.813)\">\r\n",
       "<title>%3</title>\r\n",
       "<polygon fill=\"white\" stroke=\"none\" points=\"-4,4 -4,-461.813 193.288,-461.813 193.288,4 -4,4\"/>\r\n",
       "<g id=\"clust1\" class=\"cluster\"><title>cluster28</title>\r\n",
       "<path fill=\"none\" stroke=\"black\" d=\"M48.9914,-129.953C48.9914,-129.953 98.9914,-129.953 98.9914,-129.953 104.991,-129.953 110.991,-135.953 110.991,-141.953 110.991,-141.953 110.991,-231.907 110.991,-231.907 110.991,-237.907 104.991,-243.907 98.9914,-243.907 98.9914,-243.907 48.9914,-243.907 48.9914,-243.907 42.9914,-243.907 36.9914,-237.907 36.9914,-231.907 36.9914,-231.907 36.9914,-141.953 36.9914,-141.953 36.9914,-135.953 42.9914,-129.953 48.9914,-129.953\"/>\r\n",
       "<text text-anchor=\"middle\" x=\"95.9914\" y=\"-137.753\" font-family=\"Times New Roman,serif\" font-size=\"14.00\">28</text>\r\n",
       "</g>\r\n",
       "<g id=\"clust2\" class=\"cluster\"><title>cluster280</title>\r\n",
       "<path fill=\"none\" stroke=\"black\" d=\"M30.9914,-8C30.9914,-8 116.991,-8 116.991,-8 122.991,-8 128.991,-14 128.991,-20 128.991,-20 128.991,-109.953 128.991,-109.953 128.991,-115.953 122.991,-121.953 116.991,-121.953 116.991,-121.953 30.9914,-121.953 30.9914,-121.953 24.9914,-121.953 18.9914,-115.953 18.9914,-109.953 18.9914,-109.953 18.9914,-20 18.9914,-20 18.9914,-14 24.9914,-8 30.9914,-8\"/>\r\n",
       "<text text-anchor=\"middle\" x=\"110.491\" y=\"-15.8\" font-family=\"Times New Roman,serif\" font-size=\"14.00\">280</text>\r\n",
       "</g>\r\n",
       "<!-- μ -->\r\n",
       "<g id=\"node1\" class=\"node\"><title>μ</title>\r\n",
       "<ellipse fill=\"none\" stroke=\"black\" cx=\"28.9914\" cy=\"-309.383\" rx=\"28.9828\" ry=\"37.4533\"/>\r\n",
       "<text text-anchor=\"middle\" x=\"28.9914\" y=\"-320.683\" font-family=\"Times New Roman,serif\" font-size=\"14.00\">μ</text>\r\n",
       "<text text-anchor=\"middle\" x=\"28.9914\" y=\"-305.683\" font-family=\"Times New Roman,serif\" font-size=\"14.00\">~</text>\r\n",
       "<text text-anchor=\"middle\" x=\"28.9914\" y=\"-290.683\" font-family=\"Times New Roman,serif\" font-size=\"14.00\">Beta</text>\r\n",
       "</g>\r\n",
       "<!-- θ -->\r\n",
       "<g id=\"node4\" class=\"node\"><title>θ</title>\r\n",
       "<ellipse fill=\"none\" stroke=\"black\" cx=\"73.9914\" cy=\"-198.43\" rx=\"28.9828\" ry=\"37.4533\"/>\r\n",
       "<text text-anchor=\"middle\" x=\"73.9914\" y=\"-209.73\" font-family=\"Times New Roman,serif\" font-size=\"14.00\">θ</text>\r\n",
       "<text text-anchor=\"middle\" x=\"73.9914\" y=\"-194.73\" font-family=\"Times New Roman,serif\" font-size=\"14.00\">~</text>\r\n",
       "<text text-anchor=\"middle\" x=\"73.9914\" y=\"-179.73\" font-family=\"Times New Roman,serif\" font-size=\"14.00\">Beta</text>\r\n",
       "</g>\r\n",
       "<!-- μ&#45;&gt;θ -->\r\n",
       "<g id=\"edge2\" class=\"edge\"><title>μ&#45;&gt;θ</title>\r\n",
       "<path fill=\"none\" stroke=\"black\" d=\"M42.371,-275.989C46.8644,-265.109 51.9419,-252.816 56.6923,-241.314\"/>\r\n",
       "<polygon fill=\"black\" stroke=\"black\" points=\"60.003,-242.467 60.5856,-231.888 53.5332,-239.794 60.003,-242.467\"/>\r\n",
       "</g>\r\n",
       "<!-- κ -->\r\n",
       "<g id=\"node2\" class=\"node\"><title>κ</title>\r\n",
       "<polygon fill=\"none\" stroke=\"black\" points=\"164.491,-335.883 75.4914,-335.883 75.4914,-282.883 164.491,-282.883 164.491,-335.883\"/>\r\n",
       "<text text-anchor=\"middle\" x=\"119.991\" y=\"-320.683\" font-family=\"Times New Roman,serif\" font-size=\"14.00\">κ</text>\r\n",
       "<text text-anchor=\"middle\" x=\"119.991\" y=\"-305.683\" font-family=\"Times New Roman,serif\" font-size=\"14.00\">~</text>\r\n",
       "<text text-anchor=\"middle\" x=\"119.991\" y=\"-290.683\" font-family=\"Times New Roman,serif\" font-size=\"14.00\">Deterministic</text>\r\n",
       "</g>\r\n",
       "<!-- κ&#45;&gt;θ -->\r\n",
       "<g id=\"edge3\" class=\"edge\"><title>κ&#45;&gt;θ</title>\r\n",
       "<path fill=\"none\" stroke=\"black\" d=\"M109.206,-282.839C103.985,-270.471 97.5804,-255.302 91.6715,-241.306\"/>\r\n",
       "<polygon fill=\"black\" stroke=\"black\" points=\"94.7945,-239.705 87.6805,-231.853 88.3457,-242.427 94.7945,-239.705\"/>\r\n",
       "</g>\r\n",
       "<!-- kappa_minus2 -->\r\n",
       "<g id=\"node3\" class=\"node\"><title>kappa_minus2</title>\r\n",
       "<ellipse fill=\"none\" stroke=\"black\" cx=\"119.991\" cy=\"-420.337\" rx=\"69.0935\" ry=\"37.4533\"/>\r\n",
       "<text text-anchor=\"middle\" x=\"119.991\" y=\"-431.637\" font-family=\"Times New Roman,serif\" font-size=\"14.00\">kappa_minus2</text>\r\n",
       "<text text-anchor=\"middle\" x=\"119.991\" y=\"-416.637\" font-family=\"Times New Roman,serif\" font-size=\"14.00\">~</text>\r\n",
       "<text text-anchor=\"middle\" x=\"119.991\" y=\"-401.637\" font-family=\"Times New Roman,serif\" font-size=\"14.00\">Gamma</text>\r\n",
       "</g>\r\n",
       "<!-- kappa_minus2&#45;&gt;κ -->\r\n",
       "<g id=\"edge1\" class=\"edge\"><title>kappa_minus2&#45;&gt;κ</title>\r\n",
       "<path fill=\"none\" stroke=\"black\" d=\"M119.991,-382.754C119.991,-371.015 119.991,-358.03 119.991,-346.338\"/>\r\n",
       "<polygon fill=\"black\" stroke=\"black\" points=\"123.491,-346.036 119.991,-336.036 116.491,-346.036 123.491,-346.036\"/>\r\n",
       "</g>\r\n",
       "<!-- y -->\r\n",
       "<g id=\"node5\" class=\"node\"><title>y</title>\r\n",
       "<ellipse fill=\"lightgrey\" stroke=\"black\" cx=\"73.9914\" cy=\"-76.4767\" rx=\"46.8387\" ry=\"37.4533\"/>\r\n",
       "<text text-anchor=\"middle\" x=\"73.9914\" y=\"-87.7767\" font-family=\"Times New Roman,serif\" font-size=\"14.00\">y</text>\r\n",
       "<text text-anchor=\"middle\" x=\"73.9914\" y=\"-72.7767\" font-family=\"Times New Roman,serif\" font-size=\"14.00\">~</text>\r\n",
       "<text text-anchor=\"middle\" x=\"73.9914\" y=\"-57.7767\" font-family=\"Times New Roman,serif\" font-size=\"14.00\">Bernoulli</text>\r\n",
       "</g>\r\n",
       "<!-- θ&#45;&gt;y -->\r\n",
       "<g id=\"edge4\" class=\"edge\"><title>θ&#45;&gt;y</title>\r\n",
       "<path fill=\"none\" stroke=\"black\" d=\"M73.9914,-160.788C73.9914,-149.384 73.9914,-136.647 73.9914,-124.63\"/>\r\n",
       "<polygon fill=\"black\" stroke=\"black\" points=\"77.4915,-124.307 73.9914,-114.307 70.4915,-124.307 77.4915,-124.307\"/>\r\n",
       "</g>\r\n",
       "</g>\r\n",
       "</svg>\r\n"
      ],
      "text/plain": [
       "<graphviz.dot.Digraph at 0x221cdee7c08>"
      ]
     },
     "execution_count": 5,
     "metadata": {},
     "output_type": "execute_result"
    }
   ],
   "source": [
    "practitioner_idx = data.s.cat.codes.values\n",
    "practitioner_codes = data.s.cat.categories\n",
    "n_practitioners = practitioner_codes.size\n",
    "\n",
    "with pm.Model() as hierarchical_model:\n",
    "    μ = pm.Beta('μ', 1., 1.)\n",
    "    kappa_minus2 = pm.Gamma('kappa_minus2', 0.01, 0.01) # very steep for values near 0, but flat > 2\n",
    "    κ = pm.Deterministic('κ', kappa_minus2 + 2)\n",
    "    \n",
    "    θ = pm.Beta('θ', alpha=μ*(κ-2)+1, beta=(1-μ)*(κ-2)+1, shape=n_practitioners)\n",
    "        \n",
    "    y = pm.Bernoulli('y', θ[practitioner_idx], observed=data.y)    \n",
    "\n",
    "pm.model_to_graphviz(hierarchical_model)"
   ]
  },
  {
   "cell_type": "code",
   "execution_count": null,
   "metadata": {},
   "outputs": [
    {
     "name": "stderr",
     "output_type": "stream",
     "text": [
      "Multiprocess sampling (4 chains in 4 jobs)\n",
      "NUTS: [θ, kappa_minus2, μ]\n"
     ]
    },
    {
     "data": {
      "text/html": [
       "\n",
       "    <div>\n",
       "        <style>\n",
       "            /* Turns off some styling */\n",
       "            progress {\n",
       "                /* gets rid of default border in Firefox and Opera. */\n",
       "                border: none;\n",
       "                /* Needs to be in here for Safari polyfill so background images work as expected. */\n",
       "                background-size: auto;\n",
       "            }\n",
       "            .progress-bar-interrupted, .progress-bar-interrupted::-webkit-progress-bar {\n",
       "                background: #F44336;\n",
       "            }\n",
       "        </style>\n",
       "      <progress value='23' class='' max='24000' style='width:300px; height:20px; vertical-align: middle;'></progress>\n",
       "      0.10% [23/24000 00:07<2:11:23 Sampling 4 chains, 0 divergences]\n",
       "    </div>\n",
       "    "
      ],
      "text/plain": [
       "<IPython.core.display.HTML object>"
      ]
     },
     "metadata": {},
     "output_type": "display_data"
    }
   ],
   "source": [
    "with hierarchical_model:\n",
    "    trace = pm.sample(5000, step = pm.NUTS(target_accept = 0.95), cores=4)"
   ]
  },
  {
   "cell_type": "code",
   "execution_count": null,
   "metadata": {},
   "outputs": [],
   "source": [
    "with hierarchical_model:\n",
    "    pm.traceplot(trace, ['μ','κ', 'θ']);"
   ]
  },
  {
   "cell_type": "code",
   "execution_count": null,
   "metadata": {},
   "outputs": [],
   "source": [
    "with hierarchical_model:\n",
    "        print(pm.summary(trace))"
   ]
  },
  {
   "cell_type": "code",
   "execution_count": null,
   "metadata": {},
   "outputs": [],
   "source": [
    "plt.figure(figsize=(10,12))\n",
    "# Define gridspec\n",
    "gs = gridspec.GridSpec(4, 6)\n",
    "ax1 = plt.subplot(gs[0,:3])\n",
    "ax2 = plt.subplot(gs[0,3:])\n",
    "ax3 = plt.subplot(gs[1,:2])\n",
    "ax4 = plt.subplot(gs[1,2:4])\n",
    "ax5 = plt.subplot(gs[1,4:6])\n",
    "ax6 = plt.subplot(gs[2,:2])                     \n",
    "ax7 = plt.subplot(gs[2,2:4])\n",
    "ax8 = plt.subplot(gs[2,4:6])\n",
    "ax9 = plt.subplot(gs[3,:2])\n",
    "ax10 = plt.subplot(gs[3,2:4])\n",
    "ax11 = plt.subplot(gs[3,4:6])\n",
    "\n",
    "# thetas and theta pairs to plot\n",
    "thetas = (0, 13, 27)\n",
    "theta_pairs = ((0,13),(0,27),(13,27))\n",
    "\n",
    "font_d = {'size':14}\n",
    "\n",
    "# kappa & mu posterior plots\n",
    "for var, ax in zip(['κ', 'μ'], [ax1, ax2]):\n",
    "    pm.plot_posterior(trace[var], point_estimate='mode', ax=ax, color=color, round_to=2)\n",
    "    ax.set_xlabel('{}'.format(var), fontdict={'size':20, 'weight':'bold'})\n",
    "ax1.set(xlim=(0,500))\n",
    "\n",
    "# theta posterior plots\n",
    "for var, ax in zip(thetas,[ax3, ax7, ax11]):\n",
    "    pm.plot_posterior(trace['θ'][:,var], point_estimate='mode', ax=ax, color=color)\n",
    "    ax.set_xlabel('θ[{}]'.format(var), fontdict=font_d)\n",
    "\n",
    "# theta scatter plots\n",
    "for var, ax in zip(theta_pairs,[ax6, ax9, ax10]):\n",
    "    ax.scatter(trace['θ'][::10,var[0]], trace['θ'][::10,var[1]], alpha=0.75, color=color, facecolor='none')\n",
    "    ax.plot([0, 1], [0, 1], ':k', transform=ax.transAxes, alpha=0.5)\n",
    "    ax.set_xlabel('θ[{}]'.format(var[0]), fontdict=font_d)\n",
    "    ax.set_ylabel('θ[{}]'.format(var[1]), fontdict=font_d)\n",
    "    ax.set(xlim=(0,1), ylim=(0,1), aspect='equal')\n",
    "\n",
    "# theta posterior differences plots\n",
    "for var, ax in zip(theta_pairs,[ax4, ax5, ax8]):\n",
    "    pm.plot_posterior(trace['θ'][:,var[0]]-trace['θ'][:,var[1]], point_estimate='mode', ax=ax, color=color)\n",
    "    ax.set_xlabel('θ[{}] - θ[{}]'.format(*var), fontdict=font_d)\n",
    "\n",
    "plt.tight_layout()"
   ]
  },
  {
   "cell_type": "markdown",
   "metadata": {},
   "source": [
    "## Shrinkage\n",
    "\n",
    "We can compare the results from the hierarchical prior model with a simple unpooled or no-pooling model that treats each of the practitioners in separate models. We could find these answers just using conjugate analysis, but let's look at the use of sampling and compare the results."
   ]
  },
  {
   "cell_type": "code",
   "execution_count": null,
   "metadata": {},
   "outputs": [],
   "source": [
    "with pm.Model() as unpooled_model:\n",
    "    \n",
    "    θ = pm.Beta('θ', 1, 1, shape=n_practitioners)\n",
    "        \n",
    "    y = pm.Bernoulli('y', θ[practitioner_idx], observed=data.y)\n",
    "    \n",
    "pm.model_to_graphviz(unpooled_model)"
   ]
  },
  {
   "cell_type": "code",
   "execution_count": null,
   "metadata": {},
   "outputs": [],
   "source": [
    "with unpooled_model:\n",
    "    unpooled_trace = pm.sample(5000, cores=4)"
   ]
  },
  {
   "cell_type": "code",
   "execution_count": null,
   "metadata": {},
   "outputs": [],
   "source": [
    "with unpooled_model:\n",
    "    pm.traceplot(unpooled_trace, [ 'θ']);"
   ]
  },
  {
   "cell_type": "markdown",
   "metadata": {},
   "source": [
    "Here we concatenate the trace results (thetas) from both models into a dataframe. Next we shape the data into a format that we can use with Seaborn's pointplot."
   ]
  },
  {
   "cell_type": "code",
   "execution_count": null,
   "metadata": {},
   "outputs": [],
   "source": [
    "df_shrinkage = (pd.concat([pm.summary(unpooled_trace).iloc[:,0],\n",
    "                           pm.summary(trace).iloc[3:,0]],\n",
    "                          axis=1)\n",
    "                .reset_index())\n",
    "df_shrinkage.columns = ['θ', 'unpooled', 'hierarchical']\n",
    "df_shrinkage = pd.melt(df_shrinkage, 'θ', ['unpooled', 'hierarchical'], var_name='Model')\n",
    "df_shrinkage.head()"
   ]
  },
  {
   "cell_type": "code",
   "execution_count": null,
   "metadata": {},
   "outputs": [],
   "source": [
    "df_shrinkage.iloc[24:28,:]"
   ]
  },
  {
   "cell_type": "markdown",
   "metadata": {},
   "source": [
    "The  plot below shows that the theta estimates on practitioner level are pulled towards the group mean of the hierarchical model."
   ]
  },
  {
   "cell_type": "code",
   "execution_count": null,
   "metadata": {},
   "outputs": [],
   "source": [
    "plt.figure(figsize=(10,9))\n",
    "plt.scatter(1, pm.summary(trace).iloc[0,0], s=100, c='r', marker='x', zorder=999, label='Group mean')\n",
    "sns.pointplot(x='Model', y='value', hue='θ', data=df_shrinkage);"
   ]
  }
 ],
 "metadata": {
  "kernelspec": {
   "display_name": "Python 3",
   "language": "python",
   "name": "python3"
  },
  "language_info": {
   "codemirror_mode": {
    "name": "ipython",
    "version": 3
   },
   "file_extension": ".py",
   "mimetype": "text/x-python",
   "name": "python",
   "nbconvert_exporter": "python",
   "pygments_lexer": "ipython3",
   "version": "3.7.6"
  }
 },
 "nbformat": 4,
 "nbformat_minor": 1
}
