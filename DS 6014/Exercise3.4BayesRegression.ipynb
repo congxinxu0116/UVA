{
 "cells": [
  {
   "cell_type": "markdown",
   "metadata": {},
   "source": [
    "# Exercise 3.4 Bayes Regression\n",
    "- Name: Congxin (David) Xu\n",
    "- Computing ID: cx2rx"
   ]
  },
  {
   "cell_type": "code",
   "execution_count": 2,
   "metadata": {},
   "outputs": [
    {
     "data": {
      "image/png": "[encoded data removed]",
      "text/plain": [
       "<Figure size 432x288 with 1 Axes>"
      ]
     },
     "metadata": {
      "needs_background": "light"
     },
     "output_type": "display_data"
    }
   ],
   "source": [
    "'''\n",
    "    This is Python code to create the plots shown in Figure 12.1 of Theodoridis'\n",
    "    textbook \"Machine Learning: A Bayesian and Optimization Perspective\"\n",
    "    This code is useful for answering Exercise 3.4 of the UVA Bayesian Machine \n",
    "    Learning course.\n",
    "    \n",
    "    Written by Bill Basener, University of Virginia\n",
    "    3/16/2020\n",
    "'''\n",
    "\n",
    "import matplotlib.pyplot as plt\n",
    "import numpy as np\n",
    "\n",
    "\n",
    "# true signal curve\n",
    "x = np.arange(0, 2, 10**-4)\n",
    "y = .2 * np.ones(len(x)) - x + .9 * x**2 + .7 * x**3 - .2 * x**5\n",
    "\n",
    "# plot the true curve\n",
    "#plt.plot(x,y)\n",
    "\n",
    "# training samples\n",
    "N = 500\n",
    "\n",
    "# linear coefficients\n",
    "K = 5\n",
    "\n",
    "# sample interval [a b]\n",
    "a = 0\n",
    "b = 2\n",
    "\n",
    "# generate samples\n",
    "x1 = np.arange(a, b, (b-a)/N)\n",
    "\n",
    "# noise generation\n",
    "sigma_eta = .05\n",
    "n = np.sqrt(sigma_eta) * np.random.normal(0,1,N)\n",
    "\n",
    "# use true parameter theta\n",
    "theta_true = np.asarray([.2, -1, .9, .7, -.2])\n",
    "\n",
    "# compute the measurement matrix\n",
    "Phi = np.transpose(np.vstack([np.ones(N), x1, x1**2, x1**3, x1**5]))\n",
    "Phi_gram = np.matmul(np.transpose(Phi),Phi)\n",
    "\n",
    "# generate noisy observations using the linear model\n",
    "y1 = np.matmul(Phi, theta_true) + n\n",
    "\n",
    "# EM algorithm\n",
    "# initializate parameters\n",
    "# experiment on different initializations\n",
    "EMiter = 20\n",
    "betaj = 1\n",
    "sigma_eta_EM = np.ones(EMiter)\n",
    "alphaj = 1\n",
    "Phiy = np.matmul(np.transpose(Phi), y1)\n",
    "for i in range(EMiter):\n",
    "    Sigma_theta = np.linalg.inv(betaj * Phi_gram + alphaj * np.identity(K))\n",
    "    mu_theta = betaj * np.matmul(Sigma_theta, Phiy)\n",
    "    alphaj = K / (np.linalg.norm(mu_theta)**2 + np.trace(Sigma_theta))\n",
    "    betaj = N / (np.linalg.norm(y1 - np.matmul(Phi, mu_theta))**2 + np.trace(np.matmul(Sigma_theta, Phi_gram)))\n",
    "    sigma_eta_EM[i] = 1 / betaj\n",
    "\n",
    "# perform prediction on new samples\n",
    "Np = 10\n",
    "\n",
    "# generate prediction samples\n",
    "x2 = (b-a) * np.random.uniform(0,1,Np)\n",
    "\n",
    "# compute prediction measurement matrix\n",
    "Phip = np.transpose(np.vstack([np.ones(Np), x2, x2**2, x2**3, x2**5]))\n",
    "\n",
    "# compute the predicted mean and variance\n",
    "y_pred = np.matmul(Phip, mu_theta)\n",
    "y_pred_var = np.diag(sigma_eta_EM[-1] + np.linalg.multi_dot([sigma_eta_EM[-1] * 1/alphaj * Phip, np.linalg.inv(sigma_eta_EM[-1] * np.identity(K) + 1/alphaj * Phi_gram ), np.transpose(Phip)]))\n",
    "\n",
    "# plot the predictions along the condifence intervals\n",
    "#figure\n",
    "#plot(x,y,'k',x2,y_pred,'kx')\n",
    "#hold on;\n",
    "#errorbar(x2,y_pred,y_pred_var,'r.')\n",
    "#hold off\n",
    "#xlabel('x'); ylabel('y')\n",
    "\n",
    "plt.plot(x, y, color='k', linewidth=0.5)\n",
    "plt.plot(x2, y_pred, 'x', color='k', markersize=6)\n",
    "plt.errorbar(x2, y_pred, yerr=y_pred_var, fmt='none', color='r', linewidth=0.5, capsize=3)\n",
    "plt.xlabel('x')\n",
    "plt.ylabel('y')\n",
    "plt.axis([a,b,np.min(y),np.max(y)])\n",
    "plt.show()"
   ]
  },
  {
   "cell_type": "code",
   "execution_count": 4,
   "metadata": {},
   "outputs": [
    {
     "data": {
      "text/plain": [
       "array([[ 0.00152212, -0.00659061,  0.00848662, -0.00366928,  0.00022264],\n",
       "       [-0.00659061,  0.044166  , -0.07143404,  0.0359619 , -0.00267138],\n",
       "       [ 0.00848662, -0.07143404,  0.13186316, -0.07245565,  0.00600678],\n",
       "       [-0.00366928,  0.0359619 , -0.07245565,  0.04217779, -0.00375758],\n",
       "       [ 0.00022264, -0.00267138,  0.00600678, -0.00375758,  0.00036659]])"
      ]
     },
     "execution_count": 4,
     "metadata": {},
     "output_type": "execute_result"
    }
   ],
   "source": [
    "Sigma_theta"
   ]
  },
  {
   "cell_type": "code",
   "execution_count": null,
   "metadata": {},
   "outputs": [],
   "source": []
  }
 ],
 "metadata": {
  "kernelspec": {
   "display_name": "Python 3",
   "language": "python",
   "name": "python3"
  },
  "language_info": {
   "codemirror_mode": {
    "name": "ipython",
    "version": 3
   },
   "file_extension": ".py",
   "mimetype": "text/x-python",
   "name": "python",
   "nbconvert_exporter": "python",
   "pygments_lexer": "ipython3",
   "version": "3.7.6"
  }
 },
 "nbformat": 4,
 "nbformat_minor": 4
}
