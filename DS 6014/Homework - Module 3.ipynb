{
 "cells": [
  {
   "cell_type": "markdown",
   "metadata": {},
   "source": [
    "# Module 3 Homework\n",
    "- Name: Congxin (David) Xu\n",
    "- Computing ID: cx2rx\n",
    "\n",
    "### 3.6.2 Homework: Computing order statistics (Randomized Selection Algorithm)\n",
    "Computing the $j$th order statistic, i.e., the $j$th smallest element of $A[1..n]$ can be done effectively. Describe and implement (in Python) this algorithm and discuss its complexity. "
   ]
  },
  {
   "cell_type": "code",
   "execution_count": 27,
   "metadata": {},
   "outputs": [],
   "source": [
    "import random\n",
    "\n",
    "def partition(A, p, r):\n",
    "    x = A[r]\n",
    "    i = p - 1\n",
    "    \n",
    "    for j in range(p, r):\n",
    "        if A[j] <= x:\n",
    "            i += 1\n",
    "            A[i], A[j] = A[j], A[i]\n",
    "#             print(A)\n",
    "    \n",
    "    A[i+1], A[r] = A[r], A[i+1]\n",
    "#     print(A)\n",
    "    return i + 1\n",
    "    \n",
    "# A = [2,8,7,1,3,5,6,4]\n",
    "# partition(A, 0, 7)"
   ]
  },
  {
   "cell_type": "code",
   "execution_count": 28,
   "metadata": {},
   "outputs": [],
   "source": [
    "def randommizedPartition(A, p, r):\n",
    "    i = random.randint(p, r)\n",
    "    A[r], A[i] = A[i], A[r]\n",
    "#     print(A)\n",
    "    return partition(A, p ,r)\n",
    "# A = [2,8,7,1,3,5,6,4]\n",
    "# randommizedPartition(A, 0, 6)"
   ]
  },
  {
   "cell_type": "code",
   "execution_count": 54,
   "metadata": {},
   "outputs": [],
   "source": [
    "def ithSmallest(A, i, p = 0, r = len(A) - 1):\n",
    "    if p == r:\n",
    "        return A[p]\n",
    "    q = randommizedPartition(A, p, r)\n",
    "    k = q - p + 1 \n",
    "    if i == k:\n",
    "        return A[q]\n",
    "    elif i < k:\n",
    "        return ithSmallest(A = A, i = i, p = p, r = q - 1)\n",
    "    else:\n",
    "        return ithSmallest(A = A, i = i - k, p = q + 1, r = r)\n",
    "\n",
    "# A = [1,6,6,6,2,2,0,3,4,5,6,6,6]\n",
    "\n",
    "# for i in range(1, len(A)):\n",
    "#     print(ithSmallest(A, i = i))"
   ]
  },
  {
   "cell_type": "markdown",
   "metadata": {},
   "source": [
    "### 3.6.3 Homework: 2-SUM problem\n",
    "The 2-SUM problem is introduced here. Implement this algorithm in Python using hash tables."
   ]
  },
  {
   "cell_type": "code",
   "execution_count": null,
   "metadata": {},
   "outputs": [],
   "source": []
  }
 ],
 "metadata": {
  "kernelspec": {
   "display_name": "Python 3",
   "language": "python",
   "name": "python3"
  },
  "language_info": {
   "codemirror_mode": {
    "name": "ipython",
    "version": 3
   },
   "file_extension": ".py",
   "mimetype": "text/x-python",
   "name": "python",
   "nbconvert_exporter": "python",
   "pygments_lexer": "ipython3",
   "version": "3.7.6"
  }
 },
 "nbformat": 4,
 "nbformat_minor": 4
}
