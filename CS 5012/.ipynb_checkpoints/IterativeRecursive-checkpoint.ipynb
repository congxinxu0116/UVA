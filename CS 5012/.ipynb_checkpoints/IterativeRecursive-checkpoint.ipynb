{
 "cells": [
  {
   "cell_type": "markdown",
   "metadata": {},
   "source": [
    "# 2.4.2 Algorithm development\n",
    "\n",
    "*name: Congxin (David) Xu* \n",
    "\n",
    "*computing id: cx2rx*"
   ]
  },
  {
   "cell_type": "markdown",
   "metadata": {},
   "source": [
    "# Preamble\n",
    "We want to write an algorithm that given a non-decreasing array $A[1..n]$, and a number $x$, returns a number $q$ that partitions $A$ along $x$. That is:\n",
    "\n",
    "- if $i\\in 1..n$ satisfies $i\\le q$ then $A[i]\\le x$, and\n",
    "\n",
    "- if $i\\in 1..n$ satisfies $i>q$ then $A[i]>x$.\n",
    "\n",
    "For example, if $A[1..6]$ is given by [$2$ , $4$ , $5$ , $5$ , $8$ , $9$] then\n",
    "\n",
    "- if $x=5$ or $x =6$ or $x=7$ then $q=4$ must be returned (indexing starts from $1$ here)\n",
    "\n",
    "- if $x = 4$ then $q=2$ must be returned\n",
    "\n",
    "- if $x=3$ or $x=2$ then $q=1$ must be returned\n",
    "\n",
    "- if $x=1$ then $q=0$ must be returned\n",
    "\n",
    "use the following test suite for your algorithms in questions 1 and 2"
   ]
  },
  {
   "cell_type": "code",
   "execution_count": 2,
   "metadata": {},
   "outputs": [],
   "source": [
    "class Test:\n",
    "    def __init__(self, x, array, expected_q):\n",
    "        self.x = x\n",
    "        self.array = array\n",
    "        self.expected_q = expected_q\n",
    "\n",
    "tests = [\n",
    "         # partition value  # array              # partition location\n",
    "    # walk a list\n",
    "    Test(1,                 [2, 4, 5, 5, 8, 9],  0), # from homework\n",
    "    Test(2,                 [2, 4, 5, 5, 8, 9],  1), # .\n",
    "    Test(3,                 [2, 4, 5, 5, 8, 9],  1), # .\n",
    "    Test(4,                 [2, 4, 5, 5, 8, 9],  2), # .\n",
    "    Test(5,                 [2, 4, 5, 5, 8, 9],  4), # .\n",
    "    Test(6,                 [2, 4, 5, 5, 8, 9],  4), # .\n",
    "    Test(7,                 [2, 4, 5, 5, 8, 9],  4), # .\n",
    "    Test(8,                 [2, 4, 5, 5, 8, 9],  5), # my test cases\n",
    "    Test(9,                 [2, 4, 5, 5, 8, 9],  6), # .\n",
    "    Test(10,                [2, 4, 5, 5, 8, 9],  6), # .\n",
    "    # walk a list - odd number of elements\n",
    "    Test(1,                 [2, 4, 5, 5, 8],  0), # .\n",
    "    Test(2,                 [2, 4, 5, 5, 8],  1), # .\n",
    "    Test(3,                 [2, 4, 5, 5, 8],  1), # .\n",
    "    Test(4,                 [2, 4, 5, 5, 8],  2), # .\n",
    "    Test(5,                 [2, 4, 5, 5, 8],  4), # .\n",
    "    Test(6,                 [2, 4, 5, 5, 8],  4), # .\n",
    "    Test(7,                 [2, 4, 5, 5, 8],  4), # .\n",
    "    Test(8,                 [2, 4, 5, 5, 8],  5), # .\n",
    "    Test(9,                 [2, 4, 5, 5, 8],  5), # .\n",
    "    \n",
    "    # we exceed all values, so partition at last value\n",
    "    Test(100,               [1, 20],             2), # .\n",
    "    # zero-length array (normally, we'd throw an exception)\n",
    "    Test(2,                 [],                  0), # .\n",
    "    # lots of repeats\n",
    "    Test(3,                 [3, 3, 3, 3, 3, 3, 5, 5, 5, 5, 5], 6)\n",
    "]"
   ]
  },
  {
   "cell_type": "code",
   "execution_count": 3,
   "metadata": {},
   "outputs": [],
   "source": [
    "def run_tests(f):\n",
    "    \"\"\" Execute tests \"\"\"\n",
    "    passingcount = 0\n",
    "    failures = []\n",
    "    for test in tests:    \n",
    "        actual_q = f(test.x, test.array)\n",
    "        if(test.expected_q != actual_q):\n",
    "            failures.append( \\\n",
    "                f\"Test failed for x={test.x} A={test.array}: got {actual_q} but expected {test.expected_q}\" \\\n",
    "            )\n",
    "            print(\"E\", end=\"\")\n",
    "        else:\n",
    "            print(\".\", end=\"\")\n",
    "            passingcount += 1\n",
    "    print()\n",
    "    print(f\"{passingcount} / {len(tests)} test succeeded.\")\n",
    "    if(len(failures) > 0):\n",
    "        print(\"Failures:\")\n",
    "        for error in failures:\n",
    "            print(f\"   {error}\")\n"
   ]
  },
  {
   "cell_type": "markdown",
   "metadata": {},
   "source": [
    "# Preamble\n",
    "We want to write an algorithm that given a non-decreasing array $A[1..n]$, and a number $x$, returns a number $q$ that partitions $A$ along $x$. That is:\n",
    "\n",
    "- if $i\\in 1..n$ satisfies $i\\le q$ then $A[i]\\le x$, and\n",
    "\n",
    "- if $i\\in 1..n$ satisfies $i>q$ then $A[i]>x$.\n",
    "\n",
    "For example, if $A[1..6]$ is given by [$2$ , $4$ , $5$ , $5$ , $8$ , $9$] then\n",
    "\n",
    "- if $x=5$ or $x =6$ or $x=7$ then $q=4$ must be returned (indexing starts from $1$ here)\n",
    "\n",
    "- if $x = 4$ then $q=2$ must be returned\n",
    "\n",
    "- if $x=3$ or $x=2$ then $q=1$ must be returned\n",
    "\n",
    "- if $x=1$ then $q=0$ must be returned\n",
    "\n",
    "use the following test suite for your algorithms in questions 1 and 2\n",
    "\n",
    "# Q1\n",
    "Design an iterative algorithm (pseudocode + Python implementation), based on the binary search principle to implement the specification."
   ]
  },
  {
   "cell_type": "markdown",
   "metadata": {},
   "source": [
    "Pseducode:\n",
    "\n",
    "* Let n = the length of A\n",
    "* Check initial conditions:\n",
    "* for i in each element of A:\n",
    "* * check to see if A[i] >  A[i + 1]\n",
    "* * * return False\n",
    "* for i in range(0, n):\n",
    "* * if x < A[i]:\n",
    "* * * return i\n",
    "* return n"
   ]
  },
  {
   "cell_type": "code",
   "execution_count": 5,
   "metadata": {},
   "outputs": [],
   "source": [
    "# Python implementation\n",
    "def find_partition_iter(x, A):\n",
    "    n = len(A)\n",
    "    for i in range(0, n - 1):\n",
    "        if A[i] > A[i + 1]:\n",
    "            return False\n",
    "    low = 0\n",
    "    high = len(A) - 1\n",
    "    \n",
    "    while (low <= high):\n",
    "    "
   ]
  },
  {
   "cell_type": "code",
   "execution_count": null,
   "metadata": {},
   "outputs": [],
   "source": [
    "# run tests\n",
    "run_tests(find_partition_iter)"
   ]
  },
  {
   "cell_type": "markdown",
   "metadata": {},
   "source": [
    "## Q2\n",
    "Write a recursive algorithm (pseudocode + Python implementation) to implement the specification."
   ]
  },
  {
   "cell_type": "markdown",
   "metadata": {},
   "source": [
    "Pseudo-code"
   ]
  },
  {
   "cell_type": "code",
   "execution_count": null,
   "metadata": {},
   "outputs": [],
   "source": [
    "# Python implementation\n",
    "def find_partition_recursive(x, A):\n",
    "    pass"
   ]
  },
  {
   "cell_type": "code",
   "execution_count": null,
   "metadata": {},
   "outputs": [],
   "source": [
    "run_tests(find_partition_recursive)"
   ]
  },
  {
   "cell_type": "markdown",
   "metadata": {},
   "source": [
    "## Q3\n",
    "Write down a recurrence that describes the running time of your program in Q2, and solve the recurrence using the ``Master Theorem''."
   ]
  },
  {
   "cell_type": "markdown",
   "metadata": {},
   "source": [
    "*proof*"
   ]
  },
  {
   "cell_type": "code",
   "execution_count": null,
   "metadata": {},
   "outputs": [],
   "source": []
  },
  {
   "cell_type": "markdown",
   "metadata": {},
   "source": [
    "# The rest of the notebook is for your own testing:"
   ]
  },
  {
   "cell_type": "code",
   "execution_count": null,
   "metadata": {},
   "outputs": [],
   "source": [
    "# playing with the code\n",
    "import random\n",
    "import time\n",
    "\n",
    "\n",
    "def run_trials(f, n, numTrials):\n",
    "    \"\"\" Run numTrials of f with list of size n.  Return the average time taken. \"\"\"\n",
    "    total_time = 0\n",
    "    for _ in range(numTrials):\n",
    "        (x, array) = gen_trial(n)\n",
    "        start = time.time()\n",
    "        f(x, array)\n",
    "        total_time += time.time() - start\n",
    "    return total_time / numTrials\n",
    "\n",
    "def gen(n):\n",
    "    \"\"\" Generate a list of size n from 1..2n.  Duplicates are allowed.  The result is in nondecreasing order. \"\"\"\n",
    "    l = list(map(lambda x: random.randint(1, 2*n), range(n)))\n",
    "    l.sort()\n",
    "    return l\n",
    "\n",
    "def gen_trial(n):\n",
    "    \"\"\" Return an (x, array) tuple. \"\"\"\n",
    "    array = gen(n)\n",
    "    # pick a value in the array\n",
    "    # we can get an outlier for cases where A[n] is picked.\n",
    "    x = random.choice(array)\n",
    "    if n > 1 and x == array[n-1]:\n",
    "        # try again\n",
    "        return gen_trial(n)\n",
    "    return (x, array)\n",
    "\n",
    "\n",
    "n = 1\n",
    "durations = []\n",
    "for i in range(8, 17):\n",
    "    n = 2 ** i\n",
    "    for i in range(1):\n",
    "        duration = run_trials(find_partition_recursive, n, 100)\n",
    "        durations.append([n, duration])\n",
    "        print(f\"n = {n:-30} - duration: {duration}\")\n",
    "print(\"done\")    \n"
   ]
  },
  {
   "cell_type": "code",
   "execution_count": null,
   "metadata": {},
   "outputs": [],
   "source": [
    "import matplotlib.pyplot as plt\n",
    "import math\n",
    "scale = durations[0][1]\n",
    "x = [d[0] for d in durations]\n",
    "y = [d[1]/scale for d in durations]\n",
    "plt.scatter(x, y)\n",
    "plt.show()"
   ]
  }
 ],
 "metadata": {
  "kernelspec": {
   "display_name": "Python 3",
   "language": "python",
   "name": "python3"
  },
  "language_info": {
   "codemirror_mode": {
    "name": "ipython",
    "version": 3
   },
   "file_extension": ".py",
   "mimetype": "text/x-python",
   "name": "python",
   "nbconvert_exporter": "python",
   "pygments_lexer": "ipython3",
   "version": "3.7.6"
  },
  "varInspector": {
   "cols": {
    "lenName": 16,
    "lenType": 16,
    "lenVar": 40
   },
   "kernels_config": {
    "python": {
     "delete_cmd_postfix": "",
     "delete_cmd_prefix": "del ",
     "library": "var_list.py",
     "varRefreshCmd": "print(var_dic_list())"
    },
    "r": {
     "delete_cmd_postfix": ") ",
     "delete_cmd_prefix": "rm(",
     "library": "var_list.r",
     "varRefreshCmd": "cat(var_dic_list()) "
    }
   },
   "types_to_exclude": [
    "module",
    "function",
    "builtin_function_or_method",
    "instance",
    "_Feature"
   ],
   "window_display": false
  }
 },
 "nbformat": 4,
 "nbformat_minor": 2
}
