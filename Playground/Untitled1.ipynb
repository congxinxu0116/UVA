{
 "cells": [
  {
   "cell_type": "code",
   "execution_count": 27,
   "metadata": {},
   "outputs": [],
   "source": [
    "output = list()\n",
    "for i in range(1, 7):\n",
    "    for j in range(1, 7):\n",
    "        for k in range(1, 7):\n",
    "            for l in range(1, 7):\n",
    "                for m in range(1, 7):\n",
    "                    for n in range(1, 7):\n",
    "                        for o in range(1, 7):\n",
    "                            for p in range(1, 7):\n",
    "                                if (i + j + k + l + m + n + o + p == 9):\n",
    "                                    output += [(i, j, k, l, m, n, o, p)]"
   ]
  },
  {
   "cell_type": "code",
   "execution_count": 28,
   "metadata": {},
   "outputs": [
    {
     "data": {
      "text/plain": [
       "8"
      ]
     },
     "execution_count": 28,
     "metadata": {},
     "output_type": "execute_result"
    }
   ],
   "source": [
    "len(output)"
   ]
  },
  {
   "cell_type": "code",
   "execution_count": 29,
   "metadata": {},
   "outputs": [
    {
     "data": {
      "text/plain": [
       "[(1, 1, 1, 1, 1, 1, 1, 2),\n",
       " (1, 1, 1, 1, 1, 1, 2, 1),\n",
       " (1, 1, 1, 1, 1, 2, 1, 1),\n",
       " (1, 1, 1, 1, 2, 1, 1, 1),\n",
       " (1, 1, 1, 2, 1, 1, 1, 1),\n",
       " (1, 1, 2, 1, 1, 1, 1, 1),\n",
       " (1, 2, 1, 1, 1, 1, 1, 1),\n",
       " (2, 1, 1, 1, 1, 1, 1, 1)]"
      ]
     },
     "execution_count": 29,
     "metadata": {},
     "output_type": "execute_result"
    }
   ],
   "source": [
    "output"
   ]
  },
  {
   "cell_type": "code",
   "execution_count": null,
   "metadata": {},
   "outputs": [],
   "source": []
  }
 ],
 "metadata": {
  "kernelspec": {
   "display_name": "Python 3",
   "language": "python",
   "name": "python3"
  },
  "language_info": {
   "codemirror_mode": {
    "name": "ipython",
    "version": 3
   },
   "file_extension": ".py",
   "mimetype": "text/x-python",
   "name": "python",
   "nbconvert_exporter": "python",
   "pygments_lexer": "ipython3",
   "version": "3.7.6"
  }
 },
 "nbformat": 4,
 "nbformat_minor": 4
}
