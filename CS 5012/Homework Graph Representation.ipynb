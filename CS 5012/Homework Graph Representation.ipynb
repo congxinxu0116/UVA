{
 "cells": [
  {
   "cell_type": "markdown",
   "metadata": {},
   "source": [
    "# Homework 4.4.2 Graph Representations\n",
    "- Name: Congxin (David) Xu\n",
    "- Computing ID: cx2rx\n",
    "\n",
    "### Question 1: Adjacency Matrix\n",
    "(15 pts) Where the entry at row i and column j specifies whether there is an edge from i to j (with the weight or extra data on that edge). Argue about the time complexity (in $\\Theta$ notations) of Get, Add, and AllFrom in this representation.\n",
    "\n",
    "**Answer**:\n",
    "\n",
    "1. The time complexity of `Get` is $\\Theta(1)$ because accessing the extra data on this edge is same as accessing the value of a 2-D array by indexes, $i$ and $j$, which takes $\\Theta(1)$\n",
    "2. The time complexity of `Add` is $\\Theta(1)$ because similar to `Get`, we just use the indexes $i$ and $j$ to find that edge and assign it with extra data $w$.\n",
    "3. The time complexity of `AllFrom` is $\\Theta(|V|)$ because we need to loop through every node on the vertice $V$."
   ]
  },
  {
   "cell_type": "markdown",
   "metadata": {},
   "source": [
    "### Question 2: Adjacency List\n",
    "(15 pts) For each i associates a list of nodes j (with extra data) such that there is an edge from i to j. Argue about the time complexity (in  $\\Theta$ notations) of Get, Add, and AllFrom in this representation.\n",
    "\n",
    "\n",
    "**Answer**:\n",
    "\n",
    "1. The time complexity of `Get` is $\\Theta(|V|)$ because we may need to check each node j, associated with $i$.\n",
    "2. The time complexity of `Add` is $\\Theta(1)$ because we can just add an edge at the end of the linked list. \n",
    "3. The time complexity of `AllFrom` is $\\Theta(|E|)$ because we need to loop through every node associated with $i$."
   ]
  },
  {
   "cell_type": "markdown",
   "metadata": {},
   "source": [
    "### Question 3:  Edge List\n",
    "(15 pts) Each edge (i; j) associates a list of nodes j (with extra data) such that there is an edge from i to j. Argue about the time complexity (in $\\Theta$  notations) of Get, Add, and AllFrom in this representation.\n",
    "\n",
    "**Answer**:\n",
    "\n",
    "1. The time complexity of `Get` is $\\Theta(1)$ because we may need to check each node j, associated with $i$.\n",
    "2. The time complexity of `Add` is $\\Theta(1)$ because we can just add an edge at the end of the linked list. \n",
    "3. The time complexity of `AllFrom` is $\\Theta(|E|)$ because we need to loop through every node associated with $i$."
   ]
  },
  {
   "cell_type": "markdown",
   "metadata": {},
   "source": [
    "### Question 4\n",
    "(20 pts) There are a lot of network data libraries on web. See for example Konect that hosts a large array of networks with different types. Choose two undirected graphs, I suggest one small (n < 1000) if you want to visualize it and one large (arbitrary) and read them using your code. Write a python script that can read the chosen network data then cast the data into a Graph class using NetworkX or igraph, two useful python libraries to build your graph object (and visualize them if you want).\n",
    "Based on your search on network libraries, what is the common way of storing network data? Why? Discuss the trade-offs of using the above mentioned representations in sparse and dense graphs."
   ]
  },
  {
   "cell_type": "code",
   "execution_count": 1,
   "metadata": {},
   "outputs": [],
   "source": [
    "import networkx as nx\n",
    "import pandas as pd\n",
    "import matplotlib as plt"
   ]
  },
  {
   "cell_type": "code",
   "execution_count": 2,
   "metadata": {},
   "outputs": [
    {
     "data": {
      "text/html": [
       "<div>\n",
       "<style scoped>\n",
       "    .dataframe tbody tr th:only-of-type {\n",
       "        vertical-align: middle;\n",
       "    }\n",
       "\n",
       "    .dataframe tbody tr th {\n",
       "        vertical-align: top;\n",
       "    }\n",
       "\n",
       "    .dataframe thead th {\n",
       "        text-align: right;\n",
       "    }\n",
       "</style>\n",
       "<table border=\"1\" class=\"dataframe\">\n",
       "  <thead>\n",
       "    <tr style=\"text-align: right;\">\n",
       "      <th></th>\n",
       "      <th>i</th>\n",
       "      <th>j</th>\n",
       "    </tr>\n",
       "  </thead>\n",
       "  <tbody>\n",
       "    <tr>\n",
       "      <th>0</th>\n",
       "      <td>0</td>\n",
       "      <td>1</td>\n",
       "    </tr>\n",
       "    <tr>\n",
       "      <th>1</th>\n",
       "      <td>0</td>\n",
       "      <td>2</td>\n",
       "    </tr>\n",
       "    <tr>\n",
       "      <th>2</th>\n",
       "      <td>0</td>\n",
       "      <td>3</td>\n",
       "    </tr>\n",
       "    <tr>\n",
       "      <th>3</th>\n",
       "      <td>0</td>\n",
       "      <td>4</td>\n",
       "    </tr>\n",
       "    <tr>\n",
       "      <th>4</th>\n",
       "      <td>0</td>\n",
       "      <td>6</td>\n",
       "    </tr>\n",
       "  </tbody>\n",
       "</table>\n",
       "</div>"
      ],
      "text/plain": [
       "   i  j\n",
       "0  0  1\n",
       "1  0  2\n",
       "2  0  3\n",
       "3  0  4\n",
       "4  0  6"
      ]
     },
     "execution_count": 2,
     "metadata": {},
     "output_type": "execute_result"
    }
   ],
   "source": [
    "data = pd.read_csv(\"https://raw.githubusercontent.com/kunegis/konect-extr/master/extr/pholme/hiv.csv\", \n",
    "                   sep = \" \", \n",
    "                   skiprows=1,\n",
    "                   header=None)\n",
    "data.columns = ('i', 'j')\n",
    "data.head()"
   ]
  },
  {
   "cell_type": "code",
   "execution_count": 3,
   "metadata": {},
   "outputs": [
    {
     "data": {
      "text/plain": [
       "(41, 2)"
      ]
     },
     "execution_count": 3,
     "metadata": {},
     "output_type": "execute_result"
    }
   ],
   "source": [
    "data.shape"
   ]
  },
  {
   "cell_type": "markdown",
   "metadata": {},
   "source": [
    "#### Small Network"
   ]
  },
  {
   "cell_type": "code",
   "execution_count": 4,
   "metadata": {},
   "outputs": [
    {
     "data": {
      "image/png": "[encoded data removed]",
      "text/plain": [
       "<Figure size 432x288 with 1 Axes>"
      ]
     },
     "metadata": {},
     "output_type": "display_data"
    }
   ],
   "source": [
    "# Initialize a Graph\n",
    "g = nx.Graph()\n",
    "\n",
    "# Draw the Edge list\n",
    "for row in range(0, len(data)):\n",
    "    g.add_edge(data.iloc[row, 0], data.iloc[row, 1])\n",
    "    \n",
    "nx.draw(g, with_labels=True)"
   ]
  },
  {
   "cell_type": "markdown",
   "metadata": {},
   "source": [
    "#### Larget Network"
   ]
  },
  {
   "cell_type": "code",
   "execution_count": 5,
   "metadata": {},
   "outputs": [
    {
     "data": {
      "text/html": [
       "<div>\n",
       "<style scoped>\n",
       "    .dataframe tbody tr th:only-of-type {\n",
       "        vertical-align: middle;\n",
       "    }\n",
       "\n",
       "    .dataframe tbody tr th {\n",
       "        vertical-align: top;\n",
       "    }\n",
       "\n",
       "    .dataframe thead th {\n",
       "        text-align: right;\n",
       "    }\n",
       "</style>\n",
       "<table border=\"1\" class=\"dataframe\">\n",
       "  <thead>\n",
       "    <tr style=\"text-align: right;\">\n",
       "      <th></th>\n",
       "      <th>i</th>\n",
       "      <th>j</th>\n",
       "      <th>weight</th>\n",
       "      <th>timestamp</th>\n",
       "    </tr>\n",
       "  </thead>\n",
       "  <tbody>\n",
       "    <tr>\n",
       "      <th>0</th>\n",
       "      <td>1</td>\n",
       "      <td>1</td>\n",
       "      <td>1</td>\n",
       "      <td>1151439209</td>\n",
       "    </tr>\n",
       "    <tr>\n",
       "      <th>1</th>\n",
       "      <td>2</td>\n",
       "      <td>1</td>\n",
       "      <td>1</td>\n",
       "      <td>1154383173</td>\n",
       "    </tr>\n",
       "    <tr>\n",
       "      <th>2</th>\n",
       "      <td>3</td>\n",
       "      <td>1</td>\n",
       "      <td>1</td>\n",
       "      <td>1211294981</td>\n",
       "    </tr>\n",
       "    <tr>\n",
       "      <th>3</th>\n",
       "      <td>4</td>\n",
       "      <td>1</td>\n",
       "      <td>1</td>\n",
       "      <td>1211932406</td>\n",
       "    </tr>\n",
       "    <tr>\n",
       "      <th>4</th>\n",
       "      <td>4</td>\n",
       "      <td>1</td>\n",
       "      <td>1</td>\n",
       "      <td>1211934511</td>\n",
       "    </tr>\n",
       "  </tbody>\n",
       "</table>\n",
       "</div>"
      ],
      "text/plain": [
       "   i  j  weight   timestamp\n",
       "0  1  1       1  1151439209\n",
       "1  2  1       1  1154383173\n",
       "2  3  1       1  1211294981\n",
       "3  4  1       1  1211932406\n",
       "4  4  1       1  1211934511"
      ]
     },
     "execution_count": 5,
     "metadata": {},
     "output_type": "execute_result"
    }
   ],
   "source": [
    "data2 = pd.read_csv('out.edit-sawikibooks', sep = \"\\t\", skiprows=1, header=None)\n",
    "data2.columns = ('i', 'j', 'weight','timestamp')\n",
    "data2.head()"
   ]
  },
  {
   "cell_type": "code",
   "execution_count": 6,
   "metadata": {},
   "outputs": [
    {
     "data": {
      "text/plain": [
       "(1956, 4)"
      ]
     },
     "execution_count": 6,
     "metadata": {},
     "output_type": "execute_result"
    }
   ],
   "source": [
    "data2.shape"
   ]
  },
  {
   "cell_type": "code",
   "execution_count": 7,
   "metadata": {
    "scrolled": true
   },
   "outputs": [
    {
     "data": {
      "image/png": "[encoded data removed]",
      "text/plain": [
       "<Figure size 432x288 with 1 Axes>"
      ]
     },
     "metadata": {},
     "output_type": "display_data"
    }
   ],
   "source": [
    "# Initialize a Graph\n",
    "g = nx.Graph()\n",
    "\n",
    "# Draw the Edge list\n",
    "for row in range(0, len(data2)):\n",
    "    g.add_edge(data2.iloc[row, 0], data2.iloc[row, 1])\n",
    "    \n",
    "nx.draw(g)"
   ]
  },
  {
   "cell_type": "markdown",
   "metadata": {},
   "source": [
    "It looks like that the most common way to store a network is to use `Edge List`. I think this is most efficient way for the people and computers to read and visualize the network. \n",
    "- For sparse graphs, I think the `Edge List` is a good way to store the network comparing to `Adjacency List` and `Adjacency Matrix`, because it will take relatively small amount of memory space. \n",
    "- For a dense graphs, I think `Adjacency List` and `Adjacency Matrix` will take less memory space comparing to the `Edge List`."
   ]
  }
 ],
 "metadata": {
  "kernelspec": {
   "display_name": "Python 3",
   "language": "python",
   "name": "python3"
  },
  "language_info": {
   "codemirror_mode": {
    "name": "ipython",
    "version": 3
   },
   "file_extension": ".py",
   "mimetype": "text/x-python",
   "name": "python",
   "nbconvert_exporter": "python",
   "pygments_lexer": "ipython3",
   "version": "3.7.6"
  }
 },
 "nbformat": 4,
 "nbformat_minor": 4
}
