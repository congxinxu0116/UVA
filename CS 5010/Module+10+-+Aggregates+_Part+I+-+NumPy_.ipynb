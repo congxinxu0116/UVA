{
 "cells": [
  {
   "cell_type": "markdown",
   "metadata": {},
   "source": [
    "# CS 5010\n",
    "## Learning Python (Python version: 3)\n",
    "### Topics:\n",
    "###   - Aggregates in Python (NumPy and Pandas)\n",
    "\n",
    "### Filename: Module 10 - Aggregates (Part I: NumPy)"
   ]
  },
  {
   "cell_type": "markdown",
   "metadata": {},
   "source": [
    "# Aggregates using NumPy:"
   ]
  },
  {
   "cell_type": "markdown",
   "metadata": {},
   "source": [
    "#### Use of 'reduce' method with another function.\n",
    "\n",
    "If you would like to reduce an array with a particular operation you can\n",
    "use the reduce method with another function. The outcome of using reduce\n",
    "will repeatedly apply a given operation to the elements of an array until\n",
    "only a single result remains"
   ]
  },
  {
   "cell_type": "code",
   "execution_count": 1,
   "metadata": {},
   "outputs": [],
   "source": [
    "import numpy as np"
   ]
  },
  {
   "cell_type": "code",
   "execution_count": 3,
   "metadata": {},
   "outputs": [
    {
     "data": {
      "text/plain": [
       "array([0, 1, 2, 3])"
      ]
     },
     "execution_count": 3,
     "metadata": {},
     "output_type": "execute_result"
    }
   ],
   "source": [
    "x = np.arange(4)\n",
    "x"
   ]
  },
  {
   "cell_type": "code",
   "execution_count": 4,
   "metadata": {},
   "outputs": [
    {
     "data": {
      "text/plain": [
       "6"
      ]
     },
     "execution_count": 4,
     "metadata": {},
     "output_type": "execute_result"
    }
   ],
   "source": [
    "np.add.reduce(x) #np.ufunc.reduce (ufun: universal function)"
   ]
  },
  {
   "cell_type": "code",
   "execution_count": 5,
   "metadata": {},
   "outputs": [
    {
     "name": "stdout",
     "output_type": "stream",
     "text": [
      "The list:\n",
      "[1 2 3 4 5]\n",
      "Using add and reduce\n",
      "15\n"
     ]
    }
   ],
   "source": [
    "# reduce with add function\n",
    "x = np.arange(1,6) # Create a list from 1-5\n",
    "print(\"The list:\")\n",
    "print(x)\n",
    "print(\"Using add and reduce\")\n",
    "print( np.add.reduce(x) )"
   ]
  },
  {
   "cell_type": "code",
   "execution_count": 6,
   "metadata": {},
   "outputs": [
    {
     "name": "stdout",
     "output_type": "stream",
     "text": [
      "Using multipily and reduce\n",
      "120\n"
     ]
    }
   ],
   "source": [
    "# reduce with multiply function\n",
    "print(\"Using multipily and reduce\")\n",
    "print( np.multiply.reduce(x) )"
   ]
  },
  {
   "cell_type": "markdown",
   "metadata": {},
   "source": [
    "#### Use of 'accumulate' method with another function for keeping intermediate results\n",
    "\n",
    "If you want to store all the intermediate results of the computation, use, instead, the 'accumulate' function"
   ]
  },
  {
   "cell_type": "code",
   "execution_count": 7,
   "metadata": {},
   "outputs": [
    {
     "name": "stdout",
     "output_type": "stream",
     "text": [
      "Using add and accumulate\n",
      "[ 1  3  6 10 15]\n",
      "Using multiply and accumulate\n",
      "[  1   2   6  24 120]\n"
     ]
    }
   ],
   "source": [
    "# accumulate with add function (showing intermediate results) \n",
    "print(\"Using add and accumulate\")\n",
    "print( np.add.accumulate(x) ) # np.ufunc.accumulate\n",
    "\n",
    "# accumulate with multiply function (showing intermediate results)\n",
    "print(\"Using multiply and accumulate\")\n",
    "print( np.multiply.accumulate(x) )"
   ]
  },
  {
   "cell_type": "code",
   "execution_count": 7,
   "metadata": {},
   "outputs": [
    {
     "data": {
      "text/plain": [
       "array([ 1,  3,  6, 10, 15], dtype=int32)"
      ]
     },
     "execution_count": 7,
     "metadata": {},
     "output_type": "execute_result"
    }
   ],
   "source": [
    "# Cumulative summation\n",
    "np.cumsum(x)"
   ]
  },
  {
   "cell_type": "code",
   "execution_count": 8,
   "metadata": {},
   "outputs": [
    {
     "data": {
      "text/plain": [
       "array([  1,   2,   6,  24, 120], dtype=int32)"
      ]
     },
     "execution_count": 8,
     "metadata": {},
     "output_type": "execute_result"
    }
   ],
   "source": [
    "# Cumulative Multiplication\n",
    "np.cumprod(x)"
   ]
  },
  {
   "cell_type": "markdown",
   "metadata": {},
   "source": [
    "#### Computing summary statistics\n",
    "\n",
    "Common summary statistics include mean and standard deviation, but other aggregates are useful as well, such as:\n",
    "      sum, product, median, minimum, maximum, etc..."
   ]
  },
  {
   "cell_type": "markdown",
   "metadata": {},
   "source": [
    "#### Summing the values in an array\n",
    "\n",
    "Computing the sum of all values in an array - use the built-in 'sum' function"
   ]
  },
  {
   "cell_type": "code",
   "execution_count": 8,
   "metadata": {},
   "outputs": [
    {
     "name": "stdout",
     "output_type": "stream",
     "text": [
      "[1.13915505 8.43956176 1.26501049 4.96629375 5.63152811]\n",
      "51.29464452713995\n",
      "21.441549172290276\n",
      "21.441549172290276\n"
     ]
    }
   ],
   "source": [
    "L = np.random.random(100)\n",
    "small = np.random.random(5)*10  # An example that's easier to view/visualize\n",
    "print ( small )\n",
    "#print( L ) # Can print out L just to see what it looks like\n",
    "print( sum(L) )\n",
    "print( sum(small) )\n",
    "\n",
    "# Note, quite similar to NumPy's 'sum' function (result is the same)\n",
    "print( np.sum(small) )\n",
    "\n",
    "# NumPy's version of the operation is computed much more quickly, however\n",
    "# the sum function and the np.sum function are not identical (e.g. their\n",
    "# optional arguments have different meanings and np.sum can work with \n",
    "# multiple array dimentions.)"
   ]
  },
  {
   "cell_type": "markdown",
   "metadata": {},
   "source": [
    "#### Minimum and Maximum\n",
    "\n",
    "Python has built-in min and max functions to find min or max value of any given array. NumPy's corresponding functions have similar syntax (but are much more efficient.) "
   ]
  },
  {
   "cell_type": "code",
   "execution_count": 9,
   "metadata": {},
   "outputs": [
    {
     "name": "stdout",
     "output_type": "stream",
     "text": [
      "3.1803013622599963e-07 0.9999995991102348\n",
      "3.1803013622599963e-07 0.9999995991102348\n"
     ]
    }
   ],
   "source": [
    "big_array = np.random.rand(1000000) # 1 million elements\n",
    "print( min(big_array), max(big_array) )         # built-in functions\n",
    "print( np.min(big_array), np.max(big_array) )   # NumPy functions "
   ]
  },
  {
   "cell_type": "markdown",
   "metadata": {},
   "source": [
    "#### Let's run an experiment to time how long the built-in function works in comparison to the NumPy version of the same function"
   ]
  },
  {
   "cell_type": "code",
   "execution_count": 9,
   "metadata": {},
   "outputs": [
    {
     "name": "stdout",
     "output_type": "stream",
     "text": [
      "Let's time these two functions...\n",
      "min function time: 8.688906999999972\n",
      "np.min function time: 0.0350697000000082\n",
      "===================\n"
     ]
    }
   ],
   "source": [
    "print(\"Let's time these two functions...\")\n",
    "\n",
    "import timeit\n",
    "# Any setup for the statements to be able to run:\n",
    "SETUP = '''\n",
    "import numpy as np\n",
    "big_array = np.random.rand(1000000)'''\n",
    "\n",
    "# Lines of code to time:\n",
    "CODE_TO_TIME1 = '''min(big_array)'''\n",
    "CODE_TO_TIME2 = '''np.min(big_array)'''\n",
    "\n",
    "# Time these lines of code to compare the difference (use timeit)\n",
    "# (NumPy version should execute quicker!) \n",
    "\n",
    "# ** May take a little while to execute ** \n",
    "\n",
    "t1 = timeit.timeit(setup = SETUP, stmt = CODE_TO_TIME1, number = 100) \n",
    "t2 = timeit.timeit(setup = SETUP, stmt = CODE_TO_TIME2, number = 100) \n",
    "\n",
    "print('min function time: {}'.format(t1)) \n",
    "print('np.min function time: {}'.format(t2)) \n",
    "print(\"===================\")"
   ]
  },
  {
   "cell_type": "markdown",
   "metadata": {},
   "source": [
    "#### Using multidimensional aggregates\n",
    "\n",
    "Aggregation operation along a row or column"
   ]
  },
  {
   "cell_type": "code",
   "execution_count": 15,
   "metadata": {},
   "outputs": [
    {
     "name": "stdout",
     "output_type": "stream",
     "text": [
      "[[1.74560806e-01 5.47929234e-01 4.93505722e-01 3.54990841e-01]\n",
      " [9.80743000e-01 7.39017854e-01 4.85850392e-01 3.13320555e-04]\n",
      " [4.21803494e-01 5.64069244e-01 8.07023327e-01 2.42847904e-01]]\n",
      "5.812655138061311\n"
     ]
    }
   ],
   "source": [
    "M = np.random.random((3,4)) # row=3; col=4\n",
    "print(M)\n",
    "print( M.sum() )  # NumPy aggregate fucntion over entire array"
   ]
  },
  {
   "cell_type": "code",
   "execution_count": 16,
   "metadata": {},
   "outputs": [
    {
     "name": "stdout",
     "output_type": "stream",
     "text": [
      "[1.74560806e-01 5.47929234e-01 4.85850392e-01 3.13320555e-04]\n",
      "[0.54792923 0.980743   0.80702333]\n"
     ]
    }
   ],
   "source": [
    "# min on an axis - takes an additional argument\n",
    "# Axis = 0 ++> Columns\n",
    "print( M.min(axis=0) )  # returns 4 values, min for each of the 4 columns\n",
    "\n",
    "# Axis = 1, ==> Row\n",
    "# max on an axis\n",
    "print( M.max(axis=1) )  # returns 3 values, max for each of the 3 rows"
   ]
  },
  {
   "cell_type": "markdown",
   "metadata": {},
   "source": [
    "Important note about 'axis' additional argument:\n",
    "The way the axis is specified can be confusing. The axis keyword specifies the DIMENSION of the array that will be collapsed, rather than the dimension that will be returned. \n",
    "\n",
    "So, specifying axis=0 means that the FIRST axis will be collapsed:\n",
    "for two-dimensional arrays, this means that the values within each COLUMN will be aggregated. "
   ]
  },
  {
   "cell_type": "markdown",
   "metadata": {},
   "source": [
    "Ref: https://books.google.com/books?id=xYmNDQAAQBAJ&pg=PA60&lpg=PA60&dq=The+way+the+axis+is+specified+can+be+confusing.+The+axis+keyword+specifies+the+DIMENSION+of+the+array+that+will+be+collapsed,+rather+than+the+dimension+that+will+be+returned.&source=bl&ots=XqeLj5nk2N&sig=ACfU3U3dogcaPpVlJMiWunOM05BsLYo48Q&hl=en&sa=X&ved=2ahUKEwj5s8Cl6NblAhVKpFkKHU2nAu0Q6AEwAHoECAkQAQ#v=onepage&q=The%20way%20the%20axis%20is%20specified%20can%20be%20confusing.%20The%20axis%20keyword%20specifies%20the%20DIMENSION%20of%20the%20array%20that%20will%20be%20collapsed%2C%20rather%20than%20the%20dimension%20that%20will%20be%20returned.&f=false"
   ]
  },
  {
   "cell_type": "markdown",
   "metadata": {},
   "source": [
    "#### Many other aggregate functions are available in NumPy\n",
    "\n",
    "For example:\n",
    "np.mean, np.std, np.var, np.argmin, np.argmax, np.median, np.percentile, ...\n",
    "\n",
    "Review what each of these do. "
   ]
  },
  {
   "cell_type": "code",
   "execution_count": 19,
   "metadata": {},
   "outputs": [
    {
     "data": {
      "text/plain": [
       "4.333333333333333"
      ]
     },
     "execution_count": 19,
     "metadata": {},
     "output_type": "execute_result"
    }
   ],
   "source": [
    "A = [[1,2,3],[3,4,5],[6,7,8]]\n",
    "\n",
    "np.mean(A) # Mean"
   ]
  },
  {
   "cell_type": "code",
   "execution_count": 20,
   "metadata": {},
   "outputs": [
    {
     "data": {
      "text/plain": [
       "2.211083193570267"
      ]
     },
     "execution_count": 20,
     "metadata": {},
     "output_type": "execute_result"
    }
   ],
   "source": [
    "np.std(A) # Standard deviation"
   ]
  },
  {
   "cell_type": "code",
   "execution_count": 21,
   "metadata": {},
   "outputs": [
    {
     "data": {
      "text/plain": [
       "4.888888888888889"
      ]
     },
     "execution_count": 21,
     "metadata": {},
     "output_type": "execute_result"
    }
   ],
   "source": [
    "np.var(A) # Variance"
   ]
  },
  {
   "cell_type": "code",
   "execution_count": 30,
   "metadata": {},
   "outputs": [
    {
     "data": {
      "text/plain": [
       "array([[1.74560806e-01, 5.47929234e-01, 4.93505722e-01, 3.54990841e-01],\n",
       "       [9.80743000e-01, 7.39017854e-01, 4.85850392e-01, 3.13320555e-04],\n",
       "       [4.21803494e-01, 5.64069244e-01, 8.07023327e-01, 2.42847904e-01]])"
      ]
     },
     "execution_count": 30,
     "metadata": {},
     "output_type": "execute_result"
    }
   ],
   "source": [
    "M"
   ]
  },
  {
   "cell_type": "code",
   "execution_count": 36,
   "metadata": {},
   "outputs": [
    {
     "data": {
      "text/plain": [
       "8"
      ]
     },
     "execution_count": 36,
     "metadata": {},
     "output_type": "execute_result"
    }
   ],
   "source": [
    "lst = [12,22,32,45,72,23,12,5,1,41,24]\n",
    "\n",
    "np.argmin(lst) # Returns the indices of the minimum values along an axis."
   ]
  },
  {
   "cell_type": "code",
   "execution_count": 37,
   "metadata": {},
   "outputs": [
    {
     "data": {
      "text/plain": [
       "1"
      ]
     },
     "execution_count": 37,
     "metadata": {},
     "output_type": "execute_result"
    }
   ],
   "source": [
    "lst[8]"
   ]
  },
  {
   "cell_type": "code",
   "execution_count": 38,
   "metadata": {},
   "outputs": [
    {
     "data": {
      "text/plain": [
       "4"
      ]
     },
     "execution_count": 38,
     "metadata": {},
     "output_type": "execute_result"
    }
   ],
   "source": [
    "np.argmax(lst) # Returns the indices of the maximum values along an axis."
   ]
  },
  {
   "cell_type": "code",
   "execution_count": 39,
   "metadata": {},
   "outputs": [
    {
     "data": {
      "text/plain": [
       "72"
      ]
     },
     "execution_count": 39,
     "metadata": {},
     "output_type": "execute_result"
    }
   ],
   "source": [
    "lst[4]"
   ]
  },
  {
   "cell_type": "code",
   "execution_count": 41,
   "metadata": {},
   "outputs": [
    {
     "data": {
      "text/plain": [
       "23.0"
      ]
     },
     "execution_count": 41,
     "metadata": {},
     "output_type": "execute_result"
    }
   ],
   "source": [
    "np.median(lst)"
   ]
  },
  {
   "cell_type": "code",
   "execution_count": 43,
   "metadata": {},
   "outputs": [
    {
     "data": {
      "text/plain": [
       "23.0"
      ]
     },
     "execution_count": 43,
     "metadata": {},
     "output_type": "execute_result"
    }
   ],
   "source": [
    "np.percentile(lst, 50)"
   ]
  }
 ],
 "metadata": {
  "kernelspec": {
   "display_name": "Python 3",
   "language": "python",
   "name": "python3"
  },
  "language_info": {
   "codemirror_mode": {
    "name": "ipython",
    "version": 3
   },
   "file_extension": ".py",
   "mimetype": "text/x-python",
   "name": "python",
   "nbconvert_exporter": "python",
   "pygments_lexer": "ipython3",
   "version": "3.7.6"
  }
 },
 "nbformat": 4,
 "nbformat_minor": 4
}
