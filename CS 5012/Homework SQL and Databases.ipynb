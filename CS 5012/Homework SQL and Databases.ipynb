{
 "cells": [
  {
   "cell_type": "markdown",
   "metadata": {},
   "source": [
    "# 9.6 Homework: SQL and Databases\n",
    "- Name: Congxin (David) Xu\n",
    "- Computing ID: cx2rx\n",
    "\n",
    "### Question 1\n",
    "Write the following queries in SQL, using the university schema.\n",
    "\n",
    "1. Find the ID and name of each student who has taken at least one Comp. Sci. course; make sure there are no duplicate names in the result.\n",
    "2. Find the ID and name of each student who has not taken any course offered before 2017.\n",
    "3. For each department, find the maximum salary of instructors in that department. You may assume that every department has at least one instructor.\n",
    "4. Find the lowest, across all departments, of the per-department maximum salary computed by the preceding query.\n",
    "\n",
    "<img src=\"University Schema.png\" width=\"1000\">"
   ]
  }
 ],
 "metadata": {
  "kernelspec": {
   "display_name": "Python 3",
   "language": "python",
   "name": "python3"
  },
  "language_info": {
   "codemirror_mode": {
    "name": "ipython",
    "version": 3
   },
   "file_extension": ".py",
   "mimetype": "text/x-python",
   "name": "python",
   "nbconvert_exporter": "python",
   "pygments_lexer": "ipython3",
   "version": "3.7.6"
  }
 },
 "nbformat": 4,
 "nbformat_minor": 4
}
