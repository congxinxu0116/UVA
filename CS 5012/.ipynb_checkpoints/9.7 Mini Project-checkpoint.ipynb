{
 "cells": [
  {
   "cell_type": "markdown",
   "metadata": {},
   "source": [
    "# 9.7 Mini Project: SQLite DB Creation\n",
    "- Member: \n",
    "    - Congxin (David) Xu - cx2rx\n",
    "    - Diyu Zheng - dz2fc"
   ]
  },
  {
   "cell_type": "markdown",
   "metadata": {},
   "source": [
    "### Database ER Diagram"
   ]
  },
  {
   "cell_type": "markdown",
   "metadata": {},
   "source": [
    "<img src=\"Mini Project ER Diagram.jpg\" width=\"1000\">|"
   ]
  },
  {
   "cell_type": "markdown",
   "metadata": {},
   "source": [
    "### Create Database"
   ]
  },
  {
   "cell_type": "code",
   "execution_count": 1,
   "metadata": {},
   "outputs": [],
   "source": [
    "# Import Modules\n",
    "import sqlite3\n",
    "import pandas as pd"
   ]
  },
  {
   "cell_type": "code",
   "execution_count": 2,
   "metadata": {},
   "outputs": [],
   "source": [
    "# Create a connection to the database.\n",
    "conn = sqlite3.connect('apps_DB.db')\n",
    "\n",
    "# Create a cursor. A cursor is used to move around the database\n",
    "cursor = conn.cursor()"
   ]
  },
  {
   "cell_type": "markdown",
   "metadata": {},
   "source": [
    "### Adding Tables to Database"
   ]
  },
  {
   "cell_type": "code",
   "execution_count": 3,
   "metadata": {},
   "outputs": [],
   "source": [
    "# SQLite does not have a seperate Boolean storage class\n",
    "sql_create_apps = \"\"\"\n",
    "    CREATE TABLE apps(\n",
    "        App_Id INTEGER,\n",
    "        App_Name TEXT,\n",
    "        Category_Id INTEGER,\n",
    "        Login_Method TEXT,\n",
    "        File_Size INTEGER,\n",
    "        Photo_Access TEXT, \n",
    "        Location_Access TEXT,\n",
    "        Allow_Notification TEXT,\n",
    "        PRIMARY KEY(App_Id),\n",
    "        FOREIGN KEY(Category_Id) REFERENCES categories(Category_Id)\n",
    "    );\n",
    "\"\"\""
   ]
  },
  {
   "cell_type": "code",
   "execution_count": 4,
   "metadata": {},
   "outputs": [
    {
     "data": {
      "text/plain": [
       "<sqlite3.Cursor at 0x2a52d466b90>"
      ]
     },
     "execution_count": 4,
     "metadata": {},
     "output_type": "execute_result"
    }
   ],
   "source": [
    "# Use the cursor to execute the statement\n",
    "cursor.execute(sql_create_apps)"
   ]
  },
  {
   "cell_type": "code",
   "execution_count": 5,
   "metadata": {},
   "outputs": [],
   "source": [
    "sql_create_categories = \"\"\"\n",
    "    CREATE TABLE categories(\n",
    "        Category_Id INTEGER,\n",
    "        Category_Name TEXT,\n",
    "        PRIMARY KEY(Category_Id)\n",
    "    );\n",
    "\"\"\""
   ]
  },
  {
   "cell_type": "code",
   "execution_count": 6,
   "metadata": {},
   "outputs": [
    {
     "data": {
      "text/plain": [
       "<sqlite3.Cursor at 0x2a52d466b90>"
      ]
     },
     "execution_count": 6,
     "metadata": {},
     "output_type": "execute_result"
    }
   ],
   "source": [
    "# Use the cursor to execute the statement\n",
    "cursor.execute(sql_create_categories)"
   ]
  },
  {
   "cell_type": "code",
   "execution_count": 7,
   "metadata": {},
   "outputs": [],
   "source": [
    "sql_create_users = \"\"\"\n",
    "    CREATE TABLE users(\n",
    "        User_Id INTEGER,\n",
    "        User_Name TEXT,\n",
    "        App_Id INTEGER,\n",
    "        User_Rating INTEGER,\n",
    "        PRIMARY KEY(User_Id, App_Id)\n",
    "    );\n",
    "\"\"\""
   ]
  },
  {
   "cell_type": "code",
   "execution_count": 8,
   "metadata": {},
   "outputs": [
    {
     "data": {
      "text/plain": [
       "<sqlite3.Cursor at 0x2a52d466b90>"
      ]
     },
     "execution_count": 8,
     "metadata": {},
     "output_type": "execute_result"
    }
   ],
   "source": [
    "# Use the cursor to execute the statement\n",
    "cursor.execute(sql_create_users)"
   ]
  },
  {
   "cell_type": "code",
   "execution_count": 9,
   "metadata": {},
   "outputs": [
    {
     "data": {
      "text/html": [
       "<div>\n",
       "<style scoped>\n",
       "    .dataframe tbody tr th:only-of-type {\n",
       "        vertical-align: middle;\n",
       "    }\n",
       "\n",
       "    .dataframe tbody tr th {\n",
       "        vertical-align: top;\n",
       "    }\n",
       "\n",
       "    .dataframe thead th {\n",
       "        text-align: right;\n",
       "    }\n",
       "</style>\n",
       "<table border=\"1\" class=\"dataframe\">\n",
       "  <thead>\n",
       "    <tr style=\"text-align: right;\">\n",
       "      <th></th>\n",
       "      <th>App_Id</th>\n",
       "      <th>App_Name</th>\n",
       "      <th>Category_Id</th>\n",
       "      <th>Login_Method</th>\n",
       "      <th>File_Size</th>\n",
       "      <th>Photo_Access</th>\n",
       "      <th>Location_Access</th>\n",
       "      <th>Allow_Notification</th>\n",
       "    </tr>\n",
       "  </thead>\n",
       "  <tbody>\n",
       "    <tr>\n",
       "      <th>0</th>\n",
       "      <td>1001</td>\n",
       "      <td>Aetna Health</td>\n",
       "      <td>11</td>\n",
       "      <td>Face ID</td>\n",
       "      <td>93</td>\n",
       "      <td>No</td>\n",
       "      <td>Yes</td>\n",
       "      <td>No</td>\n",
       "    </tr>\n",
       "    <tr>\n",
       "      <th>1</th>\n",
       "      <td>1002</td>\n",
       "      <td>Airbnb</td>\n",
       "      <td>12</td>\n",
       "      <td>Password</td>\n",
       "      <td>283</td>\n",
       "      <td>No</td>\n",
       "      <td>Yes</td>\n",
       "      <td>Yes</td>\n",
       "    </tr>\n",
       "    <tr>\n",
       "      <th>2</th>\n",
       "      <td>1003</td>\n",
       "      <td>Amazon</td>\n",
       "      <td>13</td>\n",
       "      <td>Password</td>\n",
       "      <td>160</td>\n",
       "      <td>No</td>\n",
       "      <td>Yes</td>\n",
       "      <td>Yes</td>\n",
       "    </tr>\n",
       "    <tr>\n",
       "      <th>3</th>\n",
       "      <td>1004</td>\n",
       "      <td>BofA</td>\n",
       "      <td>14</td>\n",
       "      <td>Face ID</td>\n",
       "      <td>173</td>\n",
       "      <td>No</td>\n",
       "      <td>Yes</td>\n",
       "      <td>Yes</td>\n",
       "    </tr>\n",
       "    <tr>\n",
       "      <th>4</th>\n",
       "      <td>1005</td>\n",
       "      <td>Booking.com</td>\n",
       "      <td>12</td>\n",
       "      <td>Password</td>\n",
       "      <td>164</td>\n",
       "      <td>No</td>\n",
       "      <td>Yes</td>\n",
       "      <td>No</td>\n",
       "    </tr>\n",
       "  </tbody>\n",
       "</table>\n",
       "</div>"
      ],
      "text/plain": [
       "   App_Id      App_Name  Category_Id Login_Method  File_Size Photo_Access  \\\n",
       "0    1001  Aetna Health           11      Face ID         93           No   \n",
       "1    1002        Airbnb           12     Password        283           No   \n",
       "2    1003        Amazon           13     Password        160           No   \n",
       "3    1004          BofA           14      Face ID        173           No   \n",
       "4    1005   Booking.com           12     Password        164           No   \n",
       "\n",
       "  Location_Access Allow_Notification  \n",
       "0             Yes                 No  \n",
       "1             Yes                Yes  \n",
       "2             Yes                Yes  \n",
       "3             Yes                Yes  \n",
       "4             Yes                 No  "
      ]
     },
     "execution_count": 9,
     "metadata": {},
     "output_type": "execute_result"
    }
   ],
   "source": [
    "# Read Table 1 from Excel\n",
    "app = pd.read_excel(\"Mini SQL DB Design.xlsx\", sheet_name=\"App\")\n",
    "app.head()"
   ]
  },
  {
   "cell_type": "code",
   "execution_count": 10,
   "metadata": {},
   "outputs": [],
   "source": [
    "# Add the table to the database\n",
    "app.to_sql('apps', conn, index = False, if_exists = 'append')"
   ]
  },
  {
   "cell_type": "code",
   "execution_count": 11,
   "metadata": {},
   "outputs": [
    {
     "data": {
      "text/html": [
       "<div>\n",
       "<style scoped>\n",
       "    .dataframe tbody tr th:only-of-type {\n",
       "        vertical-align: middle;\n",
       "    }\n",
       "\n",
       "    .dataframe tbody tr th {\n",
       "        vertical-align: top;\n",
       "    }\n",
       "\n",
       "    .dataframe thead th {\n",
       "        text-align: right;\n",
       "    }\n",
       "</style>\n",
       "<table border=\"1\" class=\"dataframe\">\n",
       "  <thead>\n",
       "    <tr style=\"text-align: right;\">\n",
       "      <th></th>\n",
       "      <th>Category_Id</th>\n",
       "      <th>Category_Name</th>\n",
       "    </tr>\n",
       "  </thead>\n",
       "  <tbody>\n",
       "    <tr>\n",
       "      <th>0</th>\n",
       "      <td>11</td>\n",
       "      <td>Insurance</td>\n",
       "    </tr>\n",
       "    <tr>\n",
       "      <th>1</th>\n",
       "      <td>12</td>\n",
       "      <td>Travel</td>\n",
       "    </tr>\n",
       "    <tr>\n",
       "      <th>2</th>\n",
       "      <td>13</td>\n",
       "      <td>Shopping</td>\n",
       "    </tr>\n",
       "    <tr>\n",
       "      <th>3</th>\n",
       "      <td>14</td>\n",
       "      <td>Financial</td>\n",
       "    </tr>\n",
       "    <tr>\n",
       "      <th>4</th>\n",
       "      <td>15</td>\n",
       "      <td>Game</td>\n",
       "    </tr>\n",
       "  </tbody>\n",
       "</table>\n",
       "</div>"
      ],
      "text/plain": [
       "   Category_Id Category_Name\n",
       "0           11     Insurance\n",
       "1           12        Travel\n",
       "2           13      Shopping\n",
       "3           14     Financial\n",
       "4           15          Game"
      ]
     },
     "execution_count": 11,
     "metadata": {},
     "output_type": "execute_result"
    }
   ],
   "source": [
    "# Read Table 2 from Excel\n",
    "category = pd.read_excel(\"Mini SQL DB Design.xlsx\", sheet_name=\"Category\")\n",
    "category.head()"
   ]
  },
  {
   "cell_type": "code",
   "execution_count": 12,
   "metadata": {},
   "outputs": [],
   "source": [
    "# Add the table to the database\n",
    "category.to_sql('categories', conn, index = False, if_exists = 'append')"
   ]
  },
  {
   "cell_type": "code",
   "execution_count": 13,
   "metadata": {},
   "outputs": [
    {
     "data": {
      "text/html": [
       "<div>\n",
       "<style scoped>\n",
       "    .dataframe tbody tr th:only-of-type {\n",
       "        vertical-align: middle;\n",
       "    }\n",
       "\n",
       "    .dataframe tbody tr th {\n",
       "        vertical-align: top;\n",
       "    }\n",
       "\n",
       "    .dataframe thead th {\n",
       "        text-align: right;\n",
       "    }\n",
       "</style>\n",
       "<table border=\"1\" class=\"dataframe\">\n",
       "  <thead>\n",
       "    <tr style=\"text-align: right;\">\n",
       "      <th></th>\n",
       "      <th>User_Id</th>\n",
       "      <th>User_Name</th>\n",
       "      <th>App_Id</th>\n",
       "      <th>User_Rating</th>\n",
       "    </tr>\n",
       "  </thead>\n",
       "  <tbody>\n",
       "    <tr>\n",
       "      <th>0</th>\n",
       "      <td>6001</td>\n",
       "      <td>Roy</td>\n",
       "      <td>1003</td>\n",
       "      <td>4</td>\n",
       "    </tr>\n",
       "    <tr>\n",
       "      <th>1</th>\n",
       "      <td>6001</td>\n",
       "      <td>Roy</td>\n",
       "      <td>1010</td>\n",
       "      <td>2</td>\n",
       "    </tr>\n",
       "    <tr>\n",
       "      <th>2</th>\n",
       "      <td>6001</td>\n",
       "      <td>Roy</td>\n",
       "      <td>1009</td>\n",
       "      <td>5</td>\n",
       "    </tr>\n",
       "    <tr>\n",
       "      <th>3</th>\n",
       "      <td>6001</td>\n",
       "      <td>Roy</td>\n",
       "      <td>1017</td>\n",
       "      <td>2</td>\n",
       "    </tr>\n",
       "    <tr>\n",
       "      <th>4</th>\n",
       "      <td>6001</td>\n",
       "      <td>Roy</td>\n",
       "      <td>1001</td>\n",
       "      <td>3</td>\n",
       "    </tr>\n",
       "  </tbody>\n",
       "</table>\n",
       "</div>"
      ],
      "text/plain": [
       "   User_Id User_Name  App_Id  User_Rating\n",
       "0     6001       Roy    1003            4\n",
       "1     6001       Roy    1010            2\n",
       "2     6001       Roy    1009            5\n",
       "3     6001       Roy    1017            2\n",
       "4     6001       Roy    1001            3"
      ]
     },
     "execution_count": 13,
     "metadata": {},
     "output_type": "execute_result"
    }
   ],
   "source": [
    "# Read Table 3 from Excel\n",
    "user=pd.read_excel(\"Mini SQL DB Design.xlsx\", sheet_name = \"User\")\n",
    "user.head()"
   ]
  },
  {
   "cell_type": "code",
   "execution_count": 14,
   "metadata": {},
   "outputs": [],
   "source": [
    "# Add the table to the database\n",
    "user.to_sql('users', conn, index = False, if_exists = 'append')"
   ]
  },
  {
   "cell_type": "markdown",
   "metadata": {},
   "source": [
    "### Write SQL Query to Answer Questions\n",
    "\n",
    "#### Query 1: Find the name of the apps with largest file size in each category. Report category name, app name and its corresponding file size."
   ]
  },
  {
   "cell_type": "code",
   "execution_count": 15,
   "metadata": {},
   "outputs": [
    {
     "data": {
      "text/html": [
       "<div>\n",
       "<style scoped>\n",
       "    .dataframe tbody tr th:only-of-type {\n",
       "        vertical-align: middle;\n",
       "    }\n",
       "\n",
       "    .dataframe tbody tr th {\n",
       "        vertical-align: top;\n",
       "    }\n",
       "\n",
       "    .dataframe thead th {\n",
       "        text-align: right;\n",
       "    }\n",
       "</style>\n",
       "<table border=\"1\" class=\"dataframe\">\n",
       "  <thead>\n",
       "    <tr style=\"text-align: right;\">\n",
       "      <th></th>\n",
       "      <th>Category_Name</th>\n",
       "      <th>App_Name</th>\n",
       "      <th>File_Size</th>\n",
       "    </tr>\n",
       "  </thead>\n",
       "  <tbody>\n",
       "    <tr>\n",
       "      <th>0</th>\n",
       "      <td>Insurance</td>\n",
       "      <td>GEICO</td>\n",
       "      <td>199</td>\n",
       "    </tr>\n",
       "    <tr>\n",
       "      <th>1</th>\n",
       "      <td>Travel</td>\n",
       "      <td>Airbnb</td>\n",
       "      <td>283</td>\n",
       "    </tr>\n",
       "    <tr>\n",
       "      <th>2</th>\n",
       "      <td>Shopping</td>\n",
       "      <td>Amazon</td>\n",
       "      <td>160</td>\n",
       "    </tr>\n",
       "    <tr>\n",
       "      <th>3</th>\n",
       "      <td>Financial</td>\n",
       "      <td>Chase</td>\n",
       "      <td>259</td>\n",
       "    </tr>\n",
       "    <tr>\n",
       "      <th>4</th>\n",
       "      <td>Game</td>\n",
       "      <td>Fruit Ninja</td>\n",
       "      <td>268</td>\n",
       "    </tr>\n",
       "    <tr>\n",
       "      <th>5</th>\n",
       "      <td>Social</td>\n",
       "      <td>Instagram</td>\n",
       "      <td>254</td>\n",
       "    </tr>\n",
       "  </tbody>\n",
       "</table>\n",
       "</div>"
      ],
      "text/plain": [
       "  Category_Name     App_Name  File_Size\n",
       "0     Insurance        GEICO        199\n",
       "1        Travel       Airbnb        283\n",
       "2      Shopping       Amazon        160\n",
       "3     Financial        Chase        259\n",
       "4          Game  Fruit Ninja        268\n",
       "5        Social   Instagram         254"
      ]
     },
     "execution_count": 15,
     "metadata": {},
     "output_type": "execute_result"
    }
   ],
   "source": [
    "query1 = \"\"\"\n",
    "    SELECT c.Category_Name, App_Name, MAX(File_Size) as File_Size FROM apps a\n",
    "    INNER JOIN Categories c\n",
    "    ON a.Category_Id = c.Category_Id\n",
    "    GROUP BY a.Category_Id;\n",
    "\"\"\"\n",
    "pd.read_sql_query(query1, conn)"
   ]
  },
  {
   "cell_type": "markdown",
   "metadata": {},
   "source": [
    "#### Query 2: Find the average rating for apps for each login method and each category."
   ]
  },
  {
   "cell_type": "code",
   "execution_count": 16,
   "metadata": {},
   "outputs": [
    {
     "data": {
      "text/html": [
       "<div>\n",
       "<style scoped>\n",
       "    .dataframe tbody tr th:only-of-type {\n",
       "        vertical-align: middle;\n",
       "    }\n",
       "\n",
       "    .dataframe tbody tr th {\n",
       "        vertical-align: top;\n",
       "    }\n",
       "\n",
       "    .dataframe thead th {\n",
       "        text-align: right;\n",
       "    }\n",
       "</style>\n",
       "<table border=\"1\" class=\"dataframe\">\n",
       "  <thead>\n",
       "    <tr style=\"text-align: right;\">\n",
       "      <th></th>\n",
       "      <th>Login_Method</th>\n",
       "      <th>Category_Name</th>\n",
       "      <th>Avg_Rating</th>\n",
       "    </tr>\n",
       "  </thead>\n",
       "  <tbody>\n",
       "    <tr>\n",
       "      <th>0</th>\n",
       "      <td>Face ID</td>\n",
       "      <td>Insurance</td>\n",
       "      <td>3.400000</td>\n",
       "    </tr>\n",
       "    <tr>\n",
       "      <th>1</th>\n",
       "      <td>Face ID</td>\n",
       "      <td>Financial</td>\n",
       "      <td>2.500000</td>\n",
       "    </tr>\n",
       "    <tr>\n",
       "      <th>2</th>\n",
       "      <td>Password</td>\n",
       "      <td>Insurance</td>\n",
       "      <td>3.500000</td>\n",
       "    </tr>\n",
       "    <tr>\n",
       "      <th>3</th>\n",
       "      <td>Password</td>\n",
       "      <td>Travel</td>\n",
       "      <td>3.428571</td>\n",
       "    </tr>\n",
       "    <tr>\n",
       "      <th>4</th>\n",
       "      <td>Password</td>\n",
       "      <td>Social</td>\n",
       "      <td>2.857143</td>\n",
       "    </tr>\n",
       "    <tr>\n",
       "      <th>5</th>\n",
       "      <td>Password</td>\n",
       "      <td>Shopping</td>\n",
       "      <td>2.500000</td>\n",
       "    </tr>\n",
       "    <tr>\n",
       "      <th>6</th>\n",
       "      <td>Password</td>\n",
       "      <td>Game</td>\n",
       "      <td>2.000000</td>\n",
       "    </tr>\n",
       "    <tr>\n",
       "      <th>7</th>\n",
       "      <td>Password</td>\n",
       "      <td>Financial</td>\n",
       "      <td>2.000000</td>\n",
       "    </tr>\n",
       "  </tbody>\n",
       "</table>\n",
       "</div>"
      ],
      "text/plain": [
       "  Login_Method Category_Name  Avg_Rating\n",
       "0      Face ID     Insurance    3.400000\n",
       "1      Face ID     Financial    2.500000\n",
       "2     Password     Insurance    3.500000\n",
       "3     Password        Travel    3.428571\n",
       "4     Password        Social    2.857143\n",
       "5     Password      Shopping    2.500000\n",
       "6     Password          Game    2.000000\n",
       "7     Password     Financial    2.000000"
      ]
     },
     "execution_count": 16,
     "metadata": {},
     "output_type": "execute_result"
    }
   ],
   "source": [
    "query2 = \"\"\"\n",
    "SELECT a.Login_Method, l.Category_Name, AVG(u.User_Rating) as Avg_Rating FROM users u\n",
    "LEFT JOIN apps a\n",
    "    ON u.App_Id = a.App_Id \n",
    "LEFT JOIN categories l\n",
    "    ON a.Category_Id = l.Category_Id\n",
    "GROUP BY a.Login_Method, l.Category_Id\n",
    "ORDER BY a.Login_Method, AVG(u.User_Rating) DESC\n",
    "\"\"\"\n",
    "pd.read_sql_query(query2, conn)"
   ]
  },
  {
   "cell_type": "markdown",
   "metadata": {},
   "source": [
    "#### Query 3: Find the total file size of the apps that require location access but not photo access for each person"
   ]
  },
  {
   "cell_type": "code",
   "execution_count": 17,
   "metadata": {},
   "outputs": [
    {
     "data": {
      "text/html": [
       "<div>\n",
       "<style scoped>\n",
       "    .dataframe tbody tr th:only-of-type {\n",
       "        vertical-align: middle;\n",
       "    }\n",
       "\n",
       "    .dataframe tbody tr th {\n",
       "        vertical-align: top;\n",
       "    }\n",
       "\n",
       "    .dataframe thead th {\n",
       "        text-align: right;\n",
       "    }\n",
       "</style>\n",
       "<table border=\"1\" class=\"dataframe\">\n",
       "  <thead>\n",
       "    <tr style=\"text-align: right;\">\n",
       "      <th></th>\n",
       "      <th>User_Name</th>\n",
       "      <th>Total_File_Size</th>\n",
       "    </tr>\n",
       "  </thead>\n",
       "  <tbody>\n",
       "    <tr>\n",
       "      <th>0</th>\n",
       "      <td>Roy</td>\n",
       "      <td>1059</td>\n",
       "    </tr>\n",
       "    <tr>\n",
       "      <th>1</th>\n",
       "      <td>David</td>\n",
       "      <td>1297</td>\n",
       "    </tr>\n",
       "    <tr>\n",
       "      <th>2</th>\n",
       "      <td>Diyu</td>\n",
       "      <td>56</td>\n",
       "    </tr>\n",
       "    <tr>\n",
       "      <th>3</th>\n",
       "      <td>Taylor</td>\n",
       "      <td>834</td>\n",
       "    </tr>\n",
       "  </tbody>\n",
       "</table>\n",
       "</div>"
      ],
      "text/plain": [
       "  User_Name  Total_File_Size\n",
       "0       Roy             1059\n",
       "1     David             1297\n",
       "2      Diyu               56\n",
       "3    Taylor              834"
      ]
     },
     "execution_count": 17,
     "metadata": {},
     "output_type": "execute_result"
    }
   ],
   "source": [
    "query3=\"\"\"\n",
    "SELECT u.User_Name, SUM(a.File_Size) as Total_File_Size FROM users u\n",
    "LEFT JOIN apps a\n",
    "    ON u.App_Id = a.App_Id \n",
    "WHERE a.Photo_Access = 'No' AND a.Location_Access = 'Yes'\n",
    "GROUP BY User_Id\n",
    "\"\"\"\n",
    "\n",
    "pd.read_sql_query(query3, conn)"
   ]
  },
  {
   "cell_type": "markdown",
   "metadata": {},
   "source": [
    "#### Query 4: Order apps by popularity and if there is tie, sort by average rating in descending order."
   ]
  },
  {
   "cell_type": "code",
   "execution_count": 18,
   "metadata": {},
   "outputs": [
    {
     "data": {
      "text/html": [
       "<div>\n",
       "<style scoped>\n",
       "    .dataframe tbody tr th:only-of-type {\n",
       "        vertical-align: middle;\n",
       "    }\n",
       "\n",
       "    .dataframe tbody tr th {\n",
       "        vertical-align: top;\n",
       "    }\n",
       "\n",
       "    .dataframe thead th {\n",
       "        text-align: right;\n",
       "    }\n",
       "</style>\n",
       "<table border=\"1\" class=\"dataframe\">\n",
       "  <thead>\n",
       "    <tr style=\"text-align: right;\">\n",
       "      <th></th>\n",
       "      <th>App_Name</th>\n",
       "      <th>Avg_Rating</th>\n",
       "      <th>Count_App</th>\n",
       "    </tr>\n",
       "  </thead>\n",
       "  <tbody>\n",
       "    <tr>\n",
       "      <th>0</th>\n",
       "      <td>GEICO</td>\n",
       "      <td>3.333333</td>\n",
       "      <td>3</td>\n",
       "    </tr>\n",
       "    <tr>\n",
       "      <th>1</th>\n",
       "      <td>Instagram</td>\n",
       "      <td>4.500000</td>\n",
       "      <td>2</td>\n",
       "    </tr>\n",
       "    <tr>\n",
       "      <th>2</th>\n",
       "      <td>Booking.com</td>\n",
       "      <td>4.000000</td>\n",
       "      <td>2</td>\n",
       "    </tr>\n",
       "    <tr>\n",
       "      <th>3</th>\n",
       "      <td>Fly Delta</td>\n",
       "      <td>4.000000</td>\n",
       "      <td>2</td>\n",
       "    </tr>\n",
       "    <tr>\n",
       "      <th>4</th>\n",
       "      <td>Aetna Health</td>\n",
       "      <td>3.500000</td>\n",
       "      <td>2</td>\n",
       "    </tr>\n",
       "    <tr>\n",
       "      <th>5</th>\n",
       "      <td>StateFarm</td>\n",
       "      <td>3.500000</td>\n",
       "      <td>2</td>\n",
       "    </tr>\n",
       "    <tr>\n",
       "      <th>6</th>\n",
       "      <td>Airbnb</td>\n",
       "      <td>3.000000</td>\n",
       "      <td>2</td>\n",
       "    </tr>\n",
       "    <tr>\n",
       "      <th>7</th>\n",
       "      <td>Amazon</td>\n",
       "      <td>2.500000</td>\n",
       "      <td>2</td>\n",
       "    </tr>\n",
       "    <tr>\n",
       "      <th>8</th>\n",
       "      <td>WSOP</td>\n",
       "      <td>2.500000</td>\n",
       "      <td>2</td>\n",
       "    </tr>\n",
       "    <tr>\n",
       "      <th>9</th>\n",
       "      <td>WeChat</td>\n",
       "      <td>2.000000</td>\n",
       "      <td>2</td>\n",
       "    </tr>\n",
       "    <tr>\n",
       "      <th>10</th>\n",
       "      <td>Clash Royale</td>\n",
       "      <td>1.500000</td>\n",
       "      <td>2</td>\n",
       "    </tr>\n",
       "    <tr>\n",
       "      <th>11</th>\n",
       "      <td>BofA</td>\n",
       "      <td>4.000000</td>\n",
       "      <td>1</td>\n",
       "    </tr>\n",
       "    <tr>\n",
       "      <th>12</th>\n",
       "      <td>Twitter</td>\n",
       "      <td>3.000000</td>\n",
       "      <td>1</td>\n",
       "    </tr>\n",
       "    <tr>\n",
       "      <th>13</th>\n",
       "      <td>Facebook</td>\n",
       "      <td>2.000000</td>\n",
       "      <td>1</td>\n",
       "    </tr>\n",
       "    <tr>\n",
       "      <th>14</th>\n",
       "      <td>Fruit Ninja</td>\n",
       "      <td>2.000000</td>\n",
       "      <td>1</td>\n",
       "    </tr>\n",
       "    <tr>\n",
       "      <th>15</th>\n",
       "      <td>Slack</td>\n",
       "      <td>2.000000</td>\n",
       "      <td>1</td>\n",
       "    </tr>\n",
       "    <tr>\n",
       "      <th>16</th>\n",
       "      <td>Uber</td>\n",
       "      <td>2.000000</td>\n",
       "      <td>1</td>\n",
       "    </tr>\n",
       "    <tr>\n",
       "      <th>17</th>\n",
       "      <td>Venmo</td>\n",
       "      <td>2.000000</td>\n",
       "      <td>1</td>\n",
       "    </tr>\n",
       "    <tr>\n",
       "      <th>18</th>\n",
       "      <td>Chase</td>\n",
       "      <td>1.000000</td>\n",
       "      <td>1</td>\n",
       "    </tr>\n",
       "  </tbody>\n",
       "</table>\n",
       "</div>"
      ],
      "text/plain": [
       "        App_Name  Avg_Rating  Count_App\n",
       "0          GEICO    3.333333          3\n",
       "1     Instagram     4.500000          2\n",
       "2    Booking.com    4.000000          2\n",
       "3      Fly Delta    4.000000          2\n",
       "4   Aetna Health    3.500000          2\n",
       "5      StateFarm    3.500000          2\n",
       "6         Airbnb    3.000000          2\n",
       "7         Amazon    2.500000          2\n",
       "8           WSOP    2.500000          2\n",
       "9         WeChat    2.000000          2\n",
       "10  Clash Royale    1.500000          2\n",
       "11          BofA    4.000000          1\n",
       "12       Twitter    3.000000          1\n",
       "13      Facebook    2.000000          1\n",
       "14   Fruit Ninja    2.000000          1\n",
       "15         Slack    2.000000          1\n",
       "16          Uber    2.000000          1\n",
       "17         Venmo    2.000000          1\n",
       "18         Chase    1.000000          1"
      ]
     },
     "execution_count": 18,
     "metadata": {},
     "output_type": "execute_result"
    }
   ],
   "source": [
    "query4 = \"\"\"\n",
    "SELECT a.App_Name, AVG(u.User_Rating) as Avg_Rating, COUNT(a.App_Name) as Count_App FROM users u\n",
    "LEFT JOIN apps a\n",
    "    ON u.App_Id = a.App_Id \n",
    "GROUP BY a.App_Name\n",
    "ORDER BY COUNT(a.App_Name) DESC, AVG(u.User_Rating) DESC\n",
    "\"\"\"\n",
    "pd.read_sql_query(query4, conn)"
   ]
  },
  {
   "cell_type": "markdown",
   "metadata": {},
   "source": [
    "### Close cursor and database connection"
   ]
  },
  {
   "cell_type": "code",
   "execution_count": 19,
   "metadata": {},
   "outputs": [],
   "source": [
    "cursor.close()\n",
    "conn.close()"
   ]
  }
 ],
 "metadata": {
  "kernelspec": {
   "display_name": "Python 3",
   "language": "python",
   "name": "python3"
  },
  "language_info": {
   "codemirror_mode": {
    "name": "ipython",
    "version": 3
   },
   "file_extension": ".py",
   "mimetype": "text/x-python",
   "name": "python",
   "nbconvert_exporter": "python",
   "pygments_lexer": "ipython3",
   "version": "3.7.6"
  }
 },
 "nbformat": 4,
 "nbformat_minor": 4
}
