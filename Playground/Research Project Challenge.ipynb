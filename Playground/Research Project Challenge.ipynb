{
 "cells": [
  {
   "cell_type": "markdown",
   "metadata": {},
   "source": [
    "# Research Project Challenge\n",
    "\n",
    "- Name: Congxin (David) Xu\n",
    "- Date: 2020-11-08\n",
    "\n",
    "\n",
    "Our research partners are in need of our help to analyze `NIH All of Us COPE` survey data. They are about to launch a new survey and want \"to anticipate, based on previous survey results, places where we might expect issues or challenges when we launch the new survey\". Specific items like: response counts, skip rates, and response frequency distribution for each question should be included along with any other metrics you can think of that will help the researchers identify questions that are potentially problematic (e.g, low response rates, no variability). If they identify questions (or wording of questions) that don't provide much information they will be able to update/modify the questions on the new survey to help get better information.\n",
    "\n",
    "One challenge is that due to privacy reasons they can't give us access the data. So we will have to make do with the attached codebook and simulated survey response data.\n",
    "\n",
    "Tasks:\n",
    "\n",
    "1) Use the attached codebook to generate synthetic response data. Add some categorical demographic attributes (e.g., racial identity, gender identity, age category).\n",
    "\n",
    "    a) All the questions in the attached codebook should be included. The responses don't have to be realistic. Our research partners will replace your synthetic data with their real data and re-run your notebook. But do be sure to include values that correspond to non-responses.\n",
    "\n",
    "    b) Attach a separate script that generates the synthetic data. I would expect the actual data will be a csv file with one row per respondent and one column per question plus columns for user id and demographic information.\n",
    "\n",
    " \n",
    "\n",
    "2) Create a Jupyter Notebook that performs the operational analysis for each question.\n",
    "\n",
    "    a) Make it clear what type of input data is expected so our research partners can easily use their actual data in place of your synthetic data.\n",
    "    \n",
    "    b) There should be an analysis for each question, and possibly for each question group (if it makes sense).\n",
    "    \n",
    "    c) Provide a way for our partners to stratify these metrics across various demographic categories, for instance skip rates by racial identity.\n",
    "\n",
    " \n",
    "\n",
    "3) Notes that briefly describe the parts of the notebook that need improving if you were given more time.\n",
    "\n",
    " \n",
    "\n",
    " \n",
    "\n",
    "Data sources:\n",
    "\n",
    " \n",
    "\n",
    "https://www.nlm.nih.gov/dr2/COPE_Survey_NIH_All_of_Us_Clean_4.27.20.pdf\n",
    "\n",
    "Screenshots of the main path from May and June COPE screens: https://sites.google.com/view/user-journeys-aou-portal/consents/cope-survey\n",
    "\n",
    " \n",
    "\n",
    "In the codebook, \n",
    "- look particularly at the “type” column to identify which rows represent questions, and which are answers, and \n",
    "- PMI Code will tell you what the question will be named in the database. F\n",
    "- or questions, you can see the “answer type” column to know what sort of response to expect. \n",
    "- For answers, the parent code shows you what question(s) this response belongs to.\n",
    "\n",
    " \n",
    "\n",
    "Note: similar to most \"real-world\" problems, the assignment is rather vague and you have limited time to complete it. We are looking for easy to follow code and informative analytics; anticipate that our partners will have to tweak your code in some places. We will select the top few submissions and work with you to further develop your notebook to meet the needs of our partners. There are many other research tasks that we also need help with.\n",
    "\n",
    " \n",
    "\n",
    "Deliverables:\n",
    "\n",
    "1) Script to generate synthetic survey results\n",
    "\n",
    "2) Jupyter Notebook to analyze the survey data\n",
    "\n",
    "3) Notes\n",
    "\n",
    " \n",
    "\n",
    "The above tasks are designed to be independent work so please explain your assumptions in the report.\n",
    "\n",
    "Please send your deliverables to us by Sunday Nov 8th 11pm."
   ]
  },
  {
   "cell_type": "code",
   "execution_count": 1,
   "metadata": {},
   "outputs": [],
   "source": [
    "import pandas\n",
    "import numpy"
   ]
  },
  {
   "cell_type": "markdown",
   "metadata": {},
   "source": [
    "Reference:\n",
    "Race Category: https://grants.nih.gov/grants/guide/notice-files/not-od-15-089.html#:~:text=The%20revised%20standards%20contain%20five,%22Not%20Hispanic%20or%20Latino.%22"
   ]
  }
 ],
 "metadata": {
  "kernelspec": {
   "display_name": "Python 3",
   "language": "python",
   "name": "python3"
  },
  "language_info": {
   "codemirror_mode": {
    "name": "ipython",
    "version": 3
   },
   "file_extension": ".py",
   "mimetype": "text/x-python",
   "name": "python",
   "nbconvert_exporter": "python",
   "pygments_lexer": "ipython3",
   "version": "3.7.6"
  }
 },
 "nbformat": 4,
 "nbformat_minor": 4
}
