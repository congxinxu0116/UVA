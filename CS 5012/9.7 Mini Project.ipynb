{
 "cells": [
  {
   "cell_type": "markdown",
   "metadata": {},
   "source": [
    "# 9.7 Mini Project: SQLite DB Creation\n",
    "- Member: \n",
    "    - Congxin (David) Xu - cx2rx\n",
    "    - Diyu Zheng - dz2fc"
   ]
  },
  {
   "cell_type": "markdown",
   "metadata": {},
   "source": [
    "### Database ER Diagram"
   ]
  },
  {
   "cell_type": "markdown",
   "metadata": {},
   "source": [
    "<img src=\"Mini Project ER Diagram.jpg\" width=\"1000\">|"
   ]
  },
  {
   "cell_type": "code",
   "execution_count": 1,
   "metadata": {},
   "outputs": [],
   "source": [
    "import sqlite3\n",
    "import pandas as pd"
   ]
  },
  {
   "cell_type": "code",
   "execution_count": 2,
   "metadata": {},
   "outputs": [],
   "source": [
    "# Create a connection to the database.\n",
    "conn = sqlite3.connect('apps_DB.db')\n",
    "\n",
    "# Create a cursor. A cursor is used to move around the database\n",
    "cursor = conn.cursor()"
   ]
  },
  {
   "cell_type": "markdown",
   "metadata": {},
   "source": [
    "#### Creating Tables"
   ]
  },
  {
   "cell_type": "code",
   "execution_count": 3,
   "metadata": {},
   "outputs": [],
   "source": [
    "# SQLite does not have a seperate Boolean storage class\n",
    "sql_create_apps = \"\"\"\n",
    "    CREATE TABLE apps(\n",
    "        App_Id INTEGER,\n",
    "        App_Name TEXT,\n",
    "        Category_Id INTEGER,\n",
    "        Login_Method TEXT,\n",
    "        File_Size INTEGER,\n",
    "        Photo_Access TEXT, \n",
    "        Location_Access TEXT,\n",
    "        Allow_Notification TEXT,\n",
    "        PRIMARY KEY(App_Id),\n",
    "        FOREIGN KEY(Category_Id) REFERENCES categories(Category_Id)\n",
    "    );\n",
    "\"\"\""
   ]
  },
  {
   "cell_type": "code",
   "execution_count": 4,
   "metadata": {},
   "outputs": [
    {
     "output_type": "execute_result",
     "data": {
      "text/plain": [
       "<sqlite3.Cursor at 0x2aabd144f10>"
      ]
     },
     "metadata": {},
     "execution_count": 4
    }
   ],
   "source": [
    "# Use the cursor to execute the statement\n",
    "cursor.execute(sql_create_apps)"
   ]
  },
  {
   "cell_type": "code",
   "execution_count": 5,
   "metadata": {},
   "outputs": [],
   "source": [
    "sql_create_categories = \"\"\"\n",
    "    CREATE TABLE categories(\n",
    "        Category_Id INTEGER,\n",
    "        Category_Name TEXT,\n",
    "        PRIMARY KEY(Category_Id)\n",
    "    );\n",
    "\"\"\""
   ]
  },
  {
   "cell_type": "code",
   "execution_count": 6,
   "metadata": {},
   "outputs": [
    {
     "output_type": "execute_result",
     "data": {
      "text/plain": [
       "<sqlite3.Cursor at 0x2aabd144f10>"
      ]
     },
     "metadata": {},
     "execution_count": 6
    }
   ],
   "source": [
    "# Use the cursor to execute the statement\n",
    "cursor.execute(sql_create_categories)"
   ]
  },
  {
   "cell_type": "code",
   "execution_count": 7,
   "metadata": {},
   "outputs": [],
   "source": [
    "sql_create_users = \"\"\"\n",
    "    CREATE TABLE users(\n",
    "        User_Id INTEGER,\n",
    "        User_Name TEXT,\n",
    "        App_Id INTEGER,\n",
    "        User_Rating INTEGER,\n",
    "        PRIMARY KEY(User_Id, App_Id)\n",
    "    );\n",
    "\"\"\""
   ]
  },
  {
   "cell_type": "code",
   "execution_count": 8,
   "metadata": {},
   "outputs": [
    {
     "output_type": "execute_result",
     "data": {
      "text/plain": [
       "<sqlite3.Cursor at 0x2aabd144f10>"
      ]
     },
     "metadata": {},
     "execution_count": 8
    }
   ],
   "source": [
    "# Use the cursor to execute the statement\n",
    "cursor.execute(sql_create_users)"
   ]
  },
  {
   "cell_type": "code",
   "execution_count": 9,
   "metadata": {},
   "outputs": [],
   "source": [
    "app = pd.read_excel(\"Mini SQL DB Design.xlsx\", sheet_name=\"App\")"
   ]
  },
  {
   "cell_type": "code",
   "execution_count": 10,
   "metadata": {},
   "outputs": [],
   "source": [
    "# change boolean to integer \n",
    "# boolean_map = {'Yes':1,'No':0}\n",
    "# app = app.replace({'Photo_Access':boolean_map,'Location_Access':boolean_map,'Allow_Notification':boolean_map})"
   ]
  },
  {
   "cell_type": "code",
   "execution_count": 10,
   "metadata": {},
   "outputs": [
    {
     "output_type": "execute_result",
     "data": {
      "text/plain": [
       "   App_Id      App_Name  Category_Id Login_Method  File_Size Photo_Access  \\\n",
       "0    1001  Aetna Health           11      Face ID         93           No   \n",
       "1    1002        Airbnb           12     Password        283           No   \n",
       "2    1003        Amazon           13     Password        160           No   \n",
       "3    1004          BofA           14      Face ID        173           No   \n",
       "4    1005   Booking.com           12     Password        164           No   \n",
       "\n",
       "  Location_Access Allow_Notification  \n",
       "0             Yes                 No  \n",
       "1             Yes                Yes  \n",
       "2             Yes                Yes  \n",
       "3             Yes                Yes  \n",
       "4             Yes                 No  "
      ],
      "text/html": "<div>\n<style scoped>\n    .dataframe tbody tr th:only-of-type {\n        vertical-align: middle;\n    }\n\n    .dataframe tbody tr th {\n        vertical-align: top;\n    }\n\n    .dataframe thead th {\n        text-align: right;\n    }\n</style>\n<table border=\"1\" class=\"dataframe\">\n  <thead>\n    <tr style=\"text-align: right;\">\n      <th></th>\n      <th>App_Id</th>\n      <th>App_Name</th>\n      <th>Category_Id</th>\n      <th>Login_Method</th>\n      <th>File_Size</th>\n      <th>Photo_Access</th>\n      <th>Location_Access</th>\n      <th>Allow_Notification</th>\n    </tr>\n  </thead>\n  <tbody>\n    <tr>\n      <th>0</th>\n      <td>1001</td>\n      <td>Aetna Health</td>\n      <td>11</td>\n      <td>Face ID</td>\n      <td>93</td>\n      <td>No</td>\n      <td>Yes</td>\n      <td>No</td>\n    </tr>\n    <tr>\n      <th>1</th>\n      <td>1002</td>\n      <td>Airbnb</td>\n      <td>12</td>\n      <td>Password</td>\n      <td>283</td>\n      <td>No</td>\n      <td>Yes</td>\n      <td>Yes</td>\n    </tr>\n    <tr>\n      <th>2</th>\n      <td>1003</td>\n      <td>Amazon</td>\n      <td>13</td>\n      <td>Password</td>\n      <td>160</td>\n      <td>No</td>\n      <td>Yes</td>\n      <td>Yes</td>\n    </tr>\n    <tr>\n      <th>3</th>\n      <td>1004</td>\n      <td>BofA</td>\n      <td>14</td>\n      <td>Face ID</td>\n      <td>173</td>\n      <td>No</td>\n      <td>Yes</td>\n      <td>Yes</td>\n    </tr>\n    <tr>\n      <th>4</th>\n      <td>1005</td>\n      <td>Booking.com</td>\n      <td>12</td>\n      <td>Password</td>\n      <td>164</td>\n      <td>No</td>\n      <td>Yes</td>\n      <td>No</td>\n    </tr>\n  </tbody>\n</table>\n</div>"
     },
     "metadata": {},
     "execution_count": 10
    }
   ],
   "source": [
    "app.to_sql('apps', conn, index = False, if_exists = 'append')\n",
    "app.head()"
   ]
  },
  {
   "cell_type": "code",
   "execution_count": 11,
   "metadata": {},
   "outputs": [
    {
     "output_type": "execute_result",
     "data": {
      "text/plain": [
       "   Category_Id Category_Name\n",
       "0           11     Insurance\n",
       "1           12        Travel\n",
       "2           13      Shopping\n",
       "3           14     Financial\n",
       "4           15          Game"
      ],
      "text/html": "<div>\n<style scoped>\n    .dataframe tbody tr th:only-of-type {\n        vertical-align: middle;\n    }\n\n    .dataframe tbody tr th {\n        vertical-align: top;\n    }\n\n    .dataframe thead th {\n        text-align: right;\n    }\n</style>\n<table border=\"1\" class=\"dataframe\">\n  <thead>\n    <tr style=\"text-align: right;\">\n      <th></th>\n      <th>Category_Id</th>\n      <th>Category_Name</th>\n    </tr>\n  </thead>\n  <tbody>\n    <tr>\n      <th>0</th>\n      <td>11</td>\n      <td>Insurance</td>\n    </tr>\n    <tr>\n      <th>1</th>\n      <td>12</td>\n      <td>Travel</td>\n    </tr>\n    <tr>\n      <th>2</th>\n      <td>13</td>\n      <td>Shopping</td>\n    </tr>\n    <tr>\n      <th>3</th>\n      <td>14</td>\n      <td>Financial</td>\n    </tr>\n    <tr>\n      <th>4</th>\n      <td>15</td>\n      <td>Game</td>\n    </tr>\n  </tbody>\n</table>\n</div>"
     },
     "metadata": {},
     "execution_count": 11
    }
   ],
   "source": [
    "category=pd.read_excel(\"Mini SQL DB Design.xlsx\", sheet_name=\"Category\")\n",
    "category.to_sql('categories',conn,index = False,if_exists = 'append')\n",
    "category.head()"
   ]
  },
  {
   "cell_type": "code",
   "execution_count": 12,
   "metadata": {},
   "outputs": [
    {
     "output_type": "execute_result",
     "data": {
      "text/plain": [
       "   User_Id User_Name  App_Id  User_Rating\n",
       "0     6001       Roy    1003            4\n",
       "1     6001       Roy    1010            2\n",
       "2     6001       Roy    1009            5\n",
       "3     6001       Roy    1017            2\n",
       "4     6001       Roy    1001            3"
      ],
      "text/html": "<div>\n<style scoped>\n    .dataframe tbody tr th:only-of-type {\n        vertical-align: middle;\n    }\n\n    .dataframe tbody tr th {\n        vertical-align: top;\n    }\n\n    .dataframe thead th {\n        text-align: right;\n    }\n</style>\n<table border=\"1\" class=\"dataframe\">\n  <thead>\n    <tr style=\"text-align: right;\">\n      <th></th>\n      <th>User_Id</th>\n      <th>User_Name</th>\n      <th>App_Id</th>\n      <th>User_Rating</th>\n    </tr>\n  </thead>\n  <tbody>\n    <tr>\n      <th>0</th>\n      <td>6001</td>\n      <td>Roy</td>\n      <td>1003</td>\n      <td>4</td>\n    </tr>\n    <tr>\n      <th>1</th>\n      <td>6001</td>\n      <td>Roy</td>\n      <td>1010</td>\n      <td>2</td>\n    </tr>\n    <tr>\n      <th>2</th>\n      <td>6001</td>\n      <td>Roy</td>\n      <td>1009</td>\n      <td>5</td>\n    </tr>\n    <tr>\n      <th>3</th>\n      <td>6001</td>\n      <td>Roy</td>\n      <td>1017</td>\n      <td>2</td>\n    </tr>\n    <tr>\n      <th>4</th>\n      <td>6001</td>\n      <td>Roy</td>\n      <td>1001</td>\n      <td>3</td>\n    </tr>\n  </tbody>\n</table>\n</div>"
     },
     "metadata": {},
     "execution_count": 12
    }
   ],
   "source": [
    "user=pd.read_excel(\"Mini SQL DB Design.xlsx\", sheet_name = \"User\")\n",
    "user.to_sql('users', conn, index = False, if_exists = 'append')\n",
    "user.head()"
   ]
  },
  {
   "cell_type": "code",
   "execution_count": 222,
   "metadata": {},
   "outputs": [
    {
     "data": {
      "text/html": [
       "<div>\n",
       "<style scoped>\n",
       "    .dataframe tbody tr th:only-of-type {\n",
       "        vertical-align: middle;\n",
       "    }\n",
       "\n",
       "    .dataframe tbody tr th {\n",
       "        vertical-align: top;\n",
       "    }\n",
       "\n",
       "    .dataframe thead th {\n",
       "        text-align: right;\n",
       "    }\n",
       "</style>\n",
       "<table border=\"1\" class=\"dataframe\">\n",
       "  <thead>\n",
       "    <tr style=\"text-align: right;\">\n",
       "      <th></th>\n",
       "      <th>0</th>\n",
       "      <th>1</th>\n",
       "    </tr>\n",
       "  </thead>\n",
       "  <tbody>\n",
       "    <tr>\n",
       "      <th>0</th>\n",
       "      <td>GEICO</td>\n",
       "      <td>199</td>\n",
       "    </tr>\n",
       "    <tr>\n",
       "      <th>1</th>\n",
       "      <td>Airbnb</td>\n",
       "      <td>283</td>\n",
       "    </tr>\n",
       "    <tr>\n",
       "      <th>2</th>\n",
       "      <td>Amazon</td>\n",
       "      <td>160</td>\n",
       "    </tr>\n",
       "    <tr>\n",
       "      <th>3</th>\n",
       "      <td>Chase</td>\n",
       "      <td>259</td>\n",
       "    </tr>\n",
       "    <tr>\n",
       "      <th>4</th>\n",
       "      <td>Fruit Ninja</td>\n",
       "      <td>268</td>\n",
       "    </tr>\n",
       "    <tr>\n",
       "      <th>5</th>\n",
       "      <td>Instagram</td>\n",
       "      <td>254</td>\n",
       "    </tr>\n",
       "  </tbody>\n",
       "</table>\n",
       "</div>"
      ],
      "text/plain": [
       "             0    1\n",
       "0        GEICO  199\n",
       "1       Airbnb  283\n",
       "2       Amazon  160\n",
       "3        Chase  259\n",
       "4  Fruit Ninja  268\n",
       "5   Instagram   254"
      ]
     },
     "execution_count": 222,
     "metadata": {},
     "output_type": "execute_result"
    }
   ],
   "source": [
    "# Query 1: Find the app name and file size in each category with the largest file size\n",
    "query1 = \"\"\"\n",
    "    SELECT App_Name, MAX(File_Size) as max_file_size FROM apps\n",
    "    GROUP BY Category_Id;\n",
    "\"\"\"\n",
    "result1 = cursor.execute(query1)\n",
    "pd.DataFrame(result1.fetchall())"
   ]
  },
  {
   "cell_type": "code",
   "execution_count": 236,
   "metadata": {},
   "outputs": [
    {
     "data": {
      "text/html": [
       "<div>\n",
       "<style scoped>\n",
       "    .dataframe tbody tr th:only-of-type {\n",
       "        vertical-align: middle;\n",
       "    }\n",
       "\n",
       "    .dataframe tbody tr th {\n",
       "        vertical-align: top;\n",
       "    }\n",
       "\n",
       "    .dataframe thead th {\n",
       "        text-align: right;\n",
       "    }\n",
       "</style>\n",
       "<table border=\"1\" class=\"dataframe\">\n",
       "  <thead>\n",
       "    <tr style=\"text-align: right;\">\n",
       "      <th></th>\n",
       "      <th>0</th>\n",
       "      <th>1</th>\n",
       "      <th>2</th>\n",
       "    </tr>\n",
       "  </thead>\n",
       "  <tbody>\n",
       "    <tr>\n",
       "      <th>0</th>\n",
       "      <td>Insurance</td>\n",
       "      <td>3.400000</td>\n",
       "      <td>Face ID</td>\n",
       "    </tr>\n",
       "    <tr>\n",
       "      <th>1</th>\n",
       "      <td>Financial</td>\n",
       "      <td>2.500000</td>\n",
       "      <td>Face ID</td>\n",
       "    </tr>\n",
       "    <tr>\n",
       "      <th>2</th>\n",
       "      <td>Insurance</td>\n",
       "      <td>3.500000</td>\n",
       "      <td>Password</td>\n",
       "    </tr>\n",
       "    <tr>\n",
       "      <th>3</th>\n",
       "      <td>Travel</td>\n",
       "      <td>3.428571</td>\n",
       "      <td>Password</td>\n",
       "    </tr>\n",
       "    <tr>\n",
       "      <th>4</th>\n",
       "      <td>Shopping</td>\n",
       "      <td>2.500000</td>\n",
       "      <td>Password</td>\n",
       "    </tr>\n",
       "    <tr>\n",
       "      <th>5</th>\n",
       "      <td>Financial</td>\n",
       "      <td>2.000000</td>\n",
       "      <td>Password</td>\n",
       "    </tr>\n",
       "    <tr>\n",
       "      <th>6</th>\n",
       "      <td>Game</td>\n",
       "      <td>2.000000</td>\n",
       "      <td>Password</td>\n",
       "    </tr>\n",
       "    <tr>\n",
       "      <th>7</th>\n",
       "      <td>Social</td>\n",
       "      <td>2.857143</td>\n",
       "      <td>Password</td>\n",
       "    </tr>\n",
       "  </tbody>\n",
       "</table>\n",
       "</div>"
      ],
      "text/plain": [
       "           0         1         2\n",
       "0  Insurance  3.400000   Face ID\n",
       "1  Financial  2.500000   Face ID\n",
       "2  Insurance  3.500000  Password\n",
       "3     Travel  3.428571  Password\n",
       "4   Shopping  2.500000  Password\n",
       "5  Financial  2.000000  Password\n",
       "6       Game  2.000000  Password\n",
       "7     Social  2.857143  Password"
      ]
     },
     "execution_count": 236,
     "metadata": {},
     "output_type": "execute_result"
    }
   ],
   "source": [
    "# Query 2: Find the average rating for apps for each login method and each category.\n",
    "query2 = \"\"\"\n",
    "SELECT Category_Name, AVG(User_Rating),Login_Method FROM users\n",
    "LEFT JOIN apps t\n",
    "    ON users.App_Id = t.App_Id \n",
    "LEFT JOIN categories l\n",
    "    ON t.Category_Id = l.Category_Id\n",
    "GROUP BY Login_Method, l.Category_Id\n",
    "\"\"\"\n",
    "result2 = cursor.execute(query2)\n",
    "pd.DataFrame(result2.fetchall())"
   ]
  },
  {
   "cell_type": "code",
   "execution_count": 226,
   "metadata": {},
   "outputs": [
    {
     "data": {
      "text/html": [
       "<div>\n",
       "<style scoped>\n",
       "    .dataframe tbody tr th:only-of-type {\n",
       "        vertical-align: middle;\n",
       "    }\n",
       "\n",
       "    .dataframe tbody tr th {\n",
       "        vertical-align: top;\n",
       "    }\n",
       "\n",
       "    .dataframe thead th {\n",
       "        text-align: right;\n",
       "    }\n",
       "</style>\n",
       "<table border=\"1\" class=\"dataframe\">\n",
       "  <thead>\n",
       "    <tr style=\"text-align: right;\">\n",
       "      <th></th>\n",
       "      <th>0</th>\n",
       "      <th>1</th>\n",
       "    </tr>\n",
       "  </thead>\n",
       "  <tbody>\n",
       "    <tr>\n",
       "      <th>0</th>\n",
       "      <td>Roy</td>\n",
       "      <td>1059</td>\n",
       "    </tr>\n",
       "    <tr>\n",
       "      <th>1</th>\n",
       "      <td>David</td>\n",
       "      <td>1297</td>\n",
       "    </tr>\n",
       "    <tr>\n",
       "      <th>2</th>\n",
       "      <td>Diyu</td>\n",
       "      <td>56</td>\n",
       "    </tr>\n",
       "    <tr>\n",
       "      <th>3</th>\n",
       "      <td>Taylor</td>\n",
       "      <td>834</td>\n",
       "    </tr>\n",
       "  </tbody>\n",
       "</table>\n",
       "</div>"
      ],
      "text/plain": [
       "        0     1\n",
       "0     Roy  1059\n",
       "1   David  1297\n",
       "2    Diyu    56\n",
       "3  Taylor   834"
      ]
     },
     "execution_count": 226,
     "metadata": {},
     "output_type": "execute_result"
    }
   ],
   "source": [
    "# Query 3: Find the total file size of the apps that require location access but not photo access for each person\n",
    "query3=\"\"\"\n",
    "SELECT User_Name,SUM(File_Size) FROM users \n",
    "LEFT JOIN apps t\n",
    "    ON users.App_Id = t.App_Id \n",
    "LEFT JOIN categories l\n",
    "    ON t.Category_Id = l.Category_Id\n",
    "WHERE Photo_Access = 0 AND Location_Access = 1\n",
    "GROUP BY User_Id\n",
    "\"\"\"\n",
    "\n",
    "result3 = cursor.execute(query3)\n",
    "pd.DataFrame(result3.fetchall())"
   ]
  },
  {
   "cell_type": "code",
   "execution_count": 157,
   "metadata": {},
   "outputs": [
    {
     "data": {
      "text/html": [
       "<div>\n",
       "<style scoped>\n",
       "    .dataframe tbody tr th:only-of-type {\n",
       "        vertical-align: middle;\n",
       "    }\n",
       "\n",
       "    .dataframe tbody tr th {\n",
       "        vertical-align: top;\n",
       "    }\n",
       "\n",
       "    .dataframe thead th {\n",
       "        text-align: right;\n",
       "    }\n",
       "</style>\n",
       "<table border=\"1\" class=\"dataframe\">\n",
       "  <thead>\n",
       "    <tr style=\"text-align: right;\">\n",
       "      <th></th>\n",
       "      <th>0</th>\n",
       "      <th>1</th>\n",
       "      <th>2</th>\n",
       "    </tr>\n",
       "  </thead>\n",
       "  <tbody>\n",
       "    <tr>\n",
       "      <th>0</th>\n",
       "      <td>Instagram</td>\n",
       "      <td>4.500000</td>\n",
       "      <td>2</td>\n",
       "    </tr>\n",
       "    <tr>\n",
       "      <th>1</th>\n",
       "      <td>Booking.com</td>\n",
       "      <td>4.000000</td>\n",
       "      <td>2</td>\n",
       "    </tr>\n",
       "    <tr>\n",
       "      <th>2</th>\n",
       "      <td>Fly Delta</td>\n",
       "      <td>4.000000</td>\n",
       "      <td>2</td>\n",
       "    </tr>\n",
       "    <tr>\n",
       "      <th>3</th>\n",
       "      <td>BofA</td>\n",
       "      <td>4.000000</td>\n",
       "      <td>1</td>\n",
       "    </tr>\n",
       "    <tr>\n",
       "      <th>4</th>\n",
       "      <td>Aetna Health</td>\n",
       "      <td>3.500000</td>\n",
       "      <td>2</td>\n",
       "    </tr>\n",
       "    <tr>\n",
       "      <th>5</th>\n",
       "      <td>StateFarm</td>\n",
       "      <td>3.500000</td>\n",
       "      <td>2</td>\n",
       "    </tr>\n",
       "    <tr>\n",
       "      <th>6</th>\n",
       "      <td>GEICO</td>\n",
       "      <td>3.333333</td>\n",
       "      <td>3</td>\n",
       "    </tr>\n",
       "    <tr>\n",
       "      <th>7</th>\n",
       "      <td>Airbnb</td>\n",
       "      <td>3.000000</td>\n",
       "      <td>2</td>\n",
       "    </tr>\n",
       "    <tr>\n",
       "      <th>8</th>\n",
       "      <td>Twitter</td>\n",
       "      <td>3.000000</td>\n",
       "      <td>1</td>\n",
       "    </tr>\n",
       "    <tr>\n",
       "      <th>9</th>\n",
       "      <td>Amazon</td>\n",
       "      <td>2.500000</td>\n",
       "      <td>2</td>\n",
       "    </tr>\n",
       "    <tr>\n",
       "      <th>10</th>\n",
       "      <td>WSOP</td>\n",
       "      <td>2.500000</td>\n",
       "      <td>2</td>\n",
       "    </tr>\n",
       "    <tr>\n",
       "      <th>11</th>\n",
       "      <td>WeChat</td>\n",
       "      <td>2.000000</td>\n",
       "      <td>2</td>\n",
       "    </tr>\n",
       "    <tr>\n",
       "      <th>12</th>\n",
       "      <td>Facebook</td>\n",
       "      <td>2.000000</td>\n",
       "      <td>1</td>\n",
       "    </tr>\n",
       "    <tr>\n",
       "      <th>13</th>\n",
       "      <td>Fruit Ninja</td>\n",
       "      <td>2.000000</td>\n",
       "      <td>1</td>\n",
       "    </tr>\n",
       "    <tr>\n",
       "      <th>14</th>\n",
       "      <td>Slack</td>\n",
       "      <td>2.000000</td>\n",
       "      <td>1</td>\n",
       "    </tr>\n",
       "    <tr>\n",
       "      <th>15</th>\n",
       "      <td>Uber</td>\n",
       "      <td>2.000000</td>\n",
       "      <td>1</td>\n",
       "    </tr>\n",
       "    <tr>\n",
       "      <th>16</th>\n",
       "      <td>Venmo</td>\n",
       "      <td>2.000000</td>\n",
       "      <td>1</td>\n",
       "    </tr>\n",
       "    <tr>\n",
       "      <th>17</th>\n",
       "      <td>Clash Royale</td>\n",
       "      <td>1.500000</td>\n",
       "      <td>2</td>\n",
       "    </tr>\n",
       "    <tr>\n",
       "      <th>18</th>\n",
       "      <td>Chase</td>\n",
       "      <td>1.000000</td>\n",
       "      <td>1</td>\n",
       "    </tr>\n",
       "  </tbody>\n",
       "</table>\n",
       "</div>"
      ],
      "text/plain": [
       "               0         1  2\n",
       "0     Instagram   4.500000  2\n",
       "1    Booking.com  4.000000  2\n",
       "2      Fly Delta  4.000000  2\n",
       "3           BofA  4.000000  1\n",
       "4   Aetna Health  3.500000  2\n",
       "5      StateFarm  3.500000  2\n",
       "6          GEICO  3.333333  3\n",
       "7         Airbnb  3.000000  2\n",
       "8        Twitter  3.000000  1\n",
       "9         Amazon  2.500000  2\n",
       "10          WSOP  2.500000  2\n",
       "11        WeChat  2.000000  2\n",
       "12      Facebook  2.000000  1\n",
       "13   Fruit Ninja  2.000000  1\n",
       "14         Slack  2.000000  1\n",
       "15          Uber  2.000000  1\n",
       "16         Venmo  2.000000  1\n",
       "17  Clash Royale  1.500000  2\n",
       "18         Chase  1.000000  1"
      ]
     },
     "execution_count": 157,
     "metadata": {},
     "output_type": "execute_result"
    }
   ],
   "source": [
    "# Query 4: Order apps by popularity and if there is tie, sort by average rating in descending order.\n",
    "query4 = \"\"\"\n",
    "SELECT App_Name, AVG(User_Rating) as avg_rating, COUNT(App_Name) as count_app FROM users\n",
    "LEFT JOIN apps\n",
    "    ON users.App_Id = apps.App_Id \n",
    "GROUP BY App_Name\n",
    "ORDER BY avg_rating DESC, count_app DESC\n",
    "\"\"\"\n",
    "result4 = cursor.execute(query4)\n",
    "pd.DataFrame(result4.fetchall())"
   ]
  },
  {
   "cell_type": "code",
   "execution_count": 13,
   "metadata": {},
   "outputs": [],
   "source": [
    "# Use the cursor to close the connection to the database, now that we're done.\n",
    "cursor.close()\n",
    "\n",
    "# When you run this file, if everything went well, look in the directory\n",
    "# where you saved the script (create_db.py). You should see a new file there:\n",
    "# mytest.db. \n",
    "# If you do not, double-check what script you ran and where it is saved. "
   ]
  },
  {
   "cell_type": "code",
   "execution_count": null,
   "metadata": {},
   "outputs": [],
   "source": []
  }
 ],
 "metadata": {
  "kernelspec": {
   "display_name": "Python 3",
   "language": "python",
   "name": "python3"
  },
  "language_info": {
   "codemirror_mode": {
    "name": "ipython",
    "version": 3
   },
   "file_extension": ".py",
   "mimetype": "text/x-python",
   "name": "python",
   "nbconvert_exporter": "python",
   "pygments_lexer": "ipython3",
   "version": "3.7.6-final"
  }
 },
 "nbformat": 4,
 "nbformat_minor": 4
}