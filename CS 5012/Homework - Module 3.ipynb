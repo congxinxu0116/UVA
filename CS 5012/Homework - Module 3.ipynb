{
 "cells": [
  {
   "cell_type": "markdown",
   "metadata": {},
   "source": [
    "# Module 3 Homework\n",
    "- Name: Congxin (David) Xu\n",
    "- Computing ID: cx2rx\n",
    "\n",
    "### 3.6.2 Homework: Computing order statistics (Randomized Selection Algorithm)\n",
    "Computing the $j$th order statistic, i.e., the $j$th smallest element of $A[1..n]$ can be done effectively. Describe and implement (in Python) this algorithm and discuss its complexity. "
   ]
  },
  {
   "cell_type": "code",
   "execution_count": 1,
   "metadata": {},
   "outputs": [],
   "source": [
    "import random\n",
    "\n",
    "def partition(A, p, r):\n",
    "    \"\"\"\n",
    "        input type A: List[int,...], an integer list to find the ith smallest\n",
    "        input type p: int, the first index position of the list\n",
    "        input type r: int, the last index position of the list \n",
    "        return type i + 1: int, the index where we can partition the list A\n",
    "                                in place into two parts, so that all the \n",
    "                                elements in the first part is less than any\n",
    "                                elements in the second part\n",
    "    \"\"\"\n",
    "    # Define x to be the last position of the list\n",
    "    # Let i be p - 1, i will be a tracking number for the number of \n",
    "    #   elements that is less than or equal to x\n",
    "    x = A[r]\n",
    "    i = p - 1\n",
    "    \n",
    "    # For all elements between index p and r, \n",
    "    # if the element is less than x, swtich that element\n",
    "    # with the ith element\n",
    "    for j in range(p, r):\n",
    "        if A[j] <= x:\n",
    "            i += 1\n",
    "            A[i], A[j] = A[j], A[i] \n",
    "            \n",
    "            \n",
    "    # Switch the last element with the first element in the second part\n",
    "    #   of partition that is greater than x\n",
    "    A[i+1], A[r] = A[r], A[i+1]\n",
    "    \n",
    "    # Return the index that partition the list into two parts\n",
    "    return i + 1\n",
    "    \n"
   ]
  },
  {
   "cell_type": "code",
   "execution_count": 2,
   "metadata": {},
   "outputs": [],
   "source": [
    "def randommizedPartition(A, p, r):\n",
    "    \"\"\"\n",
    "        input type A: List[int,...], an integer list to find the ith smallest\n",
    "        input type p: int, the first index position of the list\n",
    "        input type r: int, the last index position of the list \n",
    "    \"\"\"\n",
    "    # Generate a random integer between p and r\n",
    "    i = random.randint(p, r)\n",
    "    \n",
    "    # switch the values at position i with the last value in list A\n",
    "    A[r], A[i] = A[i], A[r]\n",
    "\n",
    "    # Return the result of partition\n",
    "    return partition(A, p ,r)"
   ]
  },
  {
   "cell_type": "code",
   "execution_count": 8,
   "metadata": {},
   "outputs": [
    {
     "name": "stdout",
     "output_type": "stream",
     "text": [
      "0\n",
      "1\n",
      "2\n",
      "2\n",
      "3\n",
      "4\n",
      "5\n",
      "6\n",
      "6\n",
      "6\n",
      "6\n",
      "6\n"
     ]
    }
   ],
   "source": [
    "def ithSmallest(A, i, p, r):\n",
    "    \"\"\"\n",
    "        input type A: List[int,...], an integer list to find the ith smallest\n",
    "        input type i: int, the ith smallest integer\n",
    "        input type p: int, the first index position of the list\n",
    "        input type r: int, the last index position of the list  \n",
    "    \"\"\"\n",
    "    # If the first index position is equal to the last index position, \n",
    "    #   return the value at that position in A.\n",
    "    if p == r:\n",
    "        return A[p]\n",
    "    # Random Paritition the list A using p and r\n",
    "    # q will be the index position that randomly parition the data into \n",
    "    #   two parts\n",
    "    q = randommizedPartition(A, p, r)\n",
    "    \n",
    "    # k will be the partition index minus the first index position of \n",
    "    #   the list plus 1, which is the ith smallest number \n",
    "    k = q - p + 1 \n",
    "    \n",
    "    # if i == k, we found what we are looking for\n",
    "    if i == k:\n",
    "        return A[q]\n",
    "    # if i is less than k, we only need to look at the first half of the partition\n",
    "    elif i < k:\n",
    "        return ithSmallest(A = A, i = i, p = p, r = q - 1)\n",
    "    # if i is greater than or equal to k, we only need to look at the second half of the partition\n",
    "    else:\n",
    "        return ithSmallest(A = A, i = i - k, p = q + 1, r = r)"
   ]
  },
  {
   "cell_type": "code",
   "execution_count": null,
   "metadata": {},
   "outputs": [],
   "source": [
    "A = [2,8,7,1,3,5,6,4]\n",
    "partition(A, 0, 7)\n",
    "\n",
    "A = [1,6,6,6,2,2,0,3,4,5,6,6,6]\n",
    "\n",
    "for i in range(1, len(A)):\n",
    "    print(ithSmallest(A, i = i, p = 0, r = len(A) - 1))"
   ]
  },
  {
   "cell_type": "markdown",
   "metadata": {},
   "source": [
    "### 3.6.3 Homework: 2-SUM problem\n",
    "The 2-SUM problem is introduced here. Implement this algorithm in Python using hash tables.\n",
    "\n",
    "Given an array of integers `nums` and an integer `target`, return indices of the two numbers such that they add up to `target`.\n",
    "\n",
    "You may assume that each input would have exactly one solution, and you may not use the same element twice.\n",
    "\n",
    "You can return the answer in any order."
   ]
  },
  {
   "cell_type": "code",
   "execution_count": null,
   "metadata": {},
   "outputs": [],
   "source": [
    "def twoSum(nums, target):\n",
    "    \"\"\"\n",
    "        :input type nums: List[int]\n",
    "        :input type target: int\n",
    "        :return type: List[int, int]\n",
    "    \"\"\"\n",
    "    # Create a hash table to store the difference between target and the current value\n",
    "    h = dict()\n",
    "    # For each index, value pair in nums:\n",
    "    for index, value in enumerate(nums):\n",
    "        # Calculate the difference between target and value\n",
    "        diff = target - value\n",
    "        # if the difference is not in the hash table, add value as the \"key\" to the  \n",
    "        #   hash table and index as \"value\" associated with that \"key\"        \n",
    "        if (diff not in h):\n",
    "            h[value] = index\n",
    "        # if the difference betwen target and value is already in the hash table, \n",
    "        #   we found what we are looking for, so we are going to return the two \n",
    "        #   index where its value sums up to the target. The first index stored in \n",
    "        #   the hash table with key = difference and the second index is the current \n",
    "        #   index value in the for loop.\n",
    "        else:\n",
    "            return [h[diff], index]"
   ]
  },
  {
   "cell_type": "markdown",
   "metadata": {},
   "source": [
    "### Extra Credit: 3-SUM Problem\n",
    "Given an array nums of $n$ integers, are there elements $a, b, c$ in nums such that $a + b + c = 0$? Find all unique triplets in the array which gives the sum of zero.\n",
    "\n",
    "Notice that the solution set must not contain duplicate triplets."
   ]
  },
  {
   "cell_type": "code",
   "execution_count": null,
   "metadata": {},
   "outputs": [],
   "source": [
    "def threeSum(nums, target = 0):\n",
    "    \"\"\"\n",
    "        :input type nums: List[int]\n",
    "        :input type target: int, default to be 0, I add this because this function\n",
    "                                 can be used to find any other targets as well\n",
    "        :return type: List[List[int]]\n",
    "    \"\"\"\n",
    "    # Check to see if the list only have 2 or less elements\n",
    "    if len(nums) < 3:\n",
    "        return []\n",
    "    else:\n",
    "        # Sort the list from low to high\n",
    "        nums.sort()        \n",
    "        # Create a set to store the output \n",
    "        # Set does not accept duplicates, so it helps to remove the duplicate triplets\n",
    "        output = set()\n",
    "        # For each value in the nums list except the last two elements\n",
    "        for index, value in enumerate(nums[:-2]):\n",
    "            # Create a hash table for search. This table will be updated every time \n",
    "            #   when index and value are updated by the for loop.\n",
    "            h = dict()\n",
    "            # if the element we are looking at is the same as the previous element\n",
    "            #    we are going to skip it given the hash table already have what we need\n",
    "            if index >= 1 and value == nums[index - 1]:\n",
    "                continue\n",
    "            \n",
    "            # For each value starting from the one after index\n",
    "            for new in nums[index + 1:]:\n",
    "                # If the new is not in the hash table, \n",
    "                #   we are going to add the difference between target and the sum of value and new\n",
    "                #   as the key and any number as \"value\" to the hash table. The \"value\" added to the \n",
    "                #   hash table does not matter. You can use 42 or 1 or anything.\n",
    "                if new not in h:\n",
    "                    h[target - (value + new)] = 42\n",
    "                # If new is in h, we found a three sum triplet, because we previously got this number \n",
    "                #   before when we calculate the difference between target and sum of old new and value.\n",
    "                #   we are going add this triplet to the output set.\n",
    "                else:\n",
    "                    output.add((value, target - (value + new), new))\n",
    "    # Convert the set to list to match the output format\n",
    "    return list(map(list, output))"
   ]
  },
  {
   "cell_type": "code",
   "execution_count": null,
   "metadata": {},
   "outputs": [],
   "source": [
    "nums = [-1,0,1,2,-1,-4]\n",
    "threeSum(nums, 0)"
   ]
  }
 ],
 "metadata": {
  "kernelspec": {
   "display_name": "Python 3",
   "language": "python",
   "name": "python3"
  },
  "language_info": {
   "codemirror_mode": {
    "name": "ipython",
    "version": 3
   },
   "file_extension": ".py",
   "mimetype": "text/x-python",
   "name": "python",
   "nbconvert_exporter": "python",
   "pygments_lexer": "ipython3",
   "version": "3.7.6"
  }
 },
 "nbformat": 4,
 "nbformat_minor": 4
}
